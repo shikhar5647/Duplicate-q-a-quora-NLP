{
 "cells": [
  {
   "cell_type": "code",
   "execution_count": 1,
   "metadata": {
    "id": "C67rAns2pyYw"
   },
   "outputs": [],
   "source": [
    "import pandas as pd\n",
    "import numpy as np\n",
    "import seaborn as sns\n",
    "import matplotlib.pyplot as plt"
   ]
  },
  {
   "cell_type": "code",
   "execution_count": 2,
   "metadata": {
    "id": "esmi0sfIqF1I"
   },
   "outputs": [],
   "source": [
    "df=pd.read_csv(\"./train.csv\")"
   ]
  },
  {
   "cell_type": "code",
   "execution_count": 3,
   "metadata": {
    "colab": {
     "base_uri": "https://localhost:8080/",
     "height": 206
    },
    "id": "KbORqa1JvIuA",
    "outputId": "eb31f306-6582-46a1-a49c-c8d57466bcc7"
   },
   "outputs": [
    {
     "data": {
      "text/html": [
       "<div>\n",
       "<style scoped>\n",
       "    .dataframe tbody tr th:only-of-type {\n",
       "        vertical-align: middle;\n",
       "    }\n",
       "\n",
       "    .dataframe tbody tr th {\n",
       "        vertical-align: top;\n",
       "    }\n",
       "\n",
       "    .dataframe thead th {\n",
       "        text-align: right;\n",
       "    }\n",
       "</style>\n",
       "<table border=\"1\" class=\"dataframe\">\n",
       "  <thead>\n",
       "    <tr style=\"text-align: right;\">\n",
       "      <th></th>\n",
       "      <th>id</th>\n",
       "      <th>qid1</th>\n",
       "      <th>qid2</th>\n",
       "      <th>question1</th>\n",
       "      <th>question2</th>\n",
       "      <th>is_duplicate</th>\n",
       "    </tr>\n",
       "  </thead>\n",
       "  <tbody>\n",
       "    <tr>\n",
       "      <th>0</th>\n",
       "      <td>0</td>\n",
       "      <td>1</td>\n",
       "      <td>2</td>\n",
       "      <td>What is the step by step guide to invest in sh...</td>\n",
       "      <td>What is the step by step guide to invest in sh...</td>\n",
       "      <td>0</td>\n",
       "    </tr>\n",
       "    <tr>\n",
       "      <th>1</th>\n",
       "      <td>1</td>\n",
       "      <td>3</td>\n",
       "      <td>4</td>\n",
       "      <td>What is the story of Kohinoor (Koh-i-Noor) Dia...</td>\n",
       "      <td>What would happen if the Indian government sto...</td>\n",
       "      <td>0</td>\n",
       "    </tr>\n",
       "    <tr>\n",
       "      <th>2</th>\n",
       "      <td>2</td>\n",
       "      <td>5</td>\n",
       "      <td>6</td>\n",
       "      <td>How can I increase the speed of my internet co...</td>\n",
       "      <td>How can Internet speed be increased by hacking...</td>\n",
       "      <td>0</td>\n",
       "    </tr>\n",
       "    <tr>\n",
       "      <th>3</th>\n",
       "      <td>3</td>\n",
       "      <td>7</td>\n",
       "      <td>8</td>\n",
       "      <td>Why am I mentally very lonely? How can I solve...</td>\n",
       "      <td>Find the remainder when [math]23^{24}[/math] i...</td>\n",
       "      <td>0</td>\n",
       "    </tr>\n",
       "    <tr>\n",
       "      <th>4</th>\n",
       "      <td>4</td>\n",
       "      <td>9</td>\n",
       "      <td>10</td>\n",
       "      <td>Which one dissolve in water quikly sugar, salt...</td>\n",
       "      <td>Which fish would survive in salt water?</td>\n",
       "      <td>0</td>\n",
       "    </tr>\n",
       "  </tbody>\n",
       "</table>\n",
       "</div>"
      ],
      "text/plain": [
       "   id  qid1  qid2                                          question1  \\\n",
       "0   0     1     2  What is the step by step guide to invest in sh...   \n",
       "1   1     3     4  What is the story of Kohinoor (Koh-i-Noor) Dia...   \n",
       "2   2     5     6  How can I increase the speed of my internet co...   \n",
       "3   3     7     8  Why am I mentally very lonely? How can I solve...   \n",
       "4   4     9    10  Which one dissolve in water quikly sugar, salt...   \n",
       "\n",
       "                                           question2  is_duplicate  \n",
       "0  What is the step by step guide to invest in sh...             0  \n",
       "1  What would happen if the Indian government sto...             0  \n",
       "2  How can Internet speed be increased by hacking...             0  \n",
       "3  Find the remainder when [math]23^{24}[/math] i...             0  \n",
       "4            Which fish would survive in salt water?             0  "
      ]
     },
     "execution_count": 3,
     "metadata": {},
     "output_type": "execute_result"
    }
   ],
   "source": [
    "df.head()"
   ]
  },
  {
   "cell_type": "code",
   "execution_count": 4,
   "metadata": {
    "colab": {
     "base_uri": "https://localhost:8080/"
    },
    "id": "qA7YvyhOvMJF",
    "outputId": "48c856cd-3e04-4ad8-a895-9096f2562f27"
   },
   "outputs": [
    {
     "name": "stdout",
     "output_type": "stream",
     "text": [
      "<class 'pandas.core.frame.DataFrame'>\n",
      "RangeIndex: 404290 entries, 0 to 404289\n",
      "Data columns (total 6 columns):\n",
      " #   Column        Non-Null Count   Dtype \n",
      "---  ------        --------------   ----- \n",
      " 0   id            404290 non-null  int64 \n",
      " 1   qid1          404290 non-null  int64 \n",
      " 2   qid2          404290 non-null  int64 \n",
      " 3   question1     404289 non-null  object\n",
      " 4   question2     404288 non-null  object\n",
      " 5   is_duplicate  404290 non-null  int64 \n",
      "dtypes: int64(4), object(2)\n",
      "memory usage: 18.5+ MB\n"
     ]
    }
   ],
   "source": [
    "df.info()"
   ]
  },
  {
   "cell_type": "code",
   "execution_count": 5,
   "metadata": {
    "colab": {
     "base_uri": "https://localhost:8080/"
    },
    "id": "w24m3APxvMLl",
    "outputId": "5cee6fa9-64e0-4389-b96e-dc1d68630557"
   },
   "outputs": [
    {
     "data": {
      "text/plain": [
       "(404290, 6)"
      ]
     },
     "execution_count": 5,
     "metadata": {},
     "output_type": "execute_result"
    }
   ],
   "source": [
    "df.shape"
   ]
  },
  {
   "cell_type": "code",
   "execution_count": 6,
   "metadata": {
    "colab": {
     "base_uri": "https://localhost:8080/",
     "height": 206
    },
    "id": "1wub_iQrvMOB",
    "outputId": "23e9fc12-8409-41af-9ca9-508357beec5d"
   },
   "outputs": [
    {
     "data": {
      "text/html": [
       "<div>\n",
       "<style scoped>\n",
       "    .dataframe tbody tr th:only-of-type {\n",
       "        vertical-align: middle;\n",
       "    }\n",
       "\n",
       "    .dataframe tbody tr th {\n",
       "        vertical-align: top;\n",
       "    }\n",
       "\n",
       "    .dataframe thead th {\n",
       "        text-align: right;\n",
       "    }\n",
       "</style>\n",
       "<table border=\"1\" class=\"dataframe\">\n",
       "  <thead>\n",
       "    <tr style=\"text-align: right;\">\n",
       "      <th></th>\n",
       "      <th>id</th>\n",
       "      <th>qid1</th>\n",
       "      <th>qid2</th>\n",
       "      <th>question1</th>\n",
       "      <th>question2</th>\n",
       "      <th>is_duplicate</th>\n",
       "    </tr>\n",
       "  </thead>\n",
       "  <tbody>\n",
       "    <tr>\n",
       "      <th>205501</th>\n",
       "      <td>205501</td>\n",
       "      <td>308669</td>\n",
       "      <td>308670</td>\n",
       "      <td>How does Google know everything?</td>\n",
       "      <td>Is it possible to delete everything that Googl...</td>\n",
       "      <td>0</td>\n",
       "    </tr>\n",
       "    <tr>\n",
       "      <th>265333</th>\n",
       "      <td>265333</td>\n",
       "      <td>382286</td>\n",
       "      <td>34656</td>\n",
       "      <td>Is 293 a good score for gre?</td>\n",
       "      <td>Is A score of 319 in GRE a good score?</td>\n",
       "      <td>1</td>\n",
       "    </tr>\n",
       "    <tr>\n",
       "      <th>19910</th>\n",
       "      <td>19910</td>\n",
       "      <td>37610</td>\n",
       "      <td>37611</td>\n",
       "      <td>How strict are hostels?</td>\n",
       "      <td>How strict are the hostels in VIT?</td>\n",
       "      <td>0</td>\n",
       "    </tr>\n",
       "    <tr>\n",
       "      <th>165116</th>\n",
       "      <td>165116</td>\n",
       "      <td>256451</td>\n",
       "      <td>256452</td>\n",
       "      <td>How do I get good at Minecraft?</td>\n",
       "      <td>How do I get better at Minecraft?</td>\n",
       "      <td>1</td>\n",
       "    </tr>\n",
       "    <tr>\n",
       "      <th>4202</th>\n",
       "      <td>4202</td>\n",
       "      <td>8310</td>\n",
       "      <td>8311</td>\n",
       "      <td>I am an engineering student. During my exam da...</td>\n",
       "      <td>Is it normal to sleep for more than 10 hours i...</td>\n",
       "      <td>0</td>\n",
       "    </tr>\n",
       "  </tbody>\n",
       "</table>\n",
       "</div>"
      ],
      "text/plain": [
       "            id    qid1    qid2  \\\n",
       "205501  205501  308669  308670   \n",
       "265333  265333  382286   34656   \n",
       "19910    19910   37610   37611   \n",
       "165116  165116  256451  256452   \n",
       "4202      4202    8310    8311   \n",
       "\n",
       "                                                question1  \\\n",
       "205501                   How does Google know everything?   \n",
       "265333                       Is 293 a good score for gre?   \n",
       "19910                             How strict are hostels?   \n",
       "165116                    How do I get good at Minecraft?   \n",
       "4202    I am an engineering student. During my exam da...   \n",
       "\n",
       "                                                question2  is_duplicate  \n",
       "205501  Is it possible to delete everything that Googl...             0  \n",
       "265333             Is A score of 319 in GRE a good score?             1  \n",
       "19910                  How strict are the hostels in VIT?             0  \n",
       "165116                  How do I get better at Minecraft?             1  \n",
       "4202    Is it normal to sleep for more than 10 hours i...             0  "
      ]
     },
     "execution_count": 6,
     "metadata": {},
     "output_type": "execute_result"
    }
   ],
   "source": [
    "df.sample(5)"
   ]
  },
  {
   "cell_type": "code",
   "execution_count": 7,
   "metadata": {
    "colab": {
     "base_uri": "https://localhost:8080/"
    },
    "id": "N5p4vCB0vMRR",
    "outputId": "57f5bd63-9795-4019-cbcd-4a75395f38fe"
   },
   "outputs": [
    {
     "data": {
      "text/plain": [
       "id              0\n",
       "qid1            0\n",
       "qid2            0\n",
       "question1       1\n",
       "question2       2\n",
       "is_duplicate    0\n",
       "dtype: int64"
      ]
     },
     "execution_count": 7,
     "metadata": {},
     "output_type": "execute_result"
    }
   ],
   "source": [
    "df.isnull().sum()"
   ]
  },
  {
   "cell_type": "code",
   "execution_count": 8,
   "metadata": {
    "colab": {
     "base_uri": "https://localhost:8080/"
    },
    "id": "T193we-gvMUw",
    "outputId": "25f50529-1970-4f9b-8617-87861f256d42"
   },
   "outputs": [
    {
     "data": {
      "text/plain": [
       "0"
      ]
     },
     "execution_count": 8,
     "metadata": {},
     "output_type": "execute_result"
    }
   ],
   "source": [
    "df.duplicated().sum()"
   ]
  },
  {
   "cell_type": "code",
   "execution_count": 9,
   "metadata": {
    "colab": {
     "base_uri": "https://localhost:8080/"
    },
    "id": "z7JYugh7x-Hy",
    "outputId": "78156b50-1a65-4311-a143-59a650c7c899"
   },
   "outputs": [
    {
     "name": "stdout",
     "output_type": "stream",
     "text": [
      "is_duplicate\n",
      "0    255027\n",
      "1    149263\n",
      "Name: count, dtype: int64\n"
     ]
    }
   ],
   "source": [
    "print(df['is_duplicate'].value_counts())"
   ]
  },
  {
   "cell_type": "code",
   "execution_count": 10,
   "metadata": {
    "colab": {
     "base_uri": "https://localhost:8080/",
     "height": 461
    },
    "id": "nN8-ZDs8yIv6",
    "outputId": "55f93043-f4e3-4661-fe2f-60152e628bb3"
   },
   "outputs": [
    {
     "data": {
      "text/plain": [
       "<Axes: xlabel='is_duplicate'>"
      ]
     },
     "execution_count": 10,
     "metadata": {},
     "output_type": "execute_result"
    },
    {
     "data": {
      "image/png": "[encoded data removed]",
      "text/plain": [
       "<Figure size 640x480 with 1 Axes>"
      ]
     },
     "metadata": {},
     "output_type": "display_data"
    }
   ],
   "source": [
    "df['is_duplicate'].value_counts().plot(kind='bar')"
   ]
  },
  {
   "cell_type": "code",
   "execution_count": 11,
   "metadata": {
    "colab": {
     "base_uri": "https://localhost:8080/"
    },
    "id": "cXnfHp27yRjm",
    "outputId": "78a761bd-9bb3-44a9-992f-646cbe4838da"
   },
   "outputs": [
    {
     "name": "stdout",
     "output_type": "stream",
     "text": [
      "Number of unique questions- 537933\n"
     ]
    }
   ],
   "source": [
    "qid=pd.Series(df['qid1'].tolist()+df['qid2'].tolist())\n",
    "print('Number of unique questions-',np.unique(qid).shape[0])"
   ]
  },
  {
   "cell_type": "code",
   "execution_count": 12,
   "metadata": {
    "colab": {
     "base_uri": "https://localhost:8080/",
     "height": 430
    },
    "id": "M7NOwe0yy0ZH",
    "outputId": "17a75099-09f9-4074-93fd-785c9e564b18"
   },
   "outputs": [
    {
     "data": {
      "image/png": "[encoded data removed]",
      "text/plain": [
       "<Figure size 640x480 with 1 Axes>"
      ]
     },
     "metadata": {},
     "output_type": "display_data"
    }
   ],
   "source": [
    "plt.hist(qid.value_counts().values,bins=160)\n",
    "plt.yscale('log')\n",
    "plt.show()"
   ]
  },
  {
   "cell_type": "code",
   "execution_count": 13,
   "metadata": {
    "id": "WDxrHDAZPzUc"
   },
   "outputs": [],
   "source": [
    "new_df=df.sample(30000)"
   ]
  },
  {
   "cell_type": "code",
   "execution_count": 14,
   "metadata": {
    "colab": {
     "base_uri": "https://localhost:8080/"
    },
    "id": "tmVxA_SdRdDs",
    "outputId": "7b12b8d6-44db-4dcb-9332-a7f110f9e535"
   },
   "outputs": [
    {
     "data": {
      "text/plain": [
       "id              0\n",
       "qid1            0\n",
       "qid2            0\n",
       "question1       0\n",
       "question2       0\n",
       "is_duplicate    0\n",
       "dtype: int64"
      ]
     },
     "execution_count": 14,
     "metadata": {},
     "output_type": "execute_result"
    }
   ],
   "source": [
    "new_df.isnull().sum()"
   ]
  },
  {
   "cell_type": "code",
   "execution_count": 15,
   "metadata": {
    "id": "3TJQKQnnRgu_"
   },
   "outputs": [],
   "source": [
    "new_df = new_df.dropna(subset=['question2'])"
   ]
  },
  {
   "cell_type": "code",
   "execution_count": 16,
   "metadata": {
    "colab": {
     "base_uri": "https://localhost:8080/"
    },
    "id": "mdQ5gFbkR-GB",
    "outputId": "44e87772-7137-42c0-9435-276af8ebcd07"
   },
   "outputs": [
    {
     "data": {
      "text/plain": [
       "id              0\n",
       "qid1            0\n",
       "qid2            0\n",
       "question1       0\n",
       "question2       0\n",
       "is_duplicate    0\n",
       "dtype: int64"
      ]
     },
     "execution_count": 16,
     "metadata": {},
     "output_type": "execute_result"
    }
   ],
   "source": [
    "new_df.isnull().sum()"
   ]
  },
  {
   "cell_type": "code",
   "execution_count": 17,
   "metadata": {
    "colab": {
     "base_uri": "https://localhost:8080/"
    },
    "id": "3p1ozJiDSAZ1",
    "outputId": "6c6dce38-d3f4-4025-c951-50c7ed6058f8"
   },
   "outputs": [
    {
     "name": "stdout",
     "output_type": "stream",
     "text": [
      "<class 'pandas.core.frame.DataFrame'>\n",
      "Index: 30000 entries, 233924 to 273498\n",
      "Data columns (total 6 columns):\n",
      " #   Column        Non-Null Count  Dtype \n",
      "---  ------        --------------  ----- \n",
      " 0   id            30000 non-null  int64 \n",
      " 1   qid1          30000 non-null  int64 \n",
      " 2   qid2          30000 non-null  int64 \n",
      " 3   question1     30000 non-null  object\n",
      " 4   question2     30000 non-null  object\n",
      " 5   is_duplicate  30000 non-null  int64 \n",
      "dtypes: int64(4), object(2)\n",
      "memory usage: 1.6+ MB\n"
     ]
    }
   ],
   "source": [
    "new_df.info()"
   ]
  },
  {
   "cell_type": "code",
   "execution_count": 18,
   "metadata": {
    "id": "HYS5xE_WSB1f"
   },
   "outputs": [],
   "source": [
    "ques_df=new_df[['question1','question2']]"
   ]
  },
  {
   "cell_type": "code",
   "execution_count": 19,
   "metadata": {
    "colab": {
     "base_uri": "https://localhost:8080/",
     "height": 206
    },
    "id": "MlLPQVl4SMW3",
    "outputId": "a85944ba-e537-4d28-c09b-48f28e9ab257"
   },
   "outputs": [
    {
     "data": {
      "text/html": [
       "<div>\n",
       "<style scoped>\n",
       "    .dataframe tbody tr th:only-of-type {\n",
       "        vertical-align: middle;\n",
       "    }\n",
       "\n",
       "    .dataframe tbody tr th {\n",
       "        vertical-align: top;\n",
       "    }\n",
       "\n",
       "    .dataframe thead th {\n",
       "        text-align: right;\n",
       "    }\n",
       "</style>\n",
       "<table border=\"1\" class=\"dataframe\">\n",
       "  <thead>\n",
       "    <tr style=\"text-align: right;\">\n",
       "      <th></th>\n",
       "      <th>question1</th>\n",
       "      <th>question2</th>\n",
       "    </tr>\n",
       "  </thead>\n",
       "  <tbody>\n",
       "    <tr>\n",
       "      <th>233924</th>\n",
       "      <td>What are the uses of iPhone?</td>\n",
       "      <td>What do you use your iPhone for?</td>\n",
       "    </tr>\n",
       "    <tr>\n",
       "      <th>240940</th>\n",
       "      <td>For the LinkedIn Connection network graph how ...</td>\n",
       "      <td>What are good ways to find all the possible pa...</td>\n",
       "    </tr>\n",
       "    <tr>\n",
       "      <th>371221</th>\n",
       "      <td>Who are the richest people in the world?</td>\n",
       "      <td>Who are the richest people in the world and wh...</td>\n",
       "    </tr>\n",
       "    <tr>\n",
       "      <th>146536</th>\n",
       "      <td>What are the 11 dimensions in string theory?</td>\n",
       "      <td>Different theories state there are either 10 o...</td>\n",
       "    </tr>\n",
       "    <tr>\n",
       "      <th>350406</th>\n",
       "      <td>How can you differentiate between a democracy ...</td>\n",
       "      <td>What is difference between democracy and repulic?</td>\n",
       "    </tr>\n",
       "  </tbody>\n",
       "</table>\n",
       "</div>"
      ],
      "text/plain": [
       "                                                question1  \\\n",
       "233924                       What are the uses of iPhone?   \n",
       "240940  For the LinkedIn Connection network graph how ...   \n",
       "371221           Who are the richest people in the world?   \n",
       "146536       What are the 11 dimensions in string theory?   \n",
       "350406  How can you differentiate between a democracy ...   \n",
       "\n",
       "                                                question2  \n",
       "233924                   What do you use your iPhone for?  \n",
       "240940  What are good ways to find all the possible pa...  \n",
       "371221  Who are the richest people in the world and wh...  \n",
       "146536  Different theories state there are either 10 o...  \n",
       "350406  What is difference between democracy and repulic?  "
      ]
     },
     "execution_count": 19,
     "metadata": {},
     "output_type": "execute_result"
    }
   ],
   "source": [
    "ques_df.head()"
   ]
  },
  {
   "cell_type": "code",
   "execution_count": 20,
   "metadata": {
    "id": "rxz8kveYSOwz"
   },
   "outputs": [],
   "source": [
    "from sklearn.feature_extraction.text import CountVectorizer\n",
    "questions=list(ques_df['question1'])+list(ques_df['question2'])\n",
    "cv=CountVectorizer(max_features=3000)\n",
    "q1_arr,q2_arr=np.vsplit(cv.fit_transform(questions).toarray(),2)"
   ]
  },
  {
   "cell_type": "code",
   "execution_count": 21,
   "metadata": {
    "colab": {
     "base_uri": "https://localhost:8080/"
    },
    "id": "Wz6bYcDnT4gz",
    "outputId": "a844543b-6797-4b83-fe6c-604ecb689d17"
   },
   "outputs": [
    {
     "data": {
      "text/plain": [
       "(30000, 6000)"
      ]
     },
     "execution_count": 21,
     "metadata": {},
     "output_type": "execute_result"
    }
   ],
   "source": [
    "temp_df1=pd.DataFrame(q1_arr,index=ques_df.index)\n",
    "temp_df2=pd.DataFrame(q2_arr,index=ques_df.index)\n",
    "temp_df=pd.concat([temp_df1,temp_df2],axis=1)\n",
    "temp_df.shape"
   ]
  },
  {
   "cell_type": "code",
   "execution_count": 22,
   "metadata": {
    "colab": {
     "base_uri": "https://localhost:8080/",
     "height": 235
    },
    "id": "OGPdPdaxUUgH",
    "outputId": "a469ae39-755e-4edc-dc7c-f29a888cf611"
   },
   "outputs": [
    {
     "data": {
      "text/html": [
       "<div>\n",
       "<style scoped>\n",
       "    .dataframe tbody tr th:only-of-type {\n",
       "        vertical-align: middle;\n",
       "    }\n",
       "\n",
       "    .dataframe tbody tr th {\n",
       "        vertical-align: top;\n",
       "    }\n",
       "\n",
       "    .dataframe thead th {\n",
       "        text-align: right;\n",
       "    }\n",
       "</style>\n",
       "<table border=\"1\" class=\"dataframe\">\n",
       "  <thead>\n",
       "    <tr style=\"text-align: right;\">\n",
       "      <th></th>\n",
       "      <th>0</th>\n",
       "      <th>1</th>\n",
       "      <th>2</th>\n",
       "      <th>3</th>\n",
       "      <th>4</th>\n",
       "      <th>5</th>\n",
       "      <th>6</th>\n",
       "      <th>7</th>\n",
       "      <th>8</th>\n",
       "      <th>9</th>\n",
       "      <th>...</th>\n",
       "      <th>2990</th>\n",
       "      <th>2991</th>\n",
       "      <th>2992</th>\n",
       "      <th>2993</th>\n",
       "      <th>2994</th>\n",
       "      <th>2995</th>\n",
       "      <th>2996</th>\n",
       "      <th>2997</th>\n",
       "      <th>2998</th>\n",
       "      <th>2999</th>\n",
       "    </tr>\n",
       "  </thead>\n",
       "  <tbody>\n",
       "    <tr>\n",
       "      <th>233924</th>\n",
       "      <td>0</td>\n",
       "      <td>0</td>\n",
       "      <td>0</td>\n",
       "      <td>0</td>\n",
       "      <td>0</td>\n",
       "      <td>0</td>\n",
       "      <td>0</td>\n",
       "      <td>0</td>\n",
       "      <td>0</td>\n",
       "      <td>0</td>\n",
       "      <td>...</td>\n",
       "      <td>0</td>\n",
       "      <td>1</td>\n",
       "      <td>0</td>\n",
       "      <td>0</td>\n",
       "      <td>1</td>\n",
       "      <td>0</td>\n",
       "      <td>0</td>\n",
       "      <td>0</td>\n",
       "      <td>0</td>\n",
       "      <td>0</td>\n",
       "    </tr>\n",
       "    <tr>\n",
       "      <th>240940</th>\n",
       "      <td>0</td>\n",
       "      <td>0</td>\n",
       "      <td>0</td>\n",
       "      <td>0</td>\n",
       "      <td>0</td>\n",
       "      <td>0</td>\n",
       "      <td>0</td>\n",
       "      <td>0</td>\n",
       "      <td>0</td>\n",
       "      <td>0</td>\n",
       "      <td>...</td>\n",
       "      <td>0</td>\n",
       "      <td>0</td>\n",
       "      <td>0</td>\n",
       "      <td>0</td>\n",
       "      <td>0</td>\n",
       "      <td>0</td>\n",
       "      <td>0</td>\n",
       "      <td>0</td>\n",
       "      <td>0</td>\n",
       "      <td>0</td>\n",
       "    </tr>\n",
       "    <tr>\n",
       "      <th>371221</th>\n",
       "      <td>0</td>\n",
       "      <td>0</td>\n",
       "      <td>0</td>\n",
       "      <td>0</td>\n",
       "      <td>0</td>\n",
       "      <td>0</td>\n",
       "      <td>0</td>\n",
       "      <td>0</td>\n",
       "      <td>0</td>\n",
       "      <td>0</td>\n",
       "      <td>...</td>\n",
       "      <td>0</td>\n",
       "      <td>0</td>\n",
       "      <td>0</td>\n",
       "      <td>0</td>\n",
       "      <td>0</td>\n",
       "      <td>0</td>\n",
       "      <td>0</td>\n",
       "      <td>0</td>\n",
       "      <td>0</td>\n",
       "      <td>0</td>\n",
       "    </tr>\n",
       "    <tr>\n",
       "      <th>146536</th>\n",
       "      <td>0</td>\n",
       "      <td>0</td>\n",
       "      <td>0</td>\n",
       "      <td>0</td>\n",
       "      <td>0</td>\n",
       "      <td>1</td>\n",
       "      <td>0</td>\n",
       "      <td>0</td>\n",
       "      <td>0</td>\n",
       "      <td>0</td>\n",
       "      <td>...</td>\n",
       "      <td>0</td>\n",
       "      <td>0</td>\n",
       "      <td>0</td>\n",
       "      <td>0</td>\n",
       "      <td>0</td>\n",
       "      <td>0</td>\n",
       "      <td>0</td>\n",
       "      <td>0</td>\n",
       "      <td>0</td>\n",
       "      <td>0</td>\n",
       "    </tr>\n",
       "    <tr>\n",
       "      <th>350406</th>\n",
       "      <td>0</td>\n",
       "      <td>0</td>\n",
       "      <td>0</td>\n",
       "      <td>0</td>\n",
       "      <td>0</td>\n",
       "      <td>0</td>\n",
       "      <td>0</td>\n",
       "      <td>0</td>\n",
       "      <td>0</td>\n",
       "      <td>0</td>\n",
       "      <td>...</td>\n",
       "      <td>0</td>\n",
       "      <td>0</td>\n",
       "      <td>0</td>\n",
       "      <td>0</td>\n",
       "      <td>0</td>\n",
       "      <td>0</td>\n",
       "      <td>0</td>\n",
       "      <td>0</td>\n",
       "      <td>0</td>\n",
       "      <td>0</td>\n",
       "    </tr>\n",
       "  </tbody>\n",
       "</table>\n",
       "<p>5 rows × 6000 columns</p>\n",
       "</div>"
      ],
      "text/plain": [
       "        0     1     2     3     4     5     6     7     8     9     ...  2990  \\\n",
       "233924     0     0     0     0     0     0     0     0     0     0  ...     0   \n",
       "240940     0     0     0     0     0     0     0     0     0     0  ...     0   \n",
       "371221     0     0     0     0     0     0     0     0     0     0  ...     0   \n",
       "146536     0     0     0     0     0     1     0     0     0     0  ...     0   \n",
       "350406     0     0     0     0     0     0     0     0     0     0  ...     0   \n",
       "\n",
       "        2991  2992  2993  2994  2995  2996  2997  2998  2999  \n",
       "233924     1     0     0     1     0     0     0     0     0  \n",
       "240940     0     0     0     0     0     0     0     0     0  \n",
       "371221     0     0     0     0     0     0     0     0     0  \n",
       "146536     0     0     0     0     0     0     0     0     0  \n",
       "350406     0     0     0     0     0     0     0     0     0  \n",
       "\n",
       "[5 rows x 6000 columns]"
      ]
     },
     "execution_count": 22,
     "metadata": {},
     "output_type": "execute_result"
    }
   ],
   "source": [
    "temp_df.head()"
   ]
  },
  {
   "cell_type": "code",
   "execution_count": 23,
   "metadata": {
    "id": "UBU6MOD-Ua1P"
   },
   "outputs": [],
   "source": [
    "temp_df['is_duplicate']=new_df['is_duplicate']"
   ]
  },
  {
   "cell_type": "code",
   "execution_count": 24,
   "metadata": {
    "colab": {
     "base_uri": "https://localhost:8080/",
     "height": 235
    },
    "id": "e1_yABWWUsjC",
    "outputId": "baf3ce04-09c9-46c5-bc1d-c2ba34417277"
   },
   "outputs": [
    {
     "data": {
      "text/html": [
       "<div>\n",
       "<style scoped>\n",
       "    .dataframe tbody tr th:only-of-type {\n",
       "        vertical-align: middle;\n",
       "    }\n",
       "\n",
       "    .dataframe tbody tr th {\n",
       "        vertical-align: top;\n",
       "    }\n",
       "\n",
       "    .dataframe thead th {\n",
       "        text-align: right;\n",
       "    }\n",
       "</style>\n",
       "<table border=\"1\" class=\"dataframe\">\n",
       "  <thead>\n",
       "    <tr style=\"text-align: right;\">\n",
       "      <th></th>\n",
       "      <th>0</th>\n",
       "      <th>1</th>\n",
       "      <th>2</th>\n",
       "      <th>3</th>\n",
       "      <th>4</th>\n",
       "      <th>5</th>\n",
       "      <th>6</th>\n",
       "      <th>7</th>\n",
       "      <th>8</th>\n",
       "      <th>9</th>\n",
       "      <th>...</th>\n",
       "      <th>2991</th>\n",
       "      <th>2992</th>\n",
       "      <th>2993</th>\n",
       "      <th>2994</th>\n",
       "      <th>2995</th>\n",
       "      <th>2996</th>\n",
       "      <th>2997</th>\n",
       "      <th>2998</th>\n",
       "      <th>2999</th>\n",
       "      <th>is_duplicate</th>\n",
       "    </tr>\n",
       "  </thead>\n",
       "  <tbody>\n",
       "    <tr>\n",
       "      <th>233924</th>\n",
       "      <td>0</td>\n",
       "      <td>0</td>\n",
       "      <td>0</td>\n",
       "      <td>0</td>\n",
       "      <td>0</td>\n",
       "      <td>0</td>\n",
       "      <td>0</td>\n",
       "      <td>0</td>\n",
       "      <td>0</td>\n",
       "      <td>0</td>\n",
       "      <td>...</td>\n",
       "      <td>1</td>\n",
       "      <td>0</td>\n",
       "      <td>0</td>\n",
       "      <td>1</td>\n",
       "      <td>0</td>\n",
       "      <td>0</td>\n",
       "      <td>0</td>\n",
       "      <td>0</td>\n",
       "      <td>0</td>\n",
       "      <td>0</td>\n",
       "    </tr>\n",
       "    <tr>\n",
       "      <th>240940</th>\n",
       "      <td>0</td>\n",
       "      <td>0</td>\n",
       "      <td>0</td>\n",
       "      <td>0</td>\n",
       "      <td>0</td>\n",
       "      <td>0</td>\n",
       "      <td>0</td>\n",
       "      <td>0</td>\n",
       "      <td>0</td>\n",
       "      <td>0</td>\n",
       "      <td>...</td>\n",
       "      <td>0</td>\n",
       "      <td>0</td>\n",
       "      <td>0</td>\n",
       "      <td>0</td>\n",
       "      <td>0</td>\n",
       "      <td>0</td>\n",
       "      <td>0</td>\n",
       "      <td>0</td>\n",
       "      <td>0</td>\n",
       "      <td>0</td>\n",
       "    </tr>\n",
       "    <tr>\n",
       "      <th>371221</th>\n",
       "      <td>0</td>\n",
       "      <td>0</td>\n",
       "      <td>0</td>\n",
       "      <td>0</td>\n",
       "      <td>0</td>\n",
       "      <td>0</td>\n",
       "      <td>0</td>\n",
       "      <td>0</td>\n",
       "      <td>0</td>\n",
       "      <td>0</td>\n",
       "      <td>...</td>\n",
       "      <td>0</td>\n",
       "      <td>0</td>\n",
       "      <td>0</td>\n",
       "      <td>0</td>\n",
       "      <td>0</td>\n",
       "      <td>0</td>\n",
       "      <td>0</td>\n",
       "      <td>0</td>\n",
       "      <td>0</td>\n",
       "      <td>1</td>\n",
       "    </tr>\n",
       "    <tr>\n",
       "      <th>146536</th>\n",
       "      <td>0</td>\n",
       "      <td>0</td>\n",
       "      <td>0</td>\n",
       "      <td>0</td>\n",
       "      <td>0</td>\n",
       "      <td>1</td>\n",
       "      <td>0</td>\n",
       "      <td>0</td>\n",
       "      <td>0</td>\n",
       "      <td>0</td>\n",
       "      <td>...</td>\n",
       "      <td>0</td>\n",
       "      <td>0</td>\n",
       "      <td>0</td>\n",
       "      <td>0</td>\n",
       "      <td>0</td>\n",
       "      <td>0</td>\n",
       "      <td>0</td>\n",
       "      <td>0</td>\n",
       "      <td>0</td>\n",
       "      <td>0</td>\n",
       "    </tr>\n",
       "    <tr>\n",
       "      <th>350406</th>\n",
       "      <td>0</td>\n",
       "      <td>0</td>\n",
       "      <td>0</td>\n",
       "      <td>0</td>\n",
       "      <td>0</td>\n",
       "      <td>0</td>\n",
       "      <td>0</td>\n",
       "      <td>0</td>\n",
       "      <td>0</td>\n",
       "      <td>0</td>\n",
       "      <td>...</td>\n",
       "      <td>0</td>\n",
       "      <td>0</td>\n",
       "      <td>0</td>\n",
       "      <td>0</td>\n",
       "      <td>0</td>\n",
       "      <td>0</td>\n",
       "      <td>0</td>\n",
       "      <td>0</td>\n",
       "      <td>0</td>\n",
       "      <td>1</td>\n",
       "    </tr>\n",
       "  </tbody>\n",
       "</table>\n",
       "<p>5 rows × 6001 columns</p>\n",
       "</div>"
      ],
      "text/plain": [
       "        0  1  2  3  4  5  6  7  8  9  ...  2991  2992  2993  2994  2995  2996  \\\n",
       "233924  0  0  0  0  0  0  0  0  0  0  ...     1     0     0     1     0     0   \n",
       "240940  0  0  0  0  0  0  0  0  0  0  ...     0     0     0     0     0     0   \n",
       "371221  0  0  0  0  0  0  0  0  0  0  ...     0     0     0     0     0     0   \n",
       "146536  0  0  0  0  0  1  0  0  0  0  ...     0     0     0     0     0     0   \n",
       "350406  0  0  0  0  0  0  0  0  0  0  ...     0     0     0     0     0     0   \n",
       "\n",
       "        2997  2998  2999  is_duplicate  \n",
       "233924     0     0     0             0  \n",
       "240940     0     0     0             0  \n",
       "371221     0     0     0             1  \n",
       "146536     0     0     0             0  \n",
       "350406     0     0     0             1  \n",
       "\n",
       "[5 rows x 6001 columns]"
      ]
     },
     "execution_count": 24,
     "metadata": {},
     "output_type": "execute_result"
    }
   ],
   "source": [
    "temp_df.head()"
   ]
  },
  {
   "cell_type": "code",
   "execution_count": 25,
   "metadata": {
    "id": "tanEQtfgUuxY"
   },
   "outputs": [],
   "source": [
    "from sklearn.model_selection import train_test_split\n",
    "X_train,X_test,y_train,y_test=train_test_split(temp_df.iloc[:,0:-1].values,temp_df.iloc[:,-1].values,test_size=0.2,random_state=42)"
   ]
  },
  {
   "cell_type": "code",
   "execution_count": 26,
   "metadata": {
    "colab": {
     "base_uri": "https://localhost:8080/"
    },
    "id": "S1bC0o3HVRP0",
    "outputId": "d06fd40d-f535-498d-ea59-c18aca37adda"
   },
   "outputs": [
    {
     "data": {
      "text/plain": [
       "0.7461666666666666"
      ]
     },
     "execution_count": 26,
     "metadata": {},
     "output_type": "execute_result"
    }
   ],
   "source": [
    "from sklearn.ensemble import RandomForestClassifier\n",
    "from sklearn.metrics import accuracy_score\n",
    "rf=RandomForestClassifier()\n",
    "rf.fit(X_train,y_train)\n",
    "y_pred=rf.predict(X_test)\n",
    "accuracy_score(y_test,y_pred)"
   ]
  },
  {
   "cell_type": "code",
   "execution_count": 28,
   "metadata": {},
   "outputs": [
    {
     "name": "stdout",
     "output_type": "stream",
     "text": [
      "Defaulting to user installation because normal site-packages is not writeable\n",
      "Collecting xgboost\n",
      "  Downloading xgboost-2.0.3-py3-none-manylinux2014_x86_64.whl.metadata (2.0 kB)\n",
      "Requirement already satisfied: numpy in /home/palashdas/.local/lib/python3.8/site-packages (from xgboost) (1.24.3)\n",
      "Requirement already satisfied: scipy in /home/palashdas/.local/lib/python3.8/site-packages (from xgboost) (1.9.3)\n",
      "Downloading xgboost-2.0.3-py3-none-manylinux2014_x86_64.whl (297.1 MB)\n",
      "\u001b[2K   \u001b[90m━━━━━━━━━━━━━━━━━━━━━━━━━━━━━━━━━━━━━━━━\u001b[0m \u001b[32m297.1/297.1 MB\u001b[0m \u001b[31m5.6 MB/s\u001b[0m eta \u001b[36m0:00:00\u001b[0m:00:01\u001b[0m00:01\u001b[0m\n",
      "\u001b[?25h\u001b[33mDEPRECATION: pytorch-lightning 1.6.5 has a non-standard dependency specifier torch>=1.8.*. pip 24.1 will enforce this behaviour change. A possible replacement is to upgrade to a newer version of pytorch-lightning or contact the author to suggest that they release a version with a conforming dependency specifiers. Discussion can be found at https://github.com/pypa/pip/issues/12063\u001b[0m\u001b[33m\n",
      "\u001b[0mInstalling collected packages: xgboost\n",
      "Successfully installed xgboost-2.0.3\n"
     ]
    }
   ],
   "source": [
    "!pip install xgboost"
   ]
  },
  {
   "cell_type": "code",
   "execution_count": 29,
   "metadata": {
    "colab": {
     "base_uri": "https://localhost:8080/"
    },
    "id": "41r6ebRAVryO",
    "outputId": "64865ee0-d7ed-47da-a1da-05f3f9ebd930"
   },
   "outputs": [
    {
     "data": {
      "text/plain": [
       "0.7461666666666666"
      ]
     },
     "execution_count": 29,
     "metadata": {},
     "output_type": "execute_result"
    }
   ],
   "source": [
    "from xgboost import XGBClassifier\n",
    "xgb=XGBClassifier()\n",
    "xgb.fit(X_train,y_train)\n",
    "y_pred=rf.predict(X_test)\n",
    "accuracy_score(y_test,y_pred)"
   ]
  },
  {
   "cell_type": "code",
   "execution_count": 30,
   "metadata": {
    "colab": {
     "base_uri": "https://localhost:8080/"
    },
    "id": "wEiI6HVGWgeD",
    "outputId": "e1bb126b-94e1-4294-f310-cf8960df260d"
   },
   "outputs": [
    {
     "data": {
      "text/plain": [
       "id              0\n",
       "qid1            0\n",
       "qid2            0\n",
       "question1       0\n",
       "question2       0\n",
       "is_duplicate    0\n",
       "dtype: int64"
      ]
     },
     "execution_count": 30,
     "metadata": {},
     "output_type": "execute_result"
    }
   ],
   "source": [
    "new_df.isnull().sum()"
   ]
  },
  {
   "cell_type": "code",
   "execution_count": 31,
   "metadata": {
    "colab": {
     "base_uri": "https://localhost:8080/",
     "height": 461
    },
    "id": "ZoBjFmQoCo6d",
    "outputId": "8ea27e83-d8d9-4a77-c6ce-6b5eab932cb8"
   },
   "outputs": [
    {
     "data": {
      "text/plain": [
       "<Axes: xlabel='is_duplicate'>"
      ]
     },
     "execution_count": 31,
     "metadata": {},
     "output_type": "execute_result"
    },
    {
     "data": {
      "image/png": "[encoded data removed]",
      "text/plain": [
       "<Figure size 640x480 with 1 Axes>"
      ]
     },
     "metadata": {},
     "output_type": "display_data"
    }
   ],
   "source": [
    "new_df['is_duplicate'].value_counts().plot(kind='bar')"
   ]
  },
  {
   "cell_type": "code",
   "execution_count": 32,
   "metadata": {
    "colab": {
     "base_uri": "https://localhost:8080/"
    },
    "id": "iqsvYyNyIbmX",
    "outputId": "49e9ac15-26a6-4c11-a1c8-a1da593f04da"
   },
   "outputs": [
    {
     "name": "stdout",
     "output_type": "stream",
     "text": [
      "Number of unique questions- 55305\n"
     ]
    }
   ],
   "source": [
    "qid=pd.Series(new_df['qid1'].tolist()+new_df['qid2'].tolist())\n",
    "print('Number of unique questions-',np.unique(qid).shape[0])"
   ]
  },
  {
   "cell_type": "code",
   "execution_count": 33,
   "metadata": {
    "colab": {
     "base_uri": "https://localhost:8080/",
     "height": 430
    },
    "id": "3JNxwlSgI0-Z",
    "outputId": "01e71fe6-d836-4f31-c042-f4bbd0a60d75"
   },
   "outputs": [
    {
     "data": {
      "image/png": "[encoded data removed]",
      "text/plain": [
       "<Figure size 640x480 with 1 Axes>"
      ]
     },
     "metadata": {},
     "output_type": "display_data"
    }
   ],
   "source": [
    "plt.hist(qid.value_counts().values,bins=160)\n",
    "plt.yscale('log')\n",
    "plt.show()"
   ]
  },
  {
   "cell_type": "code",
   "execution_count": 34,
   "metadata": {
    "id": "Oxd0teL8JDTp"
   },
   "outputs": [],
   "source": [
    "new_df['q1_len']=new_df['question1'].str.len()\n",
    "new_df['q2_len']=new_df['question2'].str.len()"
   ]
  },
  {
   "cell_type": "code",
   "execution_count": 35,
   "metadata": {
    "colab": {
     "base_uri": "https://localhost:8080/",
     "height": 275
    },
    "id": "iNqZ1tPhKPL9",
    "outputId": "8c41eeaf-df7b-486b-bc21-ee63f7dd1d47"
   },
   "outputs": [
    {
     "data": {
      "text/html": [
       "<div>\n",
       "<style scoped>\n",
       "    .dataframe tbody tr th:only-of-type {\n",
       "        vertical-align: middle;\n",
       "    }\n",
       "\n",
       "    .dataframe tbody tr th {\n",
       "        vertical-align: top;\n",
       "    }\n",
       "\n",
       "    .dataframe thead th {\n",
       "        text-align: right;\n",
       "    }\n",
       "</style>\n",
       "<table border=\"1\" class=\"dataframe\">\n",
       "  <thead>\n",
       "    <tr style=\"text-align: right;\">\n",
       "      <th></th>\n",
       "      <th>id</th>\n",
       "      <th>qid1</th>\n",
       "      <th>qid2</th>\n",
       "      <th>question1</th>\n",
       "      <th>question2</th>\n",
       "      <th>is_duplicate</th>\n",
       "      <th>q1_len</th>\n",
       "      <th>q2_len</th>\n",
       "    </tr>\n",
       "  </thead>\n",
       "  <tbody>\n",
       "    <tr>\n",
       "      <th>233924</th>\n",
       "      <td>233924</td>\n",
       "      <td>344292</td>\n",
       "      <td>344293</td>\n",
       "      <td>What are the uses of iPhone?</td>\n",
       "      <td>What do you use your iPhone for?</td>\n",
       "      <td>0</td>\n",
       "      <td>28</td>\n",
       "      <td>32</td>\n",
       "    </tr>\n",
       "    <tr>\n",
       "      <th>240940</th>\n",
       "      <td>240940</td>\n",
       "      <td>352865</td>\n",
       "      <td>248783</td>\n",
       "      <td>For the LinkedIn Connection network graph how ...</td>\n",
       "      <td>What are good ways to find all the possible pa...</td>\n",
       "      <td>0</td>\n",
       "      <td>106</td>\n",
       "      <td>88</td>\n",
       "    </tr>\n",
       "    <tr>\n",
       "      <th>371221</th>\n",
       "      <td>371221</td>\n",
       "      <td>71069</td>\n",
       "      <td>501837</td>\n",
       "      <td>Who are the richest people in the world?</td>\n",
       "      <td>Who are the richest people in the world and wh...</td>\n",
       "      <td>1</td>\n",
       "      <td>40</td>\n",
       "      <td>60</td>\n",
       "    </tr>\n",
       "    <tr>\n",
       "      <th>146536</th>\n",
       "      <td>146536</td>\n",
       "      <td>143078</td>\n",
       "      <td>231443</td>\n",
       "      <td>What are the 11 dimensions in string theory?</td>\n",
       "      <td>Different theories state there are either 10 o...</td>\n",
       "      <td>0</td>\n",
       "      <td>44</td>\n",
       "      <td>149</td>\n",
       "    </tr>\n",
       "    <tr>\n",
       "      <th>350406</th>\n",
       "      <td>350406</td>\n",
       "      <td>13617</td>\n",
       "      <td>141286</td>\n",
       "      <td>How can you differentiate between a democracy ...</td>\n",
       "      <td>What is difference between democracy and repulic?</td>\n",
       "      <td>1</td>\n",
       "      <td>69</td>\n",
       "      <td>49</td>\n",
       "    </tr>\n",
       "  </tbody>\n",
       "</table>\n",
       "</div>"
      ],
      "text/plain": [
       "            id    qid1    qid2  \\\n",
       "233924  233924  344292  344293   \n",
       "240940  240940  352865  248783   \n",
       "371221  371221   71069  501837   \n",
       "146536  146536  143078  231443   \n",
       "350406  350406   13617  141286   \n",
       "\n",
       "                                                question1  \\\n",
       "233924                       What are the uses of iPhone?   \n",
       "240940  For the LinkedIn Connection network graph how ...   \n",
       "371221           Who are the richest people in the world?   \n",
       "146536       What are the 11 dimensions in string theory?   \n",
       "350406  How can you differentiate between a democracy ...   \n",
       "\n",
       "                                                question2  is_duplicate  \\\n",
       "233924                   What do you use your iPhone for?             0   \n",
       "240940  What are good ways to find all the possible pa...             0   \n",
       "371221  Who are the richest people in the world and wh...             1   \n",
       "146536  Different theories state there are either 10 o...             0   \n",
       "350406  What is difference between democracy and repulic?             1   \n",
       "\n",
       "        q1_len  q2_len  \n",
       "233924      28      32  \n",
       "240940     106      88  \n",
       "371221      40      60  \n",
       "146536      44     149  \n",
       "350406      69      49  "
      ]
     },
     "execution_count": 35,
     "metadata": {},
     "output_type": "execute_result"
    }
   ],
   "source": [
    "new_df.head()"
   ]
  },
  {
   "cell_type": "code",
   "execution_count": 36,
   "metadata": {
    "colab": {
     "base_uri": "https://localhost:8080/"
    },
    "id": "DCVUQxLCKRdf",
    "outputId": "17b174a1-484d-4c95-b849-e92f11ed9edc"
   },
   "outputs": [
    {
     "name": "stdout",
     "output_type": "stream",
     "text": [
      "<class 'pandas.core.frame.DataFrame'>\n",
      "Index: 30000 entries, 233924 to 273498\n",
      "Data columns (total 8 columns):\n",
      " #   Column        Non-Null Count  Dtype \n",
      "---  ------        --------------  ----- \n",
      " 0   id            30000 non-null  int64 \n",
      " 1   qid1          30000 non-null  int64 \n",
      " 2   qid2          30000 non-null  int64 \n",
      " 3   question1     30000 non-null  object\n",
      " 4   question2     30000 non-null  object\n",
      " 5   is_duplicate  30000 non-null  int64 \n",
      " 6   q1_len        30000 non-null  int64 \n",
      " 7   q2_len        30000 non-null  int64 \n",
      "dtypes: int64(6), object(2)\n",
      "memory usage: 2.1+ MB\n"
     ]
    }
   ],
   "source": [
    "new_df.info()"
   ]
  },
  {
   "cell_type": "code",
   "execution_count": 37,
   "metadata": {
    "id": "vCWmW75KOKai"
   },
   "outputs": [],
   "source": [
    "new_df['q1_num_words']=new_df['question1'].apply(lambda row:len(row.split(\" \")))\n",
    "new_df['q2_num_words']=new_df['question2'].apply(lambda row:len(row.split(\" \")))"
   ]
  },
  {
   "cell_type": "code",
   "execution_count": 38,
   "metadata": {
    "colab": {
     "base_uri": "https://localhost:8080/",
     "height": 293
    },
    "id": "r6RcgtWRO5P8",
    "outputId": "2b34af98-8f81-4594-96ff-baeaeef737c2"
   },
   "outputs": [
    {
     "data": {
      "text/html": [
       "<div>\n",
       "<style scoped>\n",
       "    .dataframe tbody tr th:only-of-type {\n",
       "        vertical-align: middle;\n",
       "    }\n",
       "\n",
       "    .dataframe tbody tr th {\n",
       "        vertical-align: top;\n",
       "    }\n",
       "\n",
       "    .dataframe thead th {\n",
       "        text-align: right;\n",
       "    }\n",
       "</style>\n",
       "<table border=\"1\" class=\"dataframe\">\n",
       "  <thead>\n",
       "    <tr style=\"text-align: right;\">\n",
       "      <th></th>\n",
       "      <th>id</th>\n",
       "      <th>qid1</th>\n",
       "      <th>qid2</th>\n",
       "      <th>question1</th>\n",
       "      <th>question2</th>\n",
       "      <th>is_duplicate</th>\n",
       "      <th>q1_len</th>\n",
       "      <th>q2_len</th>\n",
       "      <th>q1_num_words</th>\n",
       "      <th>q2_num_words</th>\n",
       "    </tr>\n",
       "  </thead>\n",
       "  <tbody>\n",
       "    <tr>\n",
       "      <th>233924</th>\n",
       "      <td>233924</td>\n",
       "      <td>344292</td>\n",
       "      <td>344293</td>\n",
       "      <td>What are the uses of iPhone?</td>\n",
       "      <td>What do you use your iPhone for?</td>\n",
       "      <td>0</td>\n",
       "      <td>28</td>\n",
       "      <td>32</td>\n",
       "      <td>6</td>\n",
       "      <td>7</td>\n",
       "    </tr>\n",
       "    <tr>\n",
       "      <th>240940</th>\n",
       "      <td>240940</td>\n",
       "      <td>352865</td>\n",
       "      <td>248783</td>\n",
       "      <td>For the LinkedIn Connection network graph how ...</td>\n",
       "      <td>What are good ways to find all the possible pa...</td>\n",
       "      <td>0</td>\n",
       "      <td>106</td>\n",
       "      <td>88</td>\n",
       "      <td>19</td>\n",
       "      <td>17</td>\n",
       "    </tr>\n",
       "    <tr>\n",
       "      <th>371221</th>\n",
       "      <td>371221</td>\n",
       "      <td>71069</td>\n",
       "      <td>501837</td>\n",
       "      <td>Who are the richest people in the world?</td>\n",
       "      <td>Who are the richest people in the world and wh...</td>\n",
       "      <td>1</td>\n",
       "      <td>40</td>\n",
       "      <td>60</td>\n",
       "      <td>8</td>\n",
       "      <td>13</td>\n",
       "    </tr>\n",
       "    <tr>\n",
       "      <th>146536</th>\n",
       "      <td>146536</td>\n",
       "      <td>143078</td>\n",
       "      <td>231443</td>\n",
       "      <td>What are the 11 dimensions in string theory?</td>\n",
       "      <td>Different theories state there are either 10 o...</td>\n",
       "      <td>0</td>\n",
       "      <td>44</td>\n",
       "      <td>149</td>\n",
       "      <td>8</td>\n",
       "      <td>25</td>\n",
       "    </tr>\n",
       "    <tr>\n",
       "      <th>350406</th>\n",
       "      <td>350406</td>\n",
       "      <td>13617</td>\n",
       "      <td>141286</td>\n",
       "      <td>How can you differentiate between a democracy ...</td>\n",
       "      <td>What is difference between democracy and repulic?</td>\n",
       "      <td>1</td>\n",
       "      <td>69</td>\n",
       "      <td>49</td>\n",
       "      <td>11</td>\n",
       "      <td>7</td>\n",
       "    </tr>\n",
       "  </tbody>\n",
       "</table>\n",
       "</div>"
      ],
      "text/plain": [
       "            id    qid1    qid2  \\\n",
       "233924  233924  344292  344293   \n",
       "240940  240940  352865  248783   \n",
       "371221  371221   71069  501837   \n",
       "146536  146536  143078  231443   \n",
       "350406  350406   13617  141286   \n",
       "\n",
       "                                                question1  \\\n",
       "233924                       What are the uses of iPhone?   \n",
       "240940  For the LinkedIn Connection network graph how ...   \n",
       "371221           Who are the richest people in the world?   \n",
       "146536       What are the 11 dimensions in string theory?   \n",
       "350406  How can you differentiate between a democracy ...   \n",
       "\n",
       "                                                question2  is_duplicate  \\\n",
       "233924                   What do you use your iPhone for?             0   \n",
       "240940  What are good ways to find all the possible pa...             0   \n",
       "371221  Who are the richest people in the world and wh...             1   \n",
       "146536  Different theories state there are either 10 o...             0   \n",
       "350406  What is difference between democracy and repulic?             1   \n",
       "\n",
       "        q1_len  q2_len  q1_num_words  q2_num_words  \n",
       "233924      28      32             6             7  \n",
       "240940     106      88            19            17  \n",
       "371221      40      60             8            13  \n",
       "146536      44     149             8            25  \n",
       "350406      69      49            11             7  "
      ]
     },
     "execution_count": 38,
     "metadata": {},
     "output_type": "execute_result"
    }
   ],
   "source": [
    "new_df.head()"
   ]
  },
  {
   "cell_type": "code",
   "execution_count": 39,
   "metadata": {
    "id": "RPpD6GQNO7Qk"
   },
   "outputs": [],
   "source": [
    "def common_words(row):\n",
    "  w1=set(map(lambda word:word.lower().strip(),row['question1'].split(\" \")))\n",
    "  w2=set(map(lambda word:word.lower().strip(),row['question2'].split(\" \")))\n",
    "  return len(w1 & w2)"
   ]
  },
  {
   "cell_type": "code",
   "execution_count": 40,
   "metadata": {
    "id": "o4kz_0zIPerQ"
   },
   "outputs": [],
   "source": [
    "new_df['word_common']=new_df.apply(common_words,axis=1)"
   ]
  },
  {
   "cell_type": "code",
   "execution_count": 41,
   "metadata": {
    "colab": {
     "base_uri": "https://localhost:8080/",
     "height": 362
    },
    "id": "v4CX1ALrPpH2",
    "outputId": "25ad3ddf-db25-436e-f77d-1ffa746f0159"
   },
   "outputs": [
    {
     "data": {
      "text/html": [
       "<div>\n",
       "<style scoped>\n",
       "    .dataframe tbody tr th:only-of-type {\n",
       "        vertical-align: middle;\n",
       "    }\n",
       "\n",
       "    .dataframe tbody tr th {\n",
       "        vertical-align: top;\n",
       "    }\n",
       "\n",
       "    .dataframe thead th {\n",
       "        text-align: right;\n",
       "    }\n",
       "</style>\n",
       "<table border=\"1\" class=\"dataframe\">\n",
       "  <thead>\n",
       "    <tr style=\"text-align: right;\">\n",
       "      <th></th>\n",
       "      <th>id</th>\n",
       "      <th>qid1</th>\n",
       "      <th>qid2</th>\n",
       "      <th>question1</th>\n",
       "      <th>question2</th>\n",
       "      <th>is_duplicate</th>\n",
       "      <th>q1_len</th>\n",
       "      <th>q2_len</th>\n",
       "      <th>q1_num_words</th>\n",
       "      <th>q2_num_words</th>\n",
       "      <th>word_common</th>\n",
       "    </tr>\n",
       "  </thead>\n",
       "  <tbody>\n",
       "    <tr>\n",
       "      <th>233924</th>\n",
       "      <td>233924</td>\n",
       "      <td>344292</td>\n",
       "      <td>344293</td>\n",
       "      <td>What are the uses of iPhone?</td>\n",
       "      <td>What do you use your iPhone for?</td>\n",
       "      <td>0</td>\n",
       "      <td>28</td>\n",
       "      <td>32</td>\n",
       "      <td>6</td>\n",
       "      <td>7</td>\n",
       "      <td>1</td>\n",
       "    </tr>\n",
       "    <tr>\n",
       "      <th>240940</th>\n",
       "      <td>240940</td>\n",
       "      <td>352865</td>\n",
       "      <td>248783</td>\n",
       "      <td>For the LinkedIn Connection network graph how ...</td>\n",
       "      <td>What are good ways to find all the possible pa...</td>\n",
       "      <td>0</td>\n",
       "      <td>106</td>\n",
       "      <td>88</td>\n",
       "      <td>19</td>\n",
       "      <td>17</td>\n",
       "      <td>3</td>\n",
       "    </tr>\n",
       "    <tr>\n",
       "      <th>371221</th>\n",
       "      <td>371221</td>\n",
       "      <td>71069</td>\n",
       "      <td>501837</td>\n",
       "      <td>Who are the richest people in the world?</td>\n",
       "      <td>Who are the richest people in the world and wh...</td>\n",
       "      <td>1</td>\n",
       "      <td>40</td>\n",
       "      <td>60</td>\n",
       "      <td>8</td>\n",
       "      <td>13</td>\n",
       "      <td>6</td>\n",
       "    </tr>\n",
       "    <tr>\n",
       "      <th>146536</th>\n",
       "      <td>146536</td>\n",
       "      <td>143078</td>\n",
       "      <td>231443</td>\n",
       "      <td>What are the 11 dimensions in string theory?</td>\n",
       "      <td>Different theories state there are either 10 o...</td>\n",
       "      <td>0</td>\n",
       "      <td>44</td>\n",
       "      <td>149</td>\n",
       "      <td>8</td>\n",
       "      <td>25</td>\n",
       "      <td>4</td>\n",
       "    </tr>\n",
       "    <tr>\n",
       "      <th>350406</th>\n",
       "      <td>350406</td>\n",
       "      <td>13617</td>\n",
       "      <td>141286</td>\n",
       "      <td>How can you differentiate between a democracy ...</td>\n",
       "      <td>What is difference between democracy and repulic?</td>\n",
       "      <td>1</td>\n",
       "      <td>69</td>\n",
       "      <td>49</td>\n",
       "      <td>11</td>\n",
       "      <td>7</td>\n",
       "      <td>3</td>\n",
       "    </tr>\n",
       "  </tbody>\n",
       "</table>\n",
       "</div>"
      ],
      "text/plain": [
       "            id    qid1    qid2  \\\n",
       "233924  233924  344292  344293   \n",
       "240940  240940  352865  248783   \n",
       "371221  371221   71069  501837   \n",
       "146536  146536  143078  231443   \n",
       "350406  350406   13617  141286   \n",
       "\n",
       "                                                question1  \\\n",
       "233924                       What are the uses of iPhone?   \n",
       "240940  For the LinkedIn Connection network graph how ...   \n",
       "371221           Who are the richest people in the world?   \n",
       "146536       What are the 11 dimensions in string theory?   \n",
       "350406  How can you differentiate between a democracy ...   \n",
       "\n",
       "                                                question2  is_duplicate  \\\n",
       "233924                   What do you use your iPhone for?             0   \n",
       "240940  What are good ways to find all the possible pa...             0   \n",
       "371221  Who are the richest people in the world and wh...             1   \n",
       "146536  Different theories state there are either 10 o...             0   \n",
       "350406  What is difference between democracy and repulic?             1   \n",
       "\n",
       "        q1_len  q2_len  q1_num_words  q2_num_words  word_common  \n",
       "233924      28      32             6             7            1  \n",
       "240940     106      88            19            17            3  \n",
       "371221      40      60             8            13            6  \n",
       "146536      44     149             8            25            4  \n",
       "350406      69      49            11             7            3  "
      ]
     },
     "execution_count": 41,
     "metadata": {},
     "output_type": "execute_result"
    }
   ],
   "source": [
    "new_df.head()"
   ]
  },
  {
   "cell_type": "code",
   "execution_count": 42,
   "metadata": {
    "id": "sXFlvvPJRpBg"
   },
   "outputs": [],
   "source": [
    "def total_words(row):\n",
    "    w1 = set(map(lambda word: word.lower().strip(), row['question1'].split(\" \")))\n",
    "    w2 = set(map(lambda word: word.lower().strip(), row['question2'].split(\" \")))\n",
    "    return (len(w1) + len(w2))"
   ]
  },
  {
   "cell_type": "code",
   "execution_count": 43,
   "metadata": {
    "colab": {
     "base_uri": "https://localhost:8080/",
     "height": 518
    },
    "id": "fBEoeEYFRTk1",
    "outputId": "1b4bb610-d204-4b19-d233-7855b6425c2e"
   },
   "outputs": [
    {
     "data": {
      "text/html": [
       "<div>\n",
       "<style scoped>\n",
       "    .dataframe tbody tr th:only-of-type {\n",
       "        vertical-align: middle;\n",
       "    }\n",
       "\n",
       "    .dataframe tbody tr th {\n",
       "        vertical-align: top;\n",
       "    }\n",
       "\n",
       "    .dataframe thead th {\n",
       "        text-align: right;\n",
       "    }\n",
       "</style>\n",
       "<table border=\"1\" class=\"dataframe\">\n",
       "  <thead>\n",
       "    <tr style=\"text-align: right;\">\n",
       "      <th></th>\n",
       "      <th>id</th>\n",
       "      <th>qid1</th>\n",
       "      <th>qid2</th>\n",
       "      <th>question1</th>\n",
       "      <th>question2</th>\n",
       "      <th>is_duplicate</th>\n",
       "      <th>q1_len</th>\n",
       "      <th>q2_len</th>\n",
       "      <th>q1_num_words</th>\n",
       "      <th>q2_num_words</th>\n",
       "      <th>word_common</th>\n",
       "      <th>word_total</th>\n",
       "    </tr>\n",
       "  </thead>\n",
       "  <tbody>\n",
       "    <tr>\n",
       "      <th>233924</th>\n",
       "      <td>233924</td>\n",
       "      <td>344292</td>\n",
       "      <td>344293</td>\n",
       "      <td>What are the uses of iPhone?</td>\n",
       "      <td>What do you use your iPhone for?</td>\n",
       "      <td>0</td>\n",
       "      <td>28</td>\n",
       "      <td>32</td>\n",
       "      <td>6</td>\n",
       "      <td>7</td>\n",
       "      <td>1</td>\n",
       "      <td>13</td>\n",
       "    </tr>\n",
       "    <tr>\n",
       "      <th>240940</th>\n",
       "      <td>240940</td>\n",
       "      <td>352865</td>\n",
       "      <td>248783</td>\n",
       "      <td>For the LinkedIn Connection network graph how ...</td>\n",
       "      <td>What are good ways to find all the possible pa...</td>\n",
       "      <td>0</td>\n",
       "      <td>106</td>\n",
       "      <td>88</td>\n",
       "      <td>19</td>\n",
       "      <td>17</td>\n",
       "      <td>3</td>\n",
       "      <td>33</td>\n",
       "    </tr>\n",
       "    <tr>\n",
       "      <th>371221</th>\n",
       "      <td>371221</td>\n",
       "      <td>71069</td>\n",
       "      <td>501837</td>\n",
       "      <td>Who are the richest people in the world?</td>\n",
       "      <td>Who are the richest people in the world and wh...</td>\n",
       "      <td>1</td>\n",
       "      <td>40</td>\n",
       "      <td>60</td>\n",
       "      <td>8</td>\n",
       "      <td>13</td>\n",
       "      <td>6</td>\n",
       "      <td>19</td>\n",
       "    </tr>\n",
       "    <tr>\n",
       "      <th>146536</th>\n",
       "      <td>146536</td>\n",
       "      <td>143078</td>\n",
       "      <td>231443</td>\n",
       "      <td>What are the 11 dimensions in string theory?</td>\n",
       "      <td>Different theories state there are either 10 o...</td>\n",
       "      <td>0</td>\n",
       "      <td>44</td>\n",
       "      <td>149</td>\n",
       "      <td>8</td>\n",
       "      <td>25</td>\n",
       "      <td>4</td>\n",
       "      <td>31</td>\n",
       "    </tr>\n",
       "    <tr>\n",
       "      <th>350406</th>\n",
       "      <td>350406</td>\n",
       "      <td>13617</td>\n",
       "      <td>141286</td>\n",
       "      <td>How can you differentiate between a democracy ...</td>\n",
       "      <td>What is difference between democracy and repulic?</td>\n",
       "      <td>1</td>\n",
       "      <td>69</td>\n",
       "      <td>49</td>\n",
       "      <td>11</td>\n",
       "      <td>7</td>\n",
       "      <td>3</td>\n",
       "      <td>17</td>\n",
       "    </tr>\n",
       "  </tbody>\n",
       "</table>\n",
       "</div>"
      ],
      "text/plain": [
       "            id    qid1    qid2  \\\n",
       "233924  233924  344292  344293   \n",
       "240940  240940  352865  248783   \n",
       "371221  371221   71069  501837   \n",
       "146536  146536  143078  231443   \n",
       "350406  350406   13617  141286   \n",
       "\n",
       "                                                question1  \\\n",
       "233924                       What are the uses of iPhone?   \n",
       "240940  For the LinkedIn Connection network graph how ...   \n",
       "371221           Who are the richest people in the world?   \n",
       "146536       What are the 11 dimensions in string theory?   \n",
       "350406  How can you differentiate between a democracy ...   \n",
       "\n",
       "                                                question2  is_duplicate  \\\n",
       "233924                   What do you use your iPhone for?             0   \n",
       "240940  What are good ways to find all the possible pa...             0   \n",
       "371221  Who are the richest people in the world and wh...             1   \n",
       "146536  Different theories state there are either 10 o...             0   \n",
       "350406  What is difference between democracy and repulic?             1   \n",
       "\n",
       "        q1_len  q2_len  q1_num_words  q2_num_words  word_common  word_total  \n",
       "233924      28      32             6             7            1          13  \n",
       "240940     106      88            19            17            3          33  \n",
       "371221      40      60             8            13            6          19  \n",
       "146536      44     149             8            25            4          31  \n",
       "350406      69      49            11             7            3          17  "
      ]
     },
     "execution_count": 43,
     "metadata": {},
     "output_type": "execute_result"
    }
   ],
   "source": [
    "new_df['word_total'] = new_df.apply(total_words, axis=1)\n",
    "new_df.head()"
   ]
  },
  {
   "cell_type": "code",
   "execution_count": 44,
   "metadata": {
    "colab": {
     "base_uri": "https://localhost:8080/",
     "height": 625
    },
    "id": "janvi8IxPqmK",
    "outputId": "8cdfe5b6-9154-433a-c876-7799e4499486"
   },
   "outputs": [
    {
     "data": {
      "text/html": [
       "<div>\n",
       "<style scoped>\n",
       "    .dataframe tbody tr th:only-of-type {\n",
       "        vertical-align: middle;\n",
       "    }\n",
       "\n",
       "    .dataframe tbody tr th {\n",
       "        vertical-align: top;\n",
       "    }\n",
       "\n",
       "    .dataframe thead th {\n",
       "        text-align: right;\n",
       "    }\n",
       "</style>\n",
       "<table border=\"1\" class=\"dataframe\">\n",
       "  <thead>\n",
       "    <tr style=\"text-align: right;\">\n",
       "      <th></th>\n",
       "      <th>id</th>\n",
       "      <th>qid1</th>\n",
       "      <th>qid2</th>\n",
       "      <th>question1</th>\n",
       "      <th>question2</th>\n",
       "      <th>is_duplicate</th>\n",
       "      <th>q1_len</th>\n",
       "      <th>q2_len</th>\n",
       "      <th>q1_num_words</th>\n",
       "      <th>q2_num_words</th>\n",
       "      <th>word_common</th>\n",
       "      <th>word_total</th>\n",
       "      <th>word_share</th>\n",
       "    </tr>\n",
       "  </thead>\n",
       "  <tbody>\n",
       "    <tr>\n",
       "      <th>233924</th>\n",
       "      <td>233924</td>\n",
       "      <td>344292</td>\n",
       "      <td>344293</td>\n",
       "      <td>What are the uses of iPhone?</td>\n",
       "      <td>What do you use your iPhone for?</td>\n",
       "      <td>0</td>\n",
       "      <td>28</td>\n",
       "      <td>32</td>\n",
       "      <td>6</td>\n",
       "      <td>7</td>\n",
       "      <td>1</td>\n",
       "      <td>13</td>\n",
       "      <td>0.08</td>\n",
       "    </tr>\n",
       "    <tr>\n",
       "      <th>240940</th>\n",
       "      <td>240940</td>\n",
       "      <td>352865</td>\n",
       "      <td>248783</td>\n",
       "      <td>For the LinkedIn Connection network graph how ...</td>\n",
       "      <td>What are good ways to find all the possible pa...</td>\n",
       "      <td>0</td>\n",
       "      <td>106</td>\n",
       "      <td>88</td>\n",
       "      <td>19</td>\n",
       "      <td>17</td>\n",
       "      <td>3</td>\n",
       "      <td>33</td>\n",
       "      <td>0.09</td>\n",
       "    </tr>\n",
       "    <tr>\n",
       "      <th>371221</th>\n",
       "      <td>371221</td>\n",
       "      <td>71069</td>\n",
       "      <td>501837</td>\n",
       "      <td>Who are the richest people in the world?</td>\n",
       "      <td>Who are the richest people in the world and wh...</td>\n",
       "      <td>1</td>\n",
       "      <td>40</td>\n",
       "      <td>60</td>\n",
       "      <td>8</td>\n",
       "      <td>13</td>\n",
       "      <td>6</td>\n",
       "      <td>19</td>\n",
       "      <td>0.32</td>\n",
       "    </tr>\n",
       "    <tr>\n",
       "      <th>146536</th>\n",
       "      <td>146536</td>\n",
       "      <td>143078</td>\n",
       "      <td>231443</td>\n",
       "      <td>What are the 11 dimensions in string theory?</td>\n",
       "      <td>Different theories state there are either 10 o...</td>\n",
       "      <td>0</td>\n",
       "      <td>44</td>\n",
       "      <td>149</td>\n",
       "      <td>8</td>\n",
       "      <td>25</td>\n",
       "      <td>4</td>\n",
       "      <td>31</td>\n",
       "      <td>0.13</td>\n",
       "    </tr>\n",
       "    <tr>\n",
       "      <th>350406</th>\n",
       "      <td>350406</td>\n",
       "      <td>13617</td>\n",
       "      <td>141286</td>\n",
       "      <td>How can you differentiate between a democracy ...</td>\n",
       "      <td>What is difference between democracy and repulic?</td>\n",
       "      <td>1</td>\n",
       "      <td>69</td>\n",
       "      <td>49</td>\n",
       "      <td>11</td>\n",
       "      <td>7</td>\n",
       "      <td>3</td>\n",
       "      <td>17</td>\n",
       "      <td>0.18</td>\n",
       "    </tr>\n",
       "  </tbody>\n",
       "</table>\n",
       "</div>"
      ],
      "text/plain": [
       "            id    qid1    qid2  \\\n",
       "233924  233924  344292  344293   \n",
       "240940  240940  352865  248783   \n",
       "371221  371221   71069  501837   \n",
       "146536  146536  143078  231443   \n",
       "350406  350406   13617  141286   \n",
       "\n",
       "                                                question1  \\\n",
       "233924                       What are the uses of iPhone?   \n",
       "240940  For the LinkedIn Connection network graph how ...   \n",
       "371221           Who are the richest people in the world?   \n",
       "146536       What are the 11 dimensions in string theory?   \n",
       "350406  How can you differentiate between a democracy ...   \n",
       "\n",
       "                                                question2  is_duplicate  \\\n",
       "233924                   What do you use your iPhone for?             0   \n",
       "240940  What are good ways to find all the possible pa...             0   \n",
       "371221  Who are the richest people in the world and wh...             1   \n",
       "146536  Different theories state there are either 10 o...             0   \n",
       "350406  What is difference between democracy and repulic?             1   \n",
       "\n",
       "        q1_len  q2_len  q1_num_words  q2_num_words  word_common  word_total  \\\n",
       "233924      28      32             6             7            1          13   \n",
       "240940     106      88            19            17            3          33   \n",
       "371221      40      60             8            13            6          19   \n",
       "146536      44     149             8            25            4          31   \n",
       "350406      69      49            11             7            3          17   \n",
       "\n",
       "        word_share  \n",
       "233924        0.08  \n",
       "240940        0.09  \n",
       "371221        0.32  \n",
       "146536        0.13  \n",
       "350406        0.18  "
      ]
     },
     "execution_count": 44,
     "metadata": {},
     "output_type": "execute_result"
    }
   ],
   "source": [
    "new_df['word_share']=round(new_df['word_common']/new_df['word_total'],2)\n",
    "new_df.head()"
   ]
  },
  {
   "cell_type": "code",
   "execution_count": 45,
   "metadata": {
    "colab": {
     "base_uri": "https://localhost:8080/",
     "height": 558
    },
    "id": "9WWLPEvlQmI7",
    "outputId": "a35fa5ac-88c0-474d-ac83-0705b916545f"
   },
   "outputs": [
    {
     "name": "stdout",
     "output_type": "stream",
     "text": [
      "minimum characters 2\n",
      "maximum characters 391\n",
      "average num of characters 59\n"
     ]
    },
    {
     "data": {
      "image/png": "[encoded data removed]",
      "text/plain": [
       "<Figure size 500x500 with 1 Axes>"
      ]
     },
     "metadata": {},
     "output_type": "display_data"
    }
   ],
   "source": [
    "# Analysis of features\n",
    "sns.displot(new_df['q1_len'])\n",
    "print('minimum characters',new_df['q1_len'].min())\n",
    "print('maximum characters',new_df['q1_len'].max())\n",
    "print('average num of characters',int(new_df['q1_len'].mean()))"
   ]
  },
  {
   "cell_type": "code",
   "execution_count": 46,
   "metadata": {
    "colab": {
     "base_uri": "https://localhost:8080/",
     "height": 558
    },
    "id": "PAF1QzJTSAnR",
    "outputId": "a1f1e4b1-0c2a-43a1-904d-10d5b9ff0ac8"
   },
   "outputs": [
    {
     "name": "stdout",
     "output_type": "stream",
     "text": [
      "minimum characters 10\n",
      "maximum characters 540\n",
      "average num of characters 60\n"
     ]
    },
    {
     "data": {
      "image/png": "[encoded data removed]",
      "text/plain": [
       "<Figure size 500x500 with 1 Axes>"
      ]
     },
     "metadata": {},
     "output_type": "display_data"
    }
   ],
   "source": [
    "sns.displot(new_df['q2_len'])\n",
    "print('minimum characters',new_df['q2_len'].min())\n",
    "print('maximum characters',new_df['q2_len'].max())\n",
    "print('average num of characters',int(new_df['q2_len'].mean()))"
   ]
  },
  {
   "cell_type": "code",
   "execution_count": 47,
   "metadata": {
    "colab": {
     "base_uri": "https://localhost:8080/",
     "height": 558
    },
    "id": "t2BlIpIwSHq6",
    "outputId": "675c6e02-cf6e-42de-87ec-b2c9454c3483"
   },
   "outputs": [
    {
     "name": "stdout",
     "output_type": "stream",
     "text": [
      "minimum words 1\n",
      "maximum words 73\n",
      "average num of words 10\n"
     ]
    },
    {
     "data": {
      "image/png": "[encoded data removed]",
      "text/plain": [
       "<Figure size 500x500 with 1 Axes>"
      ]
     },
     "metadata": {},
     "output_type": "display_data"
    }
   ],
   "source": [
    "sns.displot(new_df['q1_num_words'])\n",
    "print('minimum words',new_df['q1_num_words'].min())\n",
    "print('maximum words',new_df['q1_num_words'].max())\n",
    "print('average num of words',int(new_df['q1_num_words'].mean()))"
   ]
  },
  {
   "cell_type": "code",
   "execution_count": 48,
   "metadata": {
    "colab": {
     "base_uri": "https://localhost:8080/",
     "height": 558
    },
    "id": "xWhjqvkNSNAO",
    "outputId": "02e22c95-b03e-426d-e730-2c07f8b20f18"
   },
   "outputs": [
    {
     "name": "stdout",
     "output_type": "stream",
     "text": [
      "minimum words 2\n",
      "maximum words 106\n",
      "average num of words 11\n"
     ]
    },
    {
     "data": {
      "image/png": "[encoded data removed]",
      "text/plain": [
       "<Figure size 500x500 with 1 Axes>"
      ]
     },
     "metadata": {},
     "output_type": "display_data"
    }
   ],
   "source": [
    "sns.displot(new_df['q2_num_words'])\n",
    "print('minimum words',new_df['q2_num_words'].min())\n",
    "print('maximum words',new_df['q2_num_words'].max())\n",
    "print('average num of words',int(new_df['q2_num_words'].mean()))"
   ]
  },
  {
   "cell_type": "code",
   "execution_count": 49,
   "metadata": {
    "colab": {
     "base_uri": "https://localhost:8080/",
     "height": 832
    },
    "id": "bZ40NgokSTkY",
    "outputId": "aad8bf2f-fa2e-4df3-bbf2-af4787837cd7"
   },
   "outputs": [
    {
     "name": "stderr",
     "output_type": "stream",
     "text": [
      "/tmp/ipykernel_3174416/2492214095.py:2: UserWarning: \n",
      "\n",
      "`distplot` is a deprecated function and will be removed in seaborn v0.14.0.\n",
      "\n",
      "Please adapt your code to use either `displot` (a figure-level function with\n",
      "similar flexibility) or `histplot` (an axes-level function for histograms).\n",
      "\n",
      "For a guide to updating your code to use the new functions, please see\n",
      "https://gist.github.com/mwaskom/de44147ed2974457ad6372750bbe5751\n",
      "\n",
      "  sns.distplot(new_df[new_df['is_duplicate'] == 0]['word_common'],label='non duplicate')\n",
      "/tmp/ipykernel_3174416/2492214095.py:3: UserWarning: \n",
      "\n",
      "`distplot` is a deprecated function and will be removed in seaborn v0.14.0.\n",
      "\n",
      "Please adapt your code to use either `displot` (a figure-level function with\n",
      "similar flexibility) or `histplot` (an axes-level function for histograms).\n",
      "\n",
      "For a guide to updating your code to use the new functions, please see\n",
      "https://gist.github.com/mwaskom/de44147ed2974457ad6372750bbe5751\n",
      "\n",
      "  sns.distplot(new_df[new_df['is_duplicate'] == 1]['word_common'],label='duplicate')\n"
     ]
    },
    {
     "data": {
      "image/png": "[encoded data removed]",
      "text/plain": [
       "<Figure size 640x480 with 1 Axes>"
      ]
     },
     "metadata": {},
     "output_type": "display_data"
    }
   ],
   "source": [
    "# common words\n",
    "sns.distplot(new_df[new_df['is_duplicate'] == 0]['word_common'],label='non duplicate')\n",
    "sns.distplot(new_df[new_df['is_duplicate'] == 1]['word_common'],label='duplicate')\n",
    "plt.legend()\n",
    "plt.show()"
   ]
  },
  {
   "cell_type": "code",
   "execution_count": 50,
   "metadata": {
    "colab": {
     "base_uri": "https://localhost:8080/",
     "height": 832
    },
    "id": "bIPhJzhlSWjj",
    "outputId": "119a1793-f1f1-45d2-f8f3-fdab2e3a90ea"
   },
   "outputs": [
    {
     "name": "stderr",
     "output_type": "stream",
     "text": [
      "/tmp/ipykernel_3174416/2776808923.py:2: UserWarning: \n",
      "\n",
      "`distplot` is a deprecated function and will be removed in seaborn v0.14.0.\n",
      "\n",
      "Please adapt your code to use either `displot` (a figure-level function with\n",
      "similar flexibility) or `histplot` (an axes-level function for histograms).\n",
      "\n",
      "For a guide to updating your code to use the new functions, please see\n",
      "https://gist.github.com/mwaskom/de44147ed2974457ad6372750bbe5751\n",
      "\n",
      "  sns.distplot(new_df[new_df['is_duplicate'] == 0]['word_total'],label='non duplicate')\n",
      "/tmp/ipykernel_3174416/2776808923.py:3: UserWarning: \n",
      "\n",
      "`distplot` is a deprecated function and will be removed in seaborn v0.14.0.\n",
      "\n",
      "Please adapt your code to use either `displot` (a figure-level function with\n",
      "similar flexibility) or `histplot` (an axes-level function for histograms).\n",
      "\n",
      "For a guide to updating your code to use the new functions, please see\n",
      "https://gist.github.com/mwaskom/de44147ed2974457ad6372750bbe5751\n",
      "\n",
      "  sns.distplot(new_df[new_df['is_duplicate'] == 1]['word_total'],label='duplicate')\n"
     ]
    },
    {
     "data": {
      "image/png": "[encoded data removed]",
      "text/plain": [
       "<Figure size 640x480 with 1 Axes>"
      ]
     },
     "metadata": {},
     "output_type": "display_data"
    }
   ],
   "source": [
    "# total words\n",
    "sns.distplot(new_df[new_df['is_duplicate'] == 0]['word_total'],label='non duplicate')\n",
    "sns.distplot(new_df[new_df['is_duplicate'] == 1]['word_total'],label='duplicate')\n",
    "plt.legend()\n",
    "plt.show()"
   ]
  },
  {
   "cell_type": "code",
   "execution_count": 51,
   "metadata": {
    "colab": {
     "base_uri": "https://localhost:8080/",
     "height": 832
    },
    "id": "Gde4wHdtSeA3",
    "outputId": "5fe4f293-6f4b-4ad5-ec61-bb6abca0a662"
   },
   "outputs": [
    {
     "name": "stderr",
     "output_type": "stream",
     "text": [
      "/tmp/ipykernel_3174416/542246512.py:2: UserWarning: \n",
      "\n",
      "`distplot` is a deprecated function and will be removed in seaborn v0.14.0.\n",
      "\n",
      "Please adapt your code to use either `displot` (a figure-level function with\n",
      "similar flexibility) or `histplot` (an axes-level function for histograms).\n",
      "\n",
      "For a guide to updating your code to use the new functions, please see\n",
      "https://gist.github.com/mwaskom/de44147ed2974457ad6372750bbe5751\n",
      "\n",
      "  sns.distplot(new_df[new_df['is_duplicate'] == 0]['word_share'],label='non duplicate')\n",
      "/tmp/ipykernel_3174416/542246512.py:3: UserWarning: \n",
      "\n",
      "`distplot` is a deprecated function and will be removed in seaborn v0.14.0.\n",
      "\n",
      "Please adapt your code to use either `displot` (a figure-level function with\n",
      "similar flexibility) or `histplot` (an axes-level function for histograms).\n",
      "\n",
      "For a guide to updating your code to use the new functions, please see\n",
      "https://gist.github.com/mwaskom/de44147ed2974457ad6372750bbe5751\n",
      "\n",
      "  sns.distplot(new_df[new_df['is_duplicate'] == 1]['word_share'],label='duplicate')\n"
     ]
    },
    {
     "data": {
      "image/png": "[encoded data removed]",
      "text/plain": [
       "<Figure size 640x480 with 1 Axes>"
      ]
     },
     "metadata": {},
     "output_type": "display_data"
    }
   ],
   "source": [
    "# word share\n",
    "sns.distplot(new_df[new_df['is_duplicate'] == 0]['word_share'],label='non duplicate')\n",
    "sns.distplot(new_df[new_df['is_duplicate'] == 1]['word_share'],label='duplicate')\n",
    "plt.legend()\n",
    "plt.show()"
   ]
  },
  {
   "cell_type": "code",
   "execution_count": 52,
   "metadata": {
    "colab": {
     "base_uri": "https://localhost:8080/",
     "height": 206
    },
    "id": "eAFakWcLSifS",
    "outputId": "f70539a1-5da4-4d34-f2a9-566ccf597fc4"
   },
   "outputs": [
    {
     "data": {
      "text/html": [
       "<div>\n",
       "<style scoped>\n",
       "    .dataframe tbody tr th:only-of-type {\n",
       "        vertical-align: middle;\n",
       "    }\n",
       "\n",
       "    .dataframe tbody tr th {\n",
       "        vertical-align: top;\n",
       "    }\n",
       "\n",
       "    .dataframe thead th {\n",
       "        text-align: right;\n",
       "    }\n",
       "</style>\n",
       "<table border=\"1\" class=\"dataframe\">\n",
       "  <thead>\n",
       "    <tr style=\"text-align: right;\">\n",
       "      <th></th>\n",
       "      <th>question1</th>\n",
       "      <th>question2</th>\n",
       "    </tr>\n",
       "  </thead>\n",
       "  <tbody>\n",
       "    <tr>\n",
       "      <th>233924</th>\n",
       "      <td>What are the uses of iPhone?</td>\n",
       "      <td>What do you use your iPhone for?</td>\n",
       "    </tr>\n",
       "    <tr>\n",
       "      <th>240940</th>\n",
       "      <td>For the LinkedIn Connection network graph how ...</td>\n",
       "      <td>What are good ways to find all the possible pa...</td>\n",
       "    </tr>\n",
       "    <tr>\n",
       "      <th>371221</th>\n",
       "      <td>Who are the richest people in the world?</td>\n",
       "      <td>Who are the richest people in the world and wh...</td>\n",
       "    </tr>\n",
       "    <tr>\n",
       "      <th>146536</th>\n",
       "      <td>What are the 11 dimensions in string theory?</td>\n",
       "      <td>Different theories state there are either 10 o...</td>\n",
       "    </tr>\n",
       "    <tr>\n",
       "      <th>350406</th>\n",
       "      <td>How can you differentiate between a democracy ...</td>\n",
       "      <td>What is difference between democracy and repulic?</td>\n",
       "    </tr>\n",
       "  </tbody>\n",
       "</table>\n",
       "</div>"
      ],
      "text/plain": [
       "                                                question1  \\\n",
       "233924                       What are the uses of iPhone?   \n",
       "240940  For the LinkedIn Connection network graph how ...   \n",
       "371221           Who are the richest people in the world?   \n",
       "146536       What are the 11 dimensions in string theory?   \n",
       "350406  How can you differentiate between a democracy ...   \n",
       "\n",
       "                                                question2  \n",
       "233924                   What do you use your iPhone for?  \n",
       "240940  What are good ways to find all the possible pa...  \n",
       "371221  Who are the richest people in the world and wh...  \n",
       "146536  Different theories state there are either 10 o...  \n",
       "350406  What is difference between democracy and repulic?  "
      ]
     },
     "execution_count": 52,
     "metadata": {},
     "output_type": "execute_result"
    }
   ],
   "source": [
    "ques_df=new_df[['question1','question2']]\n",
    "ques_df.head()"
   ]
  },
  {
   "cell_type": "code",
   "execution_count": 53,
   "metadata": {
    "colab": {
     "base_uri": "https://localhost:8080/",
     "height": 223
    },
    "id": "ybdj1LTITIF6",
    "outputId": "7efcafcc-c011-4294-b95c-26eec0d7b2da"
   },
   "outputs": [
    {
     "name": "stdout",
     "output_type": "stream",
     "text": [
      "(30000, 8)\n"
     ]
    },
    {
     "data": {
      "text/html": [
       "<div>\n",
       "<style scoped>\n",
       "    .dataframe tbody tr th:only-of-type {\n",
       "        vertical-align: middle;\n",
       "    }\n",
       "\n",
       "    .dataframe tbody tr th {\n",
       "        vertical-align: top;\n",
       "    }\n",
       "\n",
       "    .dataframe thead th {\n",
       "        text-align: right;\n",
       "    }\n",
       "</style>\n",
       "<table border=\"1\" class=\"dataframe\">\n",
       "  <thead>\n",
       "    <tr style=\"text-align: right;\">\n",
       "      <th></th>\n",
       "      <th>is_duplicate</th>\n",
       "      <th>q1_len</th>\n",
       "      <th>q2_len</th>\n",
       "      <th>q1_num_words</th>\n",
       "      <th>q2_num_words</th>\n",
       "      <th>word_common</th>\n",
       "      <th>word_total</th>\n",
       "      <th>word_share</th>\n",
       "    </tr>\n",
       "  </thead>\n",
       "  <tbody>\n",
       "    <tr>\n",
       "      <th>233924</th>\n",
       "      <td>0</td>\n",
       "      <td>28</td>\n",
       "      <td>32</td>\n",
       "      <td>6</td>\n",
       "      <td>7</td>\n",
       "      <td>1</td>\n",
       "      <td>13</td>\n",
       "      <td>0.08</td>\n",
       "    </tr>\n",
       "    <tr>\n",
       "      <th>240940</th>\n",
       "      <td>0</td>\n",
       "      <td>106</td>\n",
       "      <td>88</td>\n",
       "      <td>19</td>\n",
       "      <td>17</td>\n",
       "      <td>3</td>\n",
       "      <td>33</td>\n",
       "      <td>0.09</td>\n",
       "    </tr>\n",
       "    <tr>\n",
       "      <th>371221</th>\n",
       "      <td>1</td>\n",
       "      <td>40</td>\n",
       "      <td>60</td>\n",
       "      <td>8</td>\n",
       "      <td>13</td>\n",
       "      <td>6</td>\n",
       "      <td>19</td>\n",
       "      <td>0.32</td>\n",
       "    </tr>\n",
       "    <tr>\n",
       "      <th>146536</th>\n",
       "      <td>0</td>\n",
       "      <td>44</td>\n",
       "      <td>149</td>\n",
       "      <td>8</td>\n",
       "      <td>25</td>\n",
       "      <td>4</td>\n",
       "      <td>31</td>\n",
       "      <td>0.13</td>\n",
       "    </tr>\n",
       "    <tr>\n",
       "      <th>350406</th>\n",
       "      <td>1</td>\n",
       "      <td>69</td>\n",
       "      <td>49</td>\n",
       "      <td>11</td>\n",
       "      <td>7</td>\n",
       "      <td>3</td>\n",
       "      <td>17</td>\n",
       "      <td>0.18</td>\n",
       "    </tr>\n",
       "  </tbody>\n",
       "</table>\n",
       "</div>"
      ],
      "text/plain": [
       "        is_duplicate  q1_len  q2_len  q1_num_words  q2_num_words  word_common  \\\n",
       "233924             0      28      32             6             7            1   \n",
       "240940             0     106      88            19            17            3   \n",
       "371221             1      40      60             8            13            6   \n",
       "146536             0      44     149             8            25            4   \n",
       "350406             1      69      49            11             7            3   \n",
       "\n",
       "        word_total  word_share  \n",
       "233924          13        0.08  \n",
       "240940          33        0.09  \n",
       "371221          19        0.32  \n",
       "146536          31        0.13  \n",
       "350406          17        0.18  "
      ]
     },
     "execution_count": 53,
     "metadata": {},
     "output_type": "execute_result"
    }
   ],
   "source": [
    "final_df=new_df.drop(columns=['id','qid1','qid2','question1','question2'])\n",
    "print(final_df.shape)\n",
    "final_df.head()"
   ]
  },
  {
   "cell_type": "code",
   "execution_count": 54,
   "metadata": {
    "id": "dC0iXxJXUZTV"
   },
   "outputs": [],
   "source": [
    "from sklearn.feature_extraction.text import CountVectorizer\n",
    "questions=list(ques_df['question1'])+list(ques_df['question2'])\n",
    "cv=CountVectorizer(max_features=3000)\n",
    "q1_arr,q2_arr=np.vsplit(cv.fit_transform(questions).toarray(),2)"
   ]
  },
  {
   "cell_type": "code",
   "execution_count": 55,
   "metadata": {
    "colab": {
     "base_uri": "https://localhost:8080/"
    },
    "id": "StB8WE3kVe7g",
    "outputId": "f076cd59-a128-4a9d-f00f-8e8bef443e1f"
   },
   "outputs": [
    {
     "data": {
      "text/plain": [
       "(30000, 6000)"
      ]
     },
     "execution_count": 55,
     "metadata": {},
     "output_type": "execute_result"
    }
   ],
   "source": [
    "temp_df1=pd.DataFrame(q1_arr,index=ques_df.index)\n",
    "temp_df2=pd.DataFrame(q2_arr,index=ques_df.index)\n",
    "temp_df=pd.concat([temp_df1,temp_df2],axis=1)\n",
    "temp_df.shape"
   ]
  },
  {
   "cell_type": "code",
   "execution_count": 56,
   "metadata": {
    "colab": {
     "base_uri": "https://localhost:8080/",
     "height": 273
    },
    "id": "Zd_8UxrbV7YH",
    "outputId": "61079f6c-f5c1-470b-e802-764ea8a77674"
   },
   "outputs": [
    {
     "name": "stdout",
     "output_type": "stream",
     "text": [
      "(30000, 6008)\n"
     ]
    },
    {
     "data": {
      "text/html": [
       "<div>\n",
       "<style scoped>\n",
       "    .dataframe tbody tr th:only-of-type {\n",
       "        vertical-align: middle;\n",
       "    }\n",
       "\n",
       "    .dataframe tbody tr th {\n",
       "        vertical-align: top;\n",
       "    }\n",
       "\n",
       "    .dataframe thead th {\n",
       "        text-align: right;\n",
       "    }\n",
       "</style>\n",
       "<table border=\"1\" class=\"dataframe\">\n",
       "  <thead>\n",
       "    <tr style=\"text-align: right;\">\n",
       "      <th></th>\n",
       "      <th>is_duplicate</th>\n",
       "      <th>q1_len</th>\n",
       "      <th>q2_len</th>\n",
       "      <th>q1_num_words</th>\n",
       "      <th>q2_num_words</th>\n",
       "      <th>word_common</th>\n",
       "      <th>word_total</th>\n",
       "      <th>word_share</th>\n",
       "      <th>0</th>\n",
       "      <th>1</th>\n",
       "      <th>...</th>\n",
       "      <th>2990</th>\n",
       "      <th>2991</th>\n",
       "      <th>2992</th>\n",
       "      <th>2993</th>\n",
       "      <th>2994</th>\n",
       "      <th>2995</th>\n",
       "      <th>2996</th>\n",
       "      <th>2997</th>\n",
       "      <th>2998</th>\n",
       "      <th>2999</th>\n",
       "    </tr>\n",
       "  </thead>\n",
       "  <tbody>\n",
       "    <tr>\n",
       "      <th>233924</th>\n",
       "      <td>0</td>\n",
       "      <td>28</td>\n",
       "      <td>32</td>\n",
       "      <td>6</td>\n",
       "      <td>7</td>\n",
       "      <td>1</td>\n",
       "      <td>13</td>\n",
       "      <td>0.08</td>\n",
       "      <td>0</td>\n",
       "      <td>0</td>\n",
       "      <td>...</td>\n",
       "      <td>0</td>\n",
       "      <td>1</td>\n",
       "      <td>0</td>\n",
       "      <td>0</td>\n",
       "      <td>1</td>\n",
       "      <td>0</td>\n",
       "      <td>0</td>\n",
       "      <td>0</td>\n",
       "      <td>0</td>\n",
       "      <td>0</td>\n",
       "    </tr>\n",
       "    <tr>\n",
       "      <th>240940</th>\n",
       "      <td>0</td>\n",
       "      <td>106</td>\n",
       "      <td>88</td>\n",
       "      <td>19</td>\n",
       "      <td>17</td>\n",
       "      <td>3</td>\n",
       "      <td>33</td>\n",
       "      <td>0.09</td>\n",
       "      <td>0</td>\n",
       "      <td>0</td>\n",
       "      <td>...</td>\n",
       "      <td>0</td>\n",
       "      <td>0</td>\n",
       "      <td>0</td>\n",
       "      <td>0</td>\n",
       "      <td>0</td>\n",
       "      <td>0</td>\n",
       "      <td>0</td>\n",
       "      <td>0</td>\n",
       "      <td>0</td>\n",
       "      <td>0</td>\n",
       "    </tr>\n",
       "    <tr>\n",
       "      <th>371221</th>\n",
       "      <td>1</td>\n",
       "      <td>40</td>\n",
       "      <td>60</td>\n",
       "      <td>8</td>\n",
       "      <td>13</td>\n",
       "      <td>6</td>\n",
       "      <td>19</td>\n",
       "      <td>0.32</td>\n",
       "      <td>0</td>\n",
       "      <td>0</td>\n",
       "      <td>...</td>\n",
       "      <td>0</td>\n",
       "      <td>0</td>\n",
       "      <td>0</td>\n",
       "      <td>0</td>\n",
       "      <td>0</td>\n",
       "      <td>0</td>\n",
       "      <td>0</td>\n",
       "      <td>0</td>\n",
       "      <td>0</td>\n",
       "      <td>0</td>\n",
       "    </tr>\n",
       "    <tr>\n",
       "      <th>146536</th>\n",
       "      <td>0</td>\n",
       "      <td>44</td>\n",
       "      <td>149</td>\n",
       "      <td>8</td>\n",
       "      <td>25</td>\n",
       "      <td>4</td>\n",
       "      <td>31</td>\n",
       "      <td>0.13</td>\n",
       "      <td>0</td>\n",
       "      <td>0</td>\n",
       "      <td>...</td>\n",
       "      <td>0</td>\n",
       "      <td>0</td>\n",
       "      <td>0</td>\n",
       "      <td>0</td>\n",
       "      <td>0</td>\n",
       "      <td>0</td>\n",
       "      <td>0</td>\n",
       "      <td>0</td>\n",
       "      <td>0</td>\n",
       "      <td>0</td>\n",
       "    </tr>\n",
       "    <tr>\n",
       "      <th>350406</th>\n",
       "      <td>1</td>\n",
       "      <td>69</td>\n",
       "      <td>49</td>\n",
       "      <td>11</td>\n",
       "      <td>7</td>\n",
       "      <td>3</td>\n",
       "      <td>17</td>\n",
       "      <td>0.18</td>\n",
       "      <td>0</td>\n",
       "      <td>0</td>\n",
       "      <td>...</td>\n",
       "      <td>0</td>\n",
       "      <td>0</td>\n",
       "      <td>0</td>\n",
       "      <td>0</td>\n",
       "      <td>0</td>\n",
       "      <td>0</td>\n",
       "      <td>0</td>\n",
       "      <td>0</td>\n",
       "      <td>0</td>\n",
       "      <td>0</td>\n",
       "    </tr>\n",
       "  </tbody>\n",
       "</table>\n",
       "<p>5 rows × 6008 columns</p>\n",
       "</div>"
      ],
      "text/plain": [
       "        is_duplicate  q1_len  q2_len  q1_num_words  q2_num_words  word_common  \\\n",
       "233924             0      28      32             6             7            1   \n",
       "240940             0     106      88            19            17            3   \n",
       "371221             1      40      60             8            13            6   \n",
       "146536             0      44     149             8            25            4   \n",
       "350406             1      69      49            11             7            3   \n",
       "\n",
       "        word_total  word_share  0  1  ...  2990  2991  2992  2993  2994  2995  \\\n",
       "233924          13        0.08  0  0  ...     0     1     0     0     1     0   \n",
       "240940          33        0.09  0  0  ...     0     0     0     0     0     0   \n",
       "371221          19        0.32  0  0  ...     0     0     0     0     0     0   \n",
       "146536          31        0.13  0  0  ...     0     0     0     0     0     0   \n",
       "350406          17        0.18  0  0  ...     0     0     0     0     0     0   \n",
       "\n",
       "        2996  2997  2998  2999  \n",
       "233924     0     0     0     0  \n",
       "240940     0     0     0     0  \n",
       "371221     0     0     0     0  \n",
       "146536     0     0     0     0  \n",
       "350406     0     0     0     0  \n",
       "\n",
       "[5 rows x 6008 columns]"
      ]
     },
     "execution_count": 56,
     "metadata": {},
     "output_type": "execute_result"
    }
   ],
   "source": [
    "final_df=pd.concat([final_df,temp_df],axis=1)\n",
    "print(final_df.shape)\n",
    "final_df.head()"
   ]
  },
  {
   "cell_type": "code",
   "execution_count": 57,
   "metadata": {
    "id": "xM2slO8kWNv6"
   },
   "outputs": [],
   "source": [
    "from sklearn.model_selection import train_test_split\n",
    "X_train,X_test,y_train,y_test = train_test_split(final_df.iloc[:,1:].values,final_df.iloc[:,0].values,test_size=0.2,random_state=1)"
   ]
  },
  {
   "cell_type": "code",
   "execution_count": 58,
   "metadata": {
    "colab": {
     "base_uri": "https://localhost:8080/"
    },
    "id": "M4fpUUTfWbS_",
    "outputId": "fb1034ac-0686-43df-b0d2-76227b98da5c"
   },
   "outputs": [
    {
     "data": {
      "text/plain": [
       "0.7638333333333334"
      ]
     },
     "execution_count": 58,
     "metadata": {},
     "output_type": "execute_result"
    }
   ],
   "source": [
    "from sklearn.ensemble import RandomForestClassifier\n",
    "from sklearn.metrics import accuracy_score\n",
    "rf = RandomForestClassifier()\n",
    "rf.fit(X_train,y_train)\n",
    "y_pred = rf.predict(X_test)\n",
    "accuracy_score(y_test,y_pred)"
   ]
  },
  {
   "cell_type": "code",
   "execution_count": 59,
   "metadata": {
    "colab": {
     "base_uri": "https://localhost:8080/"
    },
    "id": "6AyOXUUxWf_F",
    "outputId": "6c50a822-1aca-48ba-aa8e-5b914c1d0bc7"
   },
   "outputs": [
    {
     "data": {
      "text/plain": [
       "0.761"
      ]
     },
     "execution_count": 59,
     "metadata": {},
     "output_type": "execute_result"
    }
   ],
   "source": [
    "from xgboost import XGBClassifier\n",
    "xgb = XGBClassifier()\n",
    "xgb.fit(X_train,y_train)\n",
    "y_pred = xgb.predict(X_test)\n",
    "accuracy_score(y_test,y_pred)"
   ]
  },
  {
   "cell_type": "code",
   "execution_count": 60,
   "metadata": {
    "id": "sWYHlJ8SXmqC"
   },
   "outputs": [],
   "source": [
    "import re\n",
    "from bs4 import BeautifulSoup\n",
    "\n",
    "import warnings\n",
    "warnings.filterwarnings('ignore')"
   ]
  },
  {
   "cell_type": "code",
   "execution_count": 61,
   "metadata": {
    "id": "e9308rCGW4n3"
   },
   "outputs": [],
   "source": [
    "def preprocess(q):\n",
    "\n",
    "    q = str(q).lower().strip()\n",
    "\n",
    "    # Replace certain special characters with their string equivalents\n",
    "    q = q.replace('%', ' percent')\n",
    "    q = q.replace('$', ' dollar ')\n",
    "    q = q.replace('₹', ' rupee ')\n",
    "    q = q.replace('€', ' euro ')\n",
    "    q = q.replace('@', ' at ')\n",
    "\n",
    "    # The pattern '[math]' appears around 900 times in the whole dataset.\n",
    "    q = q.replace('[math]', '')\n",
    "\n",
    "    # Replacing some numbers with string equivalents (not perfect, can be done better to account for more cases)\n",
    "    q = q.replace(',000,000,000 ', 'b ')\n",
    "    q = q.replace(',000,000 ', 'm ')\n",
    "    q = q.replace(',000 ', 'k ')\n",
    "    q = re.sub(r'([0-9]+)000000000', r'\\1b', q)\n",
    "    q = re.sub(r'([0-9]+)000000', r'\\1m', q)\n",
    "    q = re.sub(r'([0-9]+)000', r'\\1k', q)\n",
    "\n",
    "    # Decontracting words\n",
    "    # https://en.wikipedia.org/wiki/Wikipedia%3aList_of_English_contractions\n",
    "    # https://stackoverflow.com/a/19794953\n",
    "    contractions = {\n",
    "    \"ain't\": \"am not\",\n",
    "    \"aren't\": \"are not\",\n",
    "    \"can't\": \"can not\",\n",
    "    \"can't've\": \"can not have\",\n",
    "    \"'cause\": \"because\",\n",
    "    \"could've\": \"could have\",\n",
    "    \"couldn't\": \"could not\",\n",
    "    \"couldn't've\": \"could not have\",\n",
    "    \"didn't\": \"did not\",\n",
    "    \"doesn't\": \"does not\",\n",
    "    \"don't\": \"do not\",\n",
    "    \"hadn't\": \"had not\",\n",
    "    \"hadn't've\": \"had not have\",\n",
    "    \"hasn't\": \"has not\",\n",
    "    \"haven't\": \"have not\",\n",
    "    \"he'd\": \"he would\",\n",
    "    \"he'd've\": \"he would have\",\n",
    "    \"he'll\": \"he will\",\n",
    "    \"he'll've\": \"he will have\",\n",
    "    \"he's\": \"he is\",\n",
    "    \"how'd\": \"how did\",\n",
    "    \"how'd'y\": \"how do you\",\n",
    "    \"how'll\": \"how will\",\n",
    "    \"how's\": \"how is\",\n",
    "    \"i'd\": \"i would\",\n",
    "    \"i'd've\": \"i would have\",\n",
    "    \"i'll\": \"i will\",\n",
    "    \"i'll've\": \"i will have\",\n",
    "    \"i'm\": \"i am\",\n",
    "    \"i've\": \"i have\",\n",
    "    \"isn't\": \"is not\",\n",
    "    \"it'd\": \"it would\",\n",
    "    \"it'd've\": \"it would have\",\n",
    "    \"it'll\": \"it will\",\n",
    "    \"it'll've\": \"it will have\",\n",
    "    \"it's\": \"it is\",\n",
    "    \"let's\": \"let us\",\n",
    "    \"ma'am\": \"madam\",\n",
    "    \"mayn't\": \"may not\",\n",
    "    \"might've\": \"might have\",\n",
    "    \"mightn't\": \"might not\",\n",
    "    \"mightn't've\": \"might not have\",\n",
    "    \"must've\": \"must have\",\n",
    "    \"mustn't\": \"must not\",\n",
    "    \"mustn't've\": \"must not have\",\n",
    "    \"needn't\": \"need not\",\n",
    "    \"needn't've\": \"need not have\",\n",
    "    \"o'clock\": \"of the clock\",\n",
    "    \"oughtn't\": \"ought not\",\n",
    "    \"oughtn't've\": \"ought not have\",\n",
    "    \"shan't\": \"shall not\",\n",
    "    \"sha'n't\": \"shall not\",\n",
    "    \"shan't've\": \"shall not have\",\n",
    "    \"she'd\": \"she would\",\n",
    "    \"she'd've\": \"she would have\",\n",
    "    \"she'll\": \"she will\",\n",
    "    \"she'll've\": \"she will have\",\n",
    "    \"she's\": \"she is\",\n",
    "    \"should've\": \"should have\",\n",
    "    \"shouldn't\": \"should not\",\n",
    "    \"shouldn't've\": \"should not have\",\n",
    "    \"so've\": \"so have\",\n",
    "    \"so's\": \"so as\",\n",
    "    \"that'd\": \"that would\",\n",
    "    \"that'd've\": \"that would have\",\n",
    "    \"that's\": \"that is\",\n",
    "    \"there'd\": \"there would\",\n",
    "    \"there'd've\": \"there would have\",\n",
    "    \"there's\": \"there is\",\n",
    "    \"they'd\": \"they would\",\n",
    "    \"they'd've\": \"they would have\",\n",
    "    \"they'll\": \"they will\",\n",
    "    \"they'll've\": \"they will have\",\n",
    "    \"they're\": \"they are\",\n",
    "    \"they've\": \"they have\",\n",
    "    \"to've\": \"to have\",\n",
    "    \"wasn't\": \"was not\",\n",
    "    \"we'd\": \"we would\",\n",
    "    \"we'd've\": \"we would have\",\n",
    "    \"we'll\": \"we will\",\n",
    "    \"we'll've\": \"we will have\",\n",
    "    \"we're\": \"we are\",\n",
    "    \"we've\": \"we have\",\n",
    "    \"weren't\": \"were not\",\n",
    "    \"what'll\": \"what will\",\n",
    "    \"what'll've\": \"what will have\",\n",
    "    \"what're\": \"what are\",\n",
    "    \"what's\": \"what is\",\n",
    "    \"what've\": \"what have\",\n",
    "    \"when's\": \"when is\",\n",
    "    \"when've\": \"when have\",\n",
    "    \"where'd\": \"where did\",\n",
    "    \"where's\": \"where is\",\n",
    "    \"where've\": \"where have\",\n",
    "    \"who'll\": \"who will\",\n",
    "    \"who'll've\": \"who will have\",\n",
    "    \"who's\": \"who is\",\n",
    "    \"who've\": \"who have\",\n",
    "    \"why's\": \"why is\",\n",
    "    \"why've\": \"why have\",\n",
    "    \"will've\": \"will have\",\n",
    "    \"won't\": \"will not\",\n",
    "    \"won't've\": \"will not have\",\n",
    "    \"would've\": \"would have\",\n",
    "    \"wouldn't\": \"would not\",\n",
    "    \"wouldn't've\": \"would not have\",\n",
    "    \"y'all\": \"you all\",\n",
    "    \"y'all'd\": \"you all would\",\n",
    "    \"y'all'd've\": \"you all would have\",\n",
    "    \"y'all're\": \"you all are\",\n",
    "    \"y'all've\": \"you all have\",\n",
    "    \"you'd\": \"you would\",\n",
    "    \"you'd've\": \"you would have\",\n",
    "    \"you'll\": \"you will\",\n",
    "    \"you'll've\": \"you will have\",\n",
    "    \"you're\": \"you are\",\n",
    "    \"you've\": \"you have\"\n",
    "    }\n",
    "\n",
    "    q_decontracted = []\n",
    "\n",
    "    for word in q.split():\n",
    "        if word in contractions:\n",
    "            word = contractions[word]\n",
    "\n",
    "        q_decontracted.append(word)\n",
    "\n",
    "    q = ' '.join(q_decontracted)\n",
    "    q = q.replace(\"'ve\", \" have\")\n",
    "    q = q.replace(\"n't\", \" not\")\n",
    "    q = q.replace(\"'re\", \" are\")\n",
    "    q = q.replace(\"'ll\", \" will\")\n",
    "\n",
    "    # Removing HTML tags\n",
    "    q = BeautifulSoup(q)\n",
    "    q = q.get_text()\n",
    "\n",
    "    # Remove punctuations\n",
    "    pattern = re.compile('\\W')\n",
    "    q = re.sub(pattern, ' ', q).strip()\n",
    "\n",
    "\n",
    "    return q\n"
   ]
  },
  {
   "cell_type": "code",
   "execution_count": 62,
   "metadata": {
    "id": "iGfu0dtVXiW0"
   },
   "outputs": [],
   "source": [
    "new_df['question1'] = new_df['question1'].apply(preprocess)\n",
    "new_df['question2'] = new_df['question2'].apply(preprocess)"
   ]
  },
  {
   "cell_type": "code",
   "execution_count": 63,
   "metadata": {
    "colab": {
     "base_uri": "https://localhost:8080/",
     "height": 625
    },
    "id": "F_Cz4fDdYX75",
    "outputId": "7a977da7-8aa4-4a27-8ada-46e637622655"
   },
   "outputs": [
    {
     "data": {
      "text/html": [
       "<div>\n",
       "<style scoped>\n",
       "    .dataframe tbody tr th:only-of-type {\n",
       "        vertical-align: middle;\n",
       "    }\n",
       "\n",
       "    .dataframe tbody tr th {\n",
       "        vertical-align: top;\n",
       "    }\n",
       "\n",
       "    .dataframe thead th {\n",
       "        text-align: right;\n",
       "    }\n",
       "</style>\n",
       "<table border=\"1\" class=\"dataframe\">\n",
       "  <thead>\n",
       "    <tr style=\"text-align: right;\">\n",
       "      <th></th>\n",
       "      <th>id</th>\n",
       "      <th>qid1</th>\n",
       "      <th>qid2</th>\n",
       "      <th>question1</th>\n",
       "      <th>question2</th>\n",
       "      <th>is_duplicate</th>\n",
       "      <th>q1_len</th>\n",
       "      <th>q2_len</th>\n",
       "      <th>q1_num_words</th>\n",
       "      <th>q2_num_words</th>\n",
       "      <th>word_common</th>\n",
       "      <th>word_total</th>\n",
       "      <th>word_share</th>\n",
       "    </tr>\n",
       "  </thead>\n",
       "  <tbody>\n",
       "    <tr>\n",
       "      <th>233924</th>\n",
       "      <td>233924</td>\n",
       "      <td>344292</td>\n",
       "      <td>344293</td>\n",
       "      <td>what are the uses of iphone</td>\n",
       "      <td>what do you use your iphone for</td>\n",
       "      <td>0</td>\n",
       "      <td>28</td>\n",
       "      <td>32</td>\n",
       "      <td>6</td>\n",
       "      <td>7</td>\n",
       "      <td>1</td>\n",
       "      <td>13</td>\n",
       "      <td>0.08</td>\n",
       "    </tr>\n",
       "    <tr>\n",
       "      <th>240940</th>\n",
       "      <td>240940</td>\n",
       "      <td>352865</td>\n",
       "      <td>248783</td>\n",
       "      <td>for the linkedin connection network graph how ...</td>\n",
       "      <td>what are good ways to find all the possible pa...</td>\n",
       "      <td>0</td>\n",
       "      <td>106</td>\n",
       "      <td>88</td>\n",
       "      <td>19</td>\n",
       "      <td>17</td>\n",
       "      <td>3</td>\n",
       "      <td>33</td>\n",
       "      <td>0.09</td>\n",
       "    </tr>\n",
       "    <tr>\n",
       "      <th>371221</th>\n",
       "      <td>371221</td>\n",
       "      <td>71069</td>\n",
       "      <td>501837</td>\n",
       "      <td>who are the richest people in the world</td>\n",
       "      <td>who are the richest people in the world and wh...</td>\n",
       "      <td>1</td>\n",
       "      <td>40</td>\n",
       "      <td>60</td>\n",
       "      <td>8</td>\n",
       "      <td>13</td>\n",
       "      <td>6</td>\n",
       "      <td>19</td>\n",
       "      <td>0.32</td>\n",
       "    </tr>\n",
       "    <tr>\n",
       "      <th>146536</th>\n",
       "      <td>146536</td>\n",
       "      <td>143078</td>\n",
       "      <td>231443</td>\n",
       "      <td>what are the 11 dimensions in string theory</td>\n",
       "      <td>different theories state there are either 10 o...</td>\n",
       "      <td>0</td>\n",
       "      <td>44</td>\n",
       "      <td>149</td>\n",
       "      <td>8</td>\n",
       "      <td>25</td>\n",
       "      <td>4</td>\n",
       "      <td>31</td>\n",
       "      <td>0.13</td>\n",
       "    </tr>\n",
       "    <tr>\n",
       "      <th>350406</th>\n",
       "      <td>350406</td>\n",
       "      <td>13617</td>\n",
       "      <td>141286</td>\n",
       "      <td>how can you differentiate between a democracy ...</td>\n",
       "      <td>what is difference between democracy and repulic</td>\n",
       "      <td>1</td>\n",
       "      <td>69</td>\n",
       "      <td>49</td>\n",
       "      <td>11</td>\n",
       "      <td>7</td>\n",
       "      <td>3</td>\n",
       "      <td>17</td>\n",
       "      <td>0.18</td>\n",
       "    </tr>\n",
       "  </tbody>\n",
       "</table>\n",
       "</div>"
      ],
      "text/plain": [
       "            id    qid1    qid2  \\\n",
       "233924  233924  344292  344293   \n",
       "240940  240940  352865  248783   \n",
       "371221  371221   71069  501837   \n",
       "146536  146536  143078  231443   \n",
       "350406  350406   13617  141286   \n",
       "\n",
       "                                                question1  \\\n",
       "233924                        what are the uses of iphone   \n",
       "240940  for the linkedin connection network graph how ...   \n",
       "371221            who are the richest people in the world   \n",
       "146536        what are the 11 dimensions in string theory   \n",
       "350406  how can you differentiate between a democracy ...   \n",
       "\n",
       "                                                question2  is_duplicate  \\\n",
       "233924                    what do you use your iphone for             0   \n",
       "240940  what are good ways to find all the possible pa...             0   \n",
       "371221  who are the richest people in the world and wh...             1   \n",
       "146536  different theories state there are either 10 o...             0   \n",
       "350406   what is difference between democracy and repulic             1   \n",
       "\n",
       "        q1_len  q2_len  q1_num_words  q2_num_words  word_common  word_total  \\\n",
       "233924      28      32             6             7            1          13   \n",
       "240940     106      88            19            17            3          33   \n",
       "371221      40      60             8            13            6          19   \n",
       "146536      44     149             8            25            4          31   \n",
       "350406      69      49            11             7            3          17   \n",
       "\n",
       "        word_share  \n",
       "233924        0.08  \n",
       "240940        0.09  \n",
       "371221        0.32  \n",
       "146536        0.13  \n",
       "350406        0.18  "
      ]
     },
     "execution_count": 63,
     "metadata": {},
     "output_type": "execute_result"
    }
   ],
   "source": [
    "new_df.head()"
   ]
  },
  {
   "cell_type": "code",
   "execution_count": 64,
   "metadata": {
    "id": "BiotrwdWYfTo"
   },
   "outputs": [],
   "source": [
    "# Advanced Features\n",
    "from nltk.corpus import stopwords\n",
    "\n",
    "def fetch_token_features(row):\n",
    "\n",
    "    q1 = row['question1']\n",
    "    q2 = row['question2']\n",
    "\n",
    "    SAFE_DIV = 0.0001\n",
    "\n",
    "    STOP_WORDS = stopwords.words(\"english\")\n",
    "\n",
    "    token_features = [0.0]*8\n",
    "\n",
    "    # Converting the Sentence into Tokens:\n",
    "    q1_tokens = q1.split()\n",
    "    q2_tokens = q2.split()\n",
    "\n",
    "    if len(q1_tokens) == 0 or len(q2_tokens) == 0:\n",
    "        return token_features\n",
    "\n",
    "    # Get the non-stopwords in Questions\n",
    "    q1_words = set([word for word in q1_tokens if word not in STOP_WORDS])\n",
    "    q2_words = set([word for word in q2_tokens if word not in STOP_WORDS])\n",
    "\n",
    "    #Get the stopwords in Questions\n",
    "    q1_stops = set([word for word in q1_tokens if word in STOP_WORDS])\n",
    "    q2_stops = set([word for word in q2_tokens if word in STOP_WORDS])\n",
    "\n",
    "    # Get the common non-stopwords from Question pair\n",
    "    common_word_count = len(q1_words.intersection(q2_words))\n",
    "\n",
    "    # Get the common stopwords from Question pair\n",
    "    common_stop_count = len(q1_stops.intersection(q2_stops))\n",
    "\n",
    "    # Get the common Tokens from Question pair\n",
    "    common_token_count = len(set(q1_tokens).intersection(set(q2_tokens)))\n",
    "\n",
    "\n",
    "    token_features[0] = common_word_count / (min(len(q1_words), len(q2_words)) + SAFE_DIV)\n",
    "    token_features[1] = common_word_count / (max(len(q1_words), len(q2_words)) + SAFE_DIV)\n",
    "    token_features[2] = common_stop_count / (min(len(q1_stops), len(q2_stops)) + SAFE_DIV)\n",
    "    token_features[3] = common_stop_count / (max(len(q1_stops), len(q2_stops)) + SAFE_DIV)\n",
    "    token_features[4] = common_token_count / (min(len(q1_tokens), len(q2_tokens)) + SAFE_DIV)\n",
    "    token_features[5] = common_token_count / (max(len(q1_tokens), len(q2_tokens)) + SAFE_DIV)\n",
    "\n",
    "    # Last word of both question is same or not\n",
    "    token_features[6] = int(q1_tokens[-1] == q2_tokens[-1])\n",
    "\n",
    "    # First word of both question is same or not\n",
    "    token_features[7] = int(q1_tokens[0] == q2_tokens[0])\n",
    "\n",
    "    return token_features"
   ]
  },
  {
   "cell_type": "code",
   "execution_count": 65,
   "metadata": {
    "colab": {
     "base_uri": "https://localhost:8080/"
    },
    "id": "Yul1NvzGY1OP",
    "outputId": "f9d00cbe-e4c1-45d6-a537-b636d0f0cb73"
   },
   "outputs": [
    {
     "name": "stderr",
     "output_type": "stream",
     "text": [
      "[nltk_data] Downloading package stopwords to\n",
      "[nltk_data]     /home/palashdas/nltk_data...\n",
      "[nltk_data]   Package stopwords is already up-to-date!\n"
     ]
    },
    {
     "data": {
      "text/plain": [
       "True"
      ]
     },
     "execution_count": 65,
     "metadata": {},
     "output_type": "execute_result"
    }
   ],
   "source": [
    "import nltk\n",
    "nltk.download('stopwords')"
   ]
  },
  {
   "cell_type": "code",
   "execution_count": 66,
   "metadata": {
    "id": "FdBHWirHYtZ0"
   },
   "outputs": [],
   "source": [
    "token_features = new_df.apply(fetch_token_features, axis=1)\n",
    "\n",
    "new_df[\"cwc_min\"]       = list(map(lambda x: x[0], token_features))\n",
    "new_df[\"cwc_max\"]       = list(map(lambda x: x[1], token_features))\n",
    "new_df[\"csc_min\"]       = list(map(lambda x: x[2], token_features))\n",
    "new_df[\"csc_max\"]       = list(map(lambda x: x[3], token_features))\n",
    "new_df[\"ctc_min\"]       = list(map(lambda x: x[4], token_features))\n",
    "new_df[\"ctc_max\"]       = list(map(lambda x: x[5], token_features))\n",
    "new_df[\"last_word_eq\"]  = list(map(lambda x: x[6], token_features))\n",
    "new_df[\"first_word_eq\"] = list(map(lambda x: x[7], token_features))"
   ]
  },
  {
   "cell_type": "code",
   "execution_count": 67,
   "metadata": {
    "colab": {
     "base_uri": "https://localhost:8080/",
     "height": 654
    },
    "id": "S9ixPXJeYy7m",
    "outputId": "cb9496ae-59e9-4f35-fd89-850a36190e15"
   },
   "outputs": [
    {
     "data": {
      "text/html": [
       "<div>\n",
       "<style scoped>\n",
       "    .dataframe tbody tr th:only-of-type {\n",
       "        vertical-align: middle;\n",
       "    }\n",
       "\n",
       "    .dataframe tbody tr th {\n",
       "        vertical-align: top;\n",
       "    }\n",
       "\n",
       "    .dataframe thead th {\n",
       "        text-align: right;\n",
       "    }\n",
       "</style>\n",
       "<table border=\"1\" class=\"dataframe\">\n",
       "  <thead>\n",
       "    <tr style=\"text-align: right;\">\n",
       "      <th></th>\n",
       "      <th>id</th>\n",
       "      <th>qid1</th>\n",
       "      <th>qid2</th>\n",
       "      <th>question1</th>\n",
       "      <th>question2</th>\n",
       "      <th>is_duplicate</th>\n",
       "      <th>q1_len</th>\n",
       "      <th>q2_len</th>\n",
       "      <th>q1_num_words</th>\n",
       "      <th>q2_num_words</th>\n",
       "      <th>...</th>\n",
       "      <th>word_total</th>\n",
       "      <th>word_share</th>\n",
       "      <th>cwc_min</th>\n",
       "      <th>cwc_max</th>\n",
       "      <th>csc_min</th>\n",
       "      <th>csc_max</th>\n",
       "      <th>ctc_min</th>\n",
       "      <th>ctc_max</th>\n",
       "      <th>last_word_eq</th>\n",
       "      <th>first_word_eq</th>\n",
       "    </tr>\n",
       "  </thead>\n",
       "  <tbody>\n",
       "    <tr>\n",
       "      <th>233924</th>\n",
       "      <td>233924</td>\n",
       "      <td>344292</td>\n",
       "      <td>344293</td>\n",
       "      <td>what are the uses of iphone</td>\n",
       "      <td>what do you use your iphone for</td>\n",
       "      <td>0</td>\n",
       "      <td>28</td>\n",
       "      <td>32</td>\n",
       "      <td>6</td>\n",
       "      <td>7</td>\n",
       "      <td>...</td>\n",
       "      <td>13</td>\n",
       "      <td>0.08</td>\n",
       "      <td>0.499975</td>\n",
       "      <td>0.499975</td>\n",
       "      <td>0.249994</td>\n",
       "      <td>0.199996</td>\n",
       "      <td>0.333328</td>\n",
       "      <td>0.285710</td>\n",
       "      <td>0</td>\n",
       "      <td>1</td>\n",
       "    </tr>\n",
       "    <tr>\n",
       "      <th>240940</th>\n",
       "      <td>240940</td>\n",
       "      <td>352865</td>\n",
       "      <td>248783</td>\n",
       "      <td>for the linkedin connection network graph how ...</td>\n",
       "      <td>what are good ways to find all the possible pa...</td>\n",
       "      <td>0</td>\n",
       "      <td>106</td>\n",
       "      <td>88</td>\n",
       "      <td>19</td>\n",
       "      <td>17</td>\n",
       "      <td>...</td>\n",
       "      <td>33</td>\n",
       "      <td>0.09</td>\n",
       "      <td>0.222220</td>\n",
       "      <td>0.222220</td>\n",
       "      <td>0.333328</td>\n",
       "      <td>0.249997</td>\n",
       "      <td>0.235293</td>\n",
       "      <td>0.210525</td>\n",
       "      <td>0</td>\n",
       "      <td>0</td>\n",
       "    </tr>\n",
       "    <tr>\n",
       "      <th>371221</th>\n",
       "      <td>371221</td>\n",
       "      <td>71069</td>\n",
       "      <td>501837</td>\n",
       "      <td>who are the richest people in the world</td>\n",
       "      <td>who are the richest people in the world and wh...</td>\n",
       "      <td>1</td>\n",
       "      <td>40</td>\n",
       "      <td>60</td>\n",
       "      <td>8</td>\n",
       "      <td>13</td>\n",
       "      <td>...</td>\n",
       "      <td>19</td>\n",
       "      <td>0.32</td>\n",
       "      <td>0.999967</td>\n",
       "      <td>0.999967</td>\n",
       "      <td>0.999975</td>\n",
       "      <td>0.499994</td>\n",
       "      <td>0.874989</td>\n",
       "      <td>0.538457</td>\n",
       "      <td>0</td>\n",
       "      <td>1</td>\n",
       "    </tr>\n",
       "    <tr>\n",
       "      <th>146536</th>\n",
       "      <td>146536</td>\n",
       "      <td>143078</td>\n",
       "      <td>231443</td>\n",
       "      <td>what are the 11 dimensions in string theory</td>\n",
       "      <td>different theories state there are either 10 o...</td>\n",
       "      <td>0</td>\n",
       "      <td>44</td>\n",
       "      <td>149</td>\n",
       "      <td>8</td>\n",
       "      <td>25</td>\n",
       "      <td>...</td>\n",
       "      <td>31</td>\n",
       "      <td>0.13</td>\n",
       "      <td>0.499988</td>\n",
       "      <td>0.153845</td>\n",
       "      <td>0.749981</td>\n",
       "      <td>0.333330</td>\n",
       "      <td>0.624992</td>\n",
       "      <td>0.199999</td>\n",
       "      <td>0</td>\n",
       "      <td>0</td>\n",
       "    </tr>\n",
       "    <tr>\n",
       "      <th>350406</th>\n",
       "      <td>350406</td>\n",
       "      <td>13617</td>\n",
       "      <td>141286</td>\n",
       "      <td>how can you differentiate between a democracy ...</td>\n",
       "      <td>what is difference between democracy and repulic</td>\n",
       "      <td>1</td>\n",
       "      <td>69</td>\n",
       "      <td>49</td>\n",
       "      <td>11</td>\n",
       "      <td>7</td>\n",
       "      <td>...</td>\n",
       "      <td>17</td>\n",
       "      <td>0.18</td>\n",
       "      <td>0.333322</td>\n",
       "      <td>0.249994</td>\n",
       "      <td>0.499988</td>\n",
       "      <td>0.333328</td>\n",
       "      <td>0.428565</td>\n",
       "      <td>0.272725</td>\n",
       "      <td>0</td>\n",
       "      <td>0</td>\n",
       "    </tr>\n",
       "  </tbody>\n",
       "</table>\n",
       "<p>5 rows × 21 columns</p>\n",
       "</div>"
      ],
      "text/plain": [
       "            id    qid1    qid2  \\\n",
       "233924  233924  344292  344293   \n",
       "240940  240940  352865  248783   \n",
       "371221  371221   71069  501837   \n",
       "146536  146536  143078  231443   \n",
       "350406  350406   13617  141286   \n",
       "\n",
       "                                                question1  \\\n",
       "233924                        what are the uses of iphone   \n",
       "240940  for the linkedin connection network graph how ...   \n",
       "371221            who are the richest people in the world   \n",
       "146536        what are the 11 dimensions in string theory   \n",
       "350406  how can you differentiate between a democracy ...   \n",
       "\n",
       "                                                question2  is_duplicate  \\\n",
       "233924                    what do you use your iphone for             0   \n",
       "240940  what are good ways to find all the possible pa...             0   \n",
       "371221  who are the richest people in the world and wh...             1   \n",
       "146536  different theories state there are either 10 o...             0   \n",
       "350406   what is difference between democracy and repulic             1   \n",
       "\n",
       "        q1_len  q2_len  q1_num_words  q2_num_words  ...  word_total  \\\n",
       "233924      28      32             6             7  ...          13   \n",
       "240940     106      88            19            17  ...          33   \n",
       "371221      40      60             8            13  ...          19   \n",
       "146536      44     149             8            25  ...          31   \n",
       "350406      69      49            11             7  ...          17   \n",
       "\n",
       "        word_share   cwc_min   cwc_max   csc_min   csc_max   ctc_min  \\\n",
       "233924        0.08  0.499975  0.499975  0.249994  0.199996  0.333328   \n",
       "240940        0.09  0.222220  0.222220  0.333328  0.249997  0.235293   \n",
       "371221        0.32  0.999967  0.999967  0.999975  0.499994  0.874989   \n",
       "146536        0.13  0.499988  0.153845  0.749981  0.333330  0.624992   \n",
       "350406        0.18  0.333322  0.249994  0.499988  0.333328  0.428565   \n",
       "\n",
       "         ctc_max  last_word_eq  first_word_eq  \n",
       "233924  0.285710             0              1  \n",
       "240940  0.210525             0              0  \n",
       "371221  0.538457             0              1  \n",
       "146536  0.199999             0              0  \n",
       "350406  0.272725             0              0  \n",
       "\n",
       "[5 rows x 21 columns]"
      ]
     },
     "execution_count": 67,
     "metadata": {},
     "output_type": "execute_result"
    }
   ],
   "source": [
    "new_df.head()"
   ]
  },
  {
   "cell_type": "code",
   "execution_count": 68,
   "metadata": {
    "colab": {
     "base_uri": "https://localhost:8080/"
    },
    "id": "KSo2qnVdZNJw",
    "outputId": "afd4a4a1-d3e5-4187-9536-475bd70d4be4"
   },
   "outputs": [
    {
     "name": "stdout",
     "output_type": "stream",
     "text": [
      "Defaulting to user installation because normal site-packages is not writeable\n",
      "Collecting distance\n",
      "  Downloading Distance-0.1.3.tar.gz (180 kB)\n",
      "\u001b[2K     \u001b[90m━━━━━━━━━━━━━━━━━━━━━━━━━━━━━━━━━━━━━━━\u001b[0m \u001b[32m180.3/180.3 kB\u001b[0m \u001b[31m1.2 MB/s\u001b[0m eta \u001b[36m0:00:00\u001b[0ma \u001b[36m0:00:01\u001b[0m\n",
      "\u001b[?25h  Preparing metadata (setup.py) ... \u001b[?25ldone\n",
      "\u001b[?25hBuilding wheels for collected packages: distance\n",
      "  Building wheel for distance (setup.py) ... \u001b[?25ldone\n",
      "\u001b[?25h  Created wheel for distance: filename=Distance-0.1.3-py3-none-any.whl size=16261 sha256=471e3cfd1c9db17c265d66833d0fec476f3935fa9889185d3c8cd1212115557b\n",
      "  Stored in directory: /home/palashdas/.cache/pip/wheels/fb/a8/64/6edcab63ec51512a87cacf9b3563c711ad6b7b05d61b704493\n",
      "Successfully built distance\n",
      "\u001b[33mDEPRECATION: pytorch-lightning 1.6.5 has a non-standard dependency specifier torch>=1.8.*. pip 24.1 will enforce this behaviour change. A possible replacement is to upgrade to a newer version of pytorch-lightning or contact the author to suggest that they release a version with a conforming dependency specifiers. Discussion can be found at https://github.com/pypa/pip/issues/12063\u001b[0m\u001b[33m\n",
      "\u001b[0mInstalling collected packages: distance\n",
      "Successfully installed distance-0.1.3\n"
     ]
    }
   ],
   "source": [
    "!pip install distance"
   ]
  },
  {
   "cell_type": "code",
   "execution_count": 69,
   "metadata": {
    "id": "g38RYYrSZFzu"
   },
   "outputs": [],
   "source": [
    "import distance\n",
    "\n",
    "def fetch_length_features(row):\n",
    "\n",
    "    q1 = row['question1']\n",
    "    q2 = row['question2']\n",
    "\n",
    "    length_features = [0.0]*3\n",
    "\n",
    "    # Converting the Sentence into Tokens:\n",
    "    q1_tokens = q1.split()\n",
    "    q2_tokens = q2.split()\n",
    "\n",
    "    if len(q1_tokens) == 0 or len(q2_tokens) == 0:\n",
    "        return length_features\n",
    "\n",
    "    # Absolute length features\n",
    "    length_features[0] = abs(len(q1_tokens) - len(q2_tokens))\n",
    "\n",
    "    #Average Token Length of both Questions\n",
    "    length_features[1] = (len(q1_tokens) + len(q2_tokens))/2\n",
    "\n",
    "    strs = list(distance.lcsubstrings(q1, q2))\n",
    "    length_features[2] = len(strs[0]) / (min(len(q1), len(q2)) + 1)\n",
    "\n",
    "    return length_features"
   ]
  },
  {
   "cell_type": "code",
   "execution_count": 70,
   "metadata": {
    "id": "03ws8csYZJRc"
   },
   "outputs": [],
   "source": [
    "length_features = new_df.apply(fetch_length_features, axis=1)\n",
    "\n",
    "new_df['abs_len_diff'] = list(map(lambda x: x[0], length_features))\n",
    "new_df['mean_len'] = list(map(lambda x: x[1], length_features))\n",
    "new_df['longest_substr_ratio'] = list(map(lambda x: x[2], length_features))"
   ]
  },
  {
   "cell_type": "code",
   "execution_count": 71,
   "metadata": {
    "colab": {
     "base_uri": "https://localhost:8080/",
     "height": 654
    },
    "id": "PhmolDUtZXYC",
    "outputId": "f3ff88d2-433c-4419-aed2-009d46af002f"
   },
   "outputs": [
    {
     "data": {
      "text/html": [
       "<div>\n",
       "<style scoped>\n",
       "    .dataframe tbody tr th:only-of-type {\n",
       "        vertical-align: middle;\n",
       "    }\n",
       "\n",
       "    .dataframe tbody tr th {\n",
       "        vertical-align: top;\n",
       "    }\n",
       "\n",
       "    .dataframe thead th {\n",
       "        text-align: right;\n",
       "    }\n",
       "</style>\n",
       "<table border=\"1\" class=\"dataframe\">\n",
       "  <thead>\n",
       "    <tr style=\"text-align: right;\">\n",
       "      <th></th>\n",
       "      <th>id</th>\n",
       "      <th>qid1</th>\n",
       "      <th>qid2</th>\n",
       "      <th>question1</th>\n",
       "      <th>question2</th>\n",
       "      <th>is_duplicate</th>\n",
       "      <th>q1_len</th>\n",
       "      <th>q2_len</th>\n",
       "      <th>q1_num_words</th>\n",
       "      <th>q2_num_words</th>\n",
       "      <th>...</th>\n",
       "      <th>cwc_max</th>\n",
       "      <th>csc_min</th>\n",
       "      <th>csc_max</th>\n",
       "      <th>ctc_min</th>\n",
       "      <th>ctc_max</th>\n",
       "      <th>last_word_eq</th>\n",
       "      <th>first_word_eq</th>\n",
       "      <th>abs_len_diff</th>\n",
       "      <th>mean_len</th>\n",
       "      <th>longest_substr_ratio</th>\n",
       "    </tr>\n",
       "  </thead>\n",
       "  <tbody>\n",
       "    <tr>\n",
       "      <th>233924</th>\n",
       "      <td>233924</td>\n",
       "      <td>344292</td>\n",
       "      <td>344293</td>\n",
       "      <td>what are the uses of iphone</td>\n",
       "      <td>what do you use your iphone for</td>\n",
       "      <td>0</td>\n",
       "      <td>28</td>\n",
       "      <td>32</td>\n",
       "      <td>6</td>\n",
       "      <td>7</td>\n",
       "      <td>...</td>\n",
       "      <td>0.499975</td>\n",
       "      <td>0.249994</td>\n",
       "      <td>0.199996</td>\n",
       "      <td>0.333328</td>\n",
       "      <td>0.285710</td>\n",
       "      <td>0</td>\n",
       "      <td>1</td>\n",
       "      <td>1</td>\n",
       "      <td>6.5</td>\n",
       "      <td>0.250000</td>\n",
       "    </tr>\n",
       "    <tr>\n",
       "      <th>240940</th>\n",
       "      <td>240940</td>\n",
       "      <td>352865</td>\n",
       "      <td>248783</td>\n",
       "      <td>for the linkedin connection network graph how ...</td>\n",
       "      <td>what are good ways to find all the possible pa...</td>\n",
       "      <td>0</td>\n",
       "      <td>106</td>\n",
       "      <td>88</td>\n",
       "      <td>19</td>\n",
       "      <td>17</td>\n",
       "      <td>...</td>\n",
       "      <td>0.222220</td>\n",
       "      <td>0.333328</td>\n",
       "      <td>0.249997</td>\n",
       "      <td>0.235293</td>\n",
       "      <td>0.210525</td>\n",
       "      <td>0</td>\n",
       "      <td>0</td>\n",
       "      <td>2</td>\n",
       "      <td>18.0</td>\n",
       "      <td>0.079545</td>\n",
       "    </tr>\n",
       "    <tr>\n",
       "      <th>371221</th>\n",
       "      <td>371221</td>\n",
       "      <td>71069</td>\n",
       "      <td>501837</td>\n",
       "      <td>who are the richest people in the world</td>\n",
       "      <td>who are the richest people in the world and wh...</td>\n",
       "      <td>1</td>\n",
       "      <td>40</td>\n",
       "      <td>60</td>\n",
       "      <td>8</td>\n",
       "      <td>13</td>\n",
       "      <td>...</td>\n",
       "      <td>0.999967</td>\n",
       "      <td>0.999975</td>\n",
       "      <td>0.499994</td>\n",
       "      <td>0.874989</td>\n",
       "      <td>0.538457</td>\n",
       "      <td>0</td>\n",
       "      <td>1</td>\n",
       "      <td>5</td>\n",
       "      <td>10.5</td>\n",
       "      <td>0.975000</td>\n",
       "    </tr>\n",
       "    <tr>\n",
       "      <th>146536</th>\n",
       "      <td>146536</td>\n",
       "      <td>143078</td>\n",
       "      <td>231443</td>\n",
       "      <td>what are the 11 dimensions in string theory</td>\n",
       "      <td>different theories state there are either 10 o...</td>\n",
       "      <td>0</td>\n",
       "      <td>44</td>\n",
       "      <td>149</td>\n",
       "      <td>8</td>\n",
       "      <td>25</td>\n",
       "      <td>...</td>\n",
       "      <td>0.153845</td>\n",
       "      <td>0.749981</td>\n",
       "      <td>0.333330</td>\n",
       "      <td>0.624992</td>\n",
       "      <td>0.199999</td>\n",
       "      <td>0</td>\n",
       "      <td>0</td>\n",
       "      <td>17</td>\n",
       "      <td>16.5</td>\n",
       "      <td>0.295455</td>\n",
       "    </tr>\n",
       "    <tr>\n",
       "      <th>350406</th>\n",
       "      <td>350406</td>\n",
       "      <td>13617</td>\n",
       "      <td>141286</td>\n",
       "      <td>how can you differentiate between a democracy ...</td>\n",
       "      <td>what is difference between democracy and repulic</td>\n",
       "      <td>1</td>\n",
       "      <td>69</td>\n",
       "      <td>49</td>\n",
       "      <td>11</td>\n",
       "      <td>7</td>\n",
       "      <td>...</td>\n",
       "      <td>0.249994</td>\n",
       "      <td>0.499988</td>\n",
       "      <td>0.333328</td>\n",
       "      <td>0.428565</td>\n",
       "      <td>0.272725</td>\n",
       "      <td>0</td>\n",
       "      <td>0</td>\n",
       "      <td>4</td>\n",
       "      <td>9.0</td>\n",
       "      <td>0.306122</td>\n",
       "    </tr>\n",
       "  </tbody>\n",
       "</table>\n",
       "<p>5 rows × 24 columns</p>\n",
       "</div>"
      ],
      "text/plain": [
       "            id    qid1    qid2  \\\n",
       "233924  233924  344292  344293   \n",
       "240940  240940  352865  248783   \n",
       "371221  371221   71069  501837   \n",
       "146536  146536  143078  231443   \n",
       "350406  350406   13617  141286   \n",
       "\n",
       "                                                question1  \\\n",
       "233924                        what are the uses of iphone   \n",
       "240940  for the linkedin connection network graph how ...   \n",
       "371221            who are the richest people in the world   \n",
       "146536        what are the 11 dimensions in string theory   \n",
       "350406  how can you differentiate between a democracy ...   \n",
       "\n",
       "                                                question2  is_duplicate  \\\n",
       "233924                    what do you use your iphone for             0   \n",
       "240940  what are good ways to find all the possible pa...             0   \n",
       "371221  who are the richest people in the world and wh...             1   \n",
       "146536  different theories state there are either 10 o...             0   \n",
       "350406   what is difference between democracy and repulic             1   \n",
       "\n",
       "        q1_len  q2_len  q1_num_words  q2_num_words  ...   cwc_max   csc_min  \\\n",
       "233924      28      32             6             7  ...  0.499975  0.249994   \n",
       "240940     106      88            19            17  ...  0.222220  0.333328   \n",
       "371221      40      60             8            13  ...  0.999967  0.999975   \n",
       "146536      44     149             8            25  ...  0.153845  0.749981   \n",
       "350406      69      49            11             7  ...  0.249994  0.499988   \n",
       "\n",
       "         csc_max   ctc_min   ctc_max  last_word_eq  first_word_eq  \\\n",
       "233924  0.199996  0.333328  0.285710             0              1   \n",
       "240940  0.249997  0.235293  0.210525             0              0   \n",
       "371221  0.499994  0.874989  0.538457             0              1   \n",
       "146536  0.333330  0.624992  0.199999             0              0   \n",
       "350406  0.333328  0.428565  0.272725             0              0   \n",
       "\n",
       "        abs_len_diff  mean_len  longest_substr_ratio  \n",
       "233924             1       6.5              0.250000  \n",
       "240940             2      18.0              0.079545  \n",
       "371221             5      10.5              0.975000  \n",
       "146536            17      16.5              0.295455  \n",
       "350406             4       9.0              0.306122  \n",
       "\n",
       "[5 rows x 24 columns]"
      ]
     },
     "execution_count": 71,
     "metadata": {},
     "output_type": "execute_result"
    }
   ],
   "source": [
    "new_df.head()"
   ]
  },
  {
   "cell_type": "code",
   "execution_count": 72,
   "metadata": {
    "colab": {
     "base_uri": "https://localhost:8080/"
    },
    "id": "p4NfjCKyZuuI",
    "outputId": "ea7260a2-aa73-4354-e926-fc0b853d031a"
   },
   "outputs": [
    {
     "name": "stdout",
     "output_type": "stream",
     "text": [
      "Defaulting to user installation because normal site-packages is not writeable\n",
      "Collecting fuzzywuzzy\n",
      "  Downloading fuzzywuzzy-0.18.0-py2.py3-none-any.whl.metadata (4.9 kB)\n",
      "Downloading fuzzywuzzy-0.18.0-py2.py3-none-any.whl (18 kB)\n",
      "\u001b[33mDEPRECATION: pytorch-lightning 1.6.5 has a non-standard dependency specifier torch>=1.8.*. pip 24.1 will enforce this behaviour change. A possible replacement is to upgrade to a newer version of pytorch-lightning or contact the author to suggest that they release a version with a conforming dependency specifiers. Discussion can be found at https://github.com/pypa/pip/issues/12063\u001b[0m\u001b[33m\n",
      "\u001b[0mInstalling collected packages: fuzzywuzzy\n",
      "Successfully installed fuzzywuzzy-0.18.0\n"
     ]
    }
   ],
   "source": [
    "!pip install fuzzywuzzy"
   ]
  },
  {
   "cell_type": "code",
   "execution_count": 73,
   "metadata": {
    "id": "eoglpWMvZpgV"
   },
   "outputs": [],
   "source": [
    "# Fuzzy Features\n",
    "from fuzzywuzzy import fuzz\n",
    "\n",
    "def fetch_fuzzy_features(row):\n",
    "\n",
    "    q1 = row['question1']\n",
    "    q2 = row['question2']\n",
    "\n",
    "    fuzzy_features = [0.0]*4\n",
    "\n",
    "    # fuzz_ratio\n",
    "    fuzzy_features[0] = fuzz.QRatio(q1, q2)\n",
    "\n",
    "    # fuzz_partial_ratio\n",
    "    fuzzy_features[1] = fuzz.partial_ratio(q1, q2)\n",
    "\n",
    "    # token_sort_ratio\n",
    "    fuzzy_features[2] = fuzz.token_sort_ratio(q1, q2)\n",
    "\n",
    "    # token_set_ratio\n",
    "    fuzzy_features[3] = fuzz.token_set_ratio(q1, q2)\n",
    "\n",
    "    return fuzzy_features\n"
   ]
  },
  {
   "cell_type": "code",
   "execution_count": 74,
   "metadata": {
    "id": "tWBhkxlXZtA4"
   },
   "outputs": [],
   "source": [
    "fuzzy_features = new_df.apply(fetch_fuzzy_features, axis=1)\n",
    "\n",
    "# Creating new feature columns for fuzzy features\n",
    "new_df['fuzz_ratio'] = list(map(lambda x: x[0], fuzzy_features))\n",
    "new_df['fuzz_partial_ratio'] = list(map(lambda x: x[1], fuzzy_features))\n",
    "new_df['token_sort_ratio'] = list(map(lambda x: x[2], fuzzy_features))\n",
    "new_df['token_set_ratio'] = list(map(lambda x: x[3], fuzzy_features))"
   ]
  },
  {
   "cell_type": "code",
   "execution_count": 75,
   "metadata": {
    "colab": {
     "base_uri": "https://localhost:8080/",
     "height": 672
    },
    "id": "TXTVjnxGZ3OJ",
    "outputId": "d1071ddb-8a15-4c61-c72a-8b2493504b4f"
   },
   "outputs": [
    {
     "name": "stdout",
     "output_type": "stream",
     "text": [
      "(30000, 28)\n"
     ]
    },
    {
     "data": {
      "text/html": [
       "<div>\n",
       "<style scoped>\n",
       "    .dataframe tbody tr th:only-of-type {\n",
       "        vertical-align: middle;\n",
       "    }\n",
       "\n",
       "    .dataframe tbody tr th {\n",
       "        vertical-align: top;\n",
       "    }\n",
       "\n",
       "    .dataframe thead th {\n",
       "        text-align: right;\n",
       "    }\n",
       "</style>\n",
       "<table border=\"1\" class=\"dataframe\">\n",
       "  <thead>\n",
       "    <tr style=\"text-align: right;\">\n",
       "      <th></th>\n",
       "      <th>id</th>\n",
       "      <th>qid1</th>\n",
       "      <th>qid2</th>\n",
       "      <th>question1</th>\n",
       "      <th>question2</th>\n",
       "      <th>is_duplicate</th>\n",
       "      <th>q1_len</th>\n",
       "      <th>q2_len</th>\n",
       "      <th>q1_num_words</th>\n",
       "      <th>q2_num_words</th>\n",
       "      <th>...</th>\n",
       "      <th>ctc_max</th>\n",
       "      <th>last_word_eq</th>\n",
       "      <th>first_word_eq</th>\n",
       "      <th>abs_len_diff</th>\n",
       "      <th>mean_len</th>\n",
       "      <th>longest_substr_ratio</th>\n",
       "      <th>fuzz_ratio</th>\n",
       "      <th>fuzz_partial_ratio</th>\n",
       "      <th>token_sort_ratio</th>\n",
       "      <th>token_set_ratio</th>\n",
       "    </tr>\n",
       "  </thead>\n",
       "  <tbody>\n",
       "    <tr>\n",
       "      <th>233924</th>\n",
       "      <td>233924</td>\n",
       "      <td>344292</td>\n",
       "      <td>344293</td>\n",
       "      <td>what are the uses of iphone</td>\n",
       "      <td>what do you use your iphone for</td>\n",
       "      <td>0</td>\n",
       "      <td>28</td>\n",
       "      <td>32</td>\n",
       "      <td>6</td>\n",
       "      <td>7</td>\n",
       "      <td>...</td>\n",
       "      <td>0.285710</td>\n",
       "      <td>0</td>\n",
       "      <td>1</td>\n",
       "      <td>1</td>\n",
       "      <td>6.5</td>\n",
       "      <td>0.250000</td>\n",
       "      <td>66</td>\n",
       "      <td>70</td>\n",
       "      <td>59</td>\n",
       "      <td>59</td>\n",
       "    </tr>\n",
       "    <tr>\n",
       "      <th>240940</th>\n",
       "      <td>240940</td>\n",
       "      <td>352865</td>\n",
       "      <td>248783</td>\n",
       "      <td>for the linkedin connection network graph how ...</td>\n",
       "      <td>what are good ways to find all the possible pa...</td>\n",
       "      <td>0</td>\n",
       "      <td>106</td>\n",
       "      <td>88</td>\n",
       "      <td>19</td>\n",
       "      <td>17</td>\n",
       "      <td>...</td>\n",
       "      <td>0.210525</td>\n",
       "      <td>0</td>\n",
       "      <td>0</td>\n",
       "      <td>2</td>\n",
       "      <td>18.0</td>\n",
       "      <td>0.079545</td>\n",
       "      <td>31</td>\n",
       "      <td>27</td>\n",
       "      <td>42</td>\n",
       "      <td>45</td>\n",
       "    </tr>\n",
       "    <tr>\n",
       "      <th>371221</th>\n",
       "      <td>371221</td>\n",
       "      <td>71069</td>\n",
       "      <td>501837</td>\n",
       "      <td>who are the richest people in the world</td>\n",
       "      <td>who are the richest people in the world and wh...</td>\n",
       "      <td>1</td>\n",
       "      <td>40</td>\n",
       "      <td>60</td>\n",
       "      <td>8</td>\n",
       "      <td>13</td>\n",
       "      <td>...</td>\n",
       "      <td>0.538457</td>\n",
       "      <td>0</td>\n",
       "      <td>1</td>\n",
       "      <td>5</td>\n",
       "      <td>10.5</td>\n",
       "      <td>0.975000</td>\n",
       "      <td>80</td>\n",
       "      <td>100</td>\n",
       "      <td>80</td>\n",
       "      <td>100</td>\n",
       "    </tr>\n",
       "    <tr>\n",
       "      <th>146536</th>\n",
       "      <td>146536</td>\n",
       "      <td>143078</td>\n",
       "      <td>231443</td>\n",
       "      <td>what are the 11 dimensions in string theory</td>\n",
       "      <td>different theories state there are either 10 o...</td>\n",
       "      <td>0</td>\n",
       "      <td>44</td>\n",
       "      <td>149</td>\n",
       "      <td>8</td>\n",
       "      <td>25</td>\n",
       "      <td>...</td>\n",
       "      <td>0.199999</td>\n",
       "      <td>0</td>\n",
       "      <td>0</td>\n",
       "      <td>17</td>\n",
       "      <td>16.5</td>\n",
       "      <td>0.295455</td>\n",
       "      <td>25</td>\n",
       "      <td>67</td>\n",
       "      <td>40</td>\n",
       "      <td>75</td>\n",
       "    </tr>\n",
       "    <tr>\n",
       "      <th>350406</th>\n",
       "      <td>350406</td>\n",
       "      <td>13617</td>\n",
       "      <td>141286</td>\n",
       "      <td>how can you differentiate between a democracy ...</td>\n",
       "      <td>what is difference between democracy and repulic</td>\n",
       "      <td>1</td>\n",
       "      <td>69</td>\n",
       "      <td>49</td>\n",
       "      <td>11</td>\n",
       "      <td>7</td>\n",
       "      <td>...</td>\n",
       "      <td>0.272725</td>\n",
       "      <td>0</td>\n",
       "      <td>0</td>\n",
       "      <td>4</td>\n",
       "      <td>9.0</td>\n",
       "      <td>0.306122</td>\n",
       "      <td>72</td>\n",
       "      <td>81</td>\n",
       "      <td>71</td>\n",
       "      <td>72</td>\n",
       "    </tr>\n",
       "  </tbody>\n",
       "</table>\n",
       "<p>5 rows × 28 columns</p>\n",
       "</div>"
      ],
      "text/plain": [
       "            id    qid1    qid2  \\\n",
       "233924  233924  344292  344293   \n",
       "240940  240940  352865  248783   \n",
       "371221  371221   71069  501837   \n",
       "146536  146536  143078  231443   \n",
       "350406  350406   13617  141286   \n",
       "\n",
       "                                                question1  \\\n",
       "233924                        what are the uses of iphone   \n",
       "240940  for the linkedin connection network graph how ...   \n",
       "371221            who are the richest people in the world   \n",
       "146536        what are the 11 dimensions in string theory   \n",
       "350406  how can you differentiate between a democracy ...   \n",
       "\n",
       "                                                question2  is_duplicate  \\\n",
       "233924                    what do you use your iphone for             0   \n",
       "240940  what are good ways to find all the possible pa...             0   \n",
       "371221  who are the richest people in the world and wh...             1   \n",
       "146536  different theories state there are either 10 o...             0   \n",
       "350406   what is difference between democracy and repulic             1   \n",
       "\n",
       "        q1_len  q2_len  q1_num_words  q2_num_words  ...   ctc_max  \\\n",
       "233924      28      32             6             7  ...  0.285710   \n",
       "240940     106      88            19            17  ...  0.210525   \n",
       "371221      40      60             8            13  ...  0.538457   \n",
       "146536      44     149             8            25  ...  0.199999   \n",
       "350406      69      49            11             7  ...  0.272725   \n",
       "\n",
       "        last_word_eq  first_word_eq  abs_len_diff  mean_len  \\\n",
       "233924             0              1             1       6.5   \n",
       "240940             0              0             2      18.0   \n",
       "371221             0              1             5      10.5   \n",
       "146536             0              0            17      16.5   \n",
       "350406             0              0             4       9.0   \n",
       "\n",
       "        longest_substr_ratio  fuzz_ratio  fuzz_partial_ratio  \\\n",
       "233924              0.250000          66                  70   \n",
       "240940              0.079545          31                  27   \n",
       "371221              0.975000          80                 100   \n",
       "146536              0.295455          25                  67   \n",
       "350406              0.306122          72                  81   \n",
       "\n",
       "        token_sort_ratio  token_set_ratio  \n",
       "233924                59               59  \n",
       "240940                42               45  \n",
       "371221                80              100  \n",
       "146536                40               75  \n",
       "350406                71               72  \n",
       "\n",
       "[5 rows x 28 columns]"
      ]
     },
     "execution_count": 75,
     "metadata": {},
     "output_type": "execute_result"
    }
   ],
   "source": [
    "print(new_df.shape)\n",
    "new_df.head()"
   ]
  },
  {
   "cell_type": "code",
   "execution_count": 76,
   "metadata": {
    "colab": {
     "base_uri": "https://localhost:8080/",
     "height": 775
    },
    "id": "s2t9CusbaIeL",
    "outputId": "91a7fead-4d36-4003-d92a-8527c7cbf6c1"
   },
   "outputs": [
    {
     "data": {
      "text/plain": [
       "<seaborn.axisgrid.PairGrid at 0x7fa99092a100>"
      ]
     },
     "execution_count": 76,
     "metadata": {},
     "output_type": "execute_result"
    },
    {
     "data": {
      "image/png": "[encoded data removed]",
      "text/plain": [
       "<Figure size 843.611x750 with 12 Axes>"
      ]
     },
     "metadata": {},
     "output_type": "display_data"
    }
   ],
   "source": [
    "sns.pairplot(new_df[['ctc_min', 'cwc_min', 'csc_min', 'is_duplicate']],hue='is_duplicate')"
   ]
  },
  {
   "cell_type": "code",
   "execution_count": 77,
   "metadata": {
    "colab": {
     "base_uri": "https://localhost:8080/",
     "height": 530
    },
    "id": "ipiodzWKaIq1",
    "outputId": "d56a7890-658d-4e84-862d-dd919dedb993"
   },
   "outputs": [
    {
     "data": {
      "text/plain": [
       "<seaborn.axisgrid.PairGrid at 0x7fa7f1134af0>"
      ]
     },
     "execution_count": 77,
     "metadata": {},
     "output_type": "execute_result"
    },
    {
     "data": {
      "image/png": "[encoded data removed]",
      "text/plain": [
       "<Figure size 593.611x500 with 6 Axes>"
      ]
     },
     "metadata": {},
     "output_type": "display_data"
    }
   ],
   "source": [
    "sns.pairplot(new_df[['last_word_eq', 'first_word_eq', 'is_duplicate']],hue='is_duplicate')"
   ]
  },
  {
   "cell_type": "code",
   "execution_count": 78,
   "metadata": {
    "id": "e9RYUInXpRPp"
   },
   "outputs": [],
   "source": [
    "# Using TSNE for Dimentionality reduction for 15 Features(Generated after cleaning the data) to 3 dimention\n",
    "\n",
    "from sklearn.preprocessing import MinMaxScaler\n",
    "\n",
    "X = MinMaxScaler().fit_transform(new_df[['cwc_min', 'cwc_max', 'csc_min', 'csc_max' , 'ctc_min' , 'ctc_max' , 'last_word_eq', 'first_word_eq' , 'abs_len_diff' , 'mean_len' , 'token_set_ratio' , 'token_sort_ratio' ,  'fuzz_ratio' , 'fuzz_partial_ratio' , 'longest_substr_ratio']])\n",
    "y = new_df['is_duplicate'].values"
   ]
  },
  {
   "cell_type": "code",
   "execution_count": 79,
   "metadata": {
    "colab": {
     "base_uri": "https://localhost:8080/"
    },
    "id": "S9jiszF7pWZm",
    "outputId": "d3816719-8516-4fc8-e538-7da1ace16682"
   },
   "outputs": [
    {
     "name": "stdout",
     "output_type": "stream",
     "text": [
      "[t-SNE] Computing 91 nearest neighbors...\n",
      "[t-SNE] Indexed 30000 samples in 0.061s...\n",
      "[t-SNE] Computed neighbors for 30000 samples in 3.828s...\n",
      "[t-SNE] Computed conditional probabilities for sample 1000 / 30000\n",
      "[t-SNE] Computed conditional probabilities for sample 2000 / 30000\n",
      "[t-SNE] Computed conditional probabilities for sample 3000 / 30000\n",
      "[t-SNE] Computed conditional probabilities for sample 4000 / 30000\n",
      "[t-SNE] Computed conditional probabilities for sample 5000 / 30000\n",
      "[t-SNE] Computed conditional probabilities for sample 6000 / 30000\n",
      "[t-SNE] Computed conditional probabilities for sample 7000 / 30000\n",
      "[t-SNE] Computed conditional probabilities for sample 8000 / 30000\n",
      "[t-SNE] Computed conditional probabilities for sample 9000 / 30000\n",
      "[t-SNE] Computed conditional probabilities for sample 10000 / 30000\n",
      "[t-SNE] Computed conditional probabilities for sample 11000 / 30000\n",
      "[t-SNE] Computed conditional probabilities for sample 12000 / 30000\n",
      "[t-SNE] Computed conditional probabilities for sample 13000 / 30000\n",
      "[t-SNE] Computed conditional probabilities for sample 14000 / 30000\n",
      "[t-SNE] Computed conditional probabilities for sample 15000 / 30000\n",
      "[t-SNE] Computed conditional probabilities for sample 16000 / 30000\n",
      "[t-SNE] Computed conditional probabilities for sample 17000 / 30000\n",
      "[t-SNE] Computed conditional probabilities for sample 18000 / 30000\n",
      "[t-SNE] Computed conditional probabilities for sample 19000 / 30000\n",
      "[t-SNE] Computed conditional probabilities for sample 20000 / 30000\n",
      "[t-SNE] Computed conditional probabilities for sample 21000 / 30000\n",
      "[t-SNE] Computed conditional probabilities for sample 22000 / 30000\n",
      "[t-SNE] Computed conditional probabilities for sample 23000 / 30000\n",
      "[t-SNE] Computed conditional probabilities for sample 24000 / 30000\n",
      "[t-SNE] Computed conditional probabilities for sample 25000 / 30000\n",
      "[t-SNE] Computed conditional probabilities for sample 26000 / 30000\n",
      "[t-SNE] Computed conditional probabilities for sample 27000 / 30000\n",
      "[t-SNE] Computed conditional probabilities for sample 28000 / 30000\n",
      "[t-SNE] Computed conditional probabilities for sample 29000 / 30000\n",
      "[t-SNE] Computed conditional probabilities for sample 30000 / 30000\n",
      "[t-SNE] Mean sigma: 0.088362\n",
      "[t-SNE] Computed conditional probabilities in 0.771s\n",
      "[t-SNE] Iteration 50: error = 111.1131134, gradient norm = 0.0000512 (50 iterations in 5.462s)\n",
      "[t-SNE] Iteration 100: error = 93.0949249, gradient norm = 0.0027890 (50 iterations in 5.406s)\n",
      "[t-SNE] Iteration 150: error = 87.2228088, gradient norm = 0.0014435 (50 iterations in 5.438s)\n",
      "[t-SNE] Iteration 200: error = 84.9839096, gradient norm = 0.0009949 (50 iterations in 5.430s)\n",
      "[t-SNE] Iteration 250: error = 83.7252426, gradient norm = 0.0009087 (50 iterations in 5.425s)\n",
      "[t-SNE] KL divergence after 250 iterations with early exaggeration: 83.725243\n",
      "[t-SNE] Iteration 300: error = 3.8521688, gradient norm = 0.0011741 (50 iterations in 5.387s)\n",
      "[t-SNE] Iteration 350: error = 3.3061037, gradient norm = 0.0006669 (50 iterations in 5.360s)\n",
      "[t-SNE] Iteration 400: error = 2.9431148, gradient norm = 0.0004408 (50 iterations in 5.316s)\n",
      "[t-SNE] Iteration 450: error = 2.6958203, gradient norm = 0.0003197 (50 iterations in 5.354s)\n",
      "[t-SNE] Iteration 500: error = 2.5166619, gradient norm = 0.0002482 (50 iterations in 5.438s)\n",
      "[t-SNE] Iteration 550: error = 2.3803053, gradient norm = 0.0002001 (50 iterations in 5.401s)\n",
      "[t-SNE] Iteration 600: error = 2.2726042, gradient norm = 0.0001651 (50 iterations in 5.357s)\n",
      "[t-SNE] Iteration 650: error = 2.1848803, gradient norm = 0.0001401 (50 iterations in 5.438s)\n",
      "[t-SNE] Iteration 700: error = 2.1119239, gradient norm = 0.0001213 (50 iterations in 5.456s)\n",
      "[t-SNE] Iteration 750: error = 2.0504458, gradient norm = 0.0001054 (50 iterations in 5.373s)\n",
      "[t-SNE] Iteration 800: error = 1.9978882, gradient norm = 0.0000931 (50 iterations in 5.451s)\n",
      "[t-SNE] Iteration 850: error = 1.9523842, gradient norm = 0.0000830 (50 iterations in 5.512s)\n",
      "[t-SNE] Iteration 900: error = 1.9126606, gradient norm = 0.0000747 (50 iterations in 5.666s)\n",
      "[t-SNE] Iteration 950: error = 1.8775336, gradient norm = 0.0000679 (50 iterations in 5.668s)\n",
      "[t-SNE] Iteration 1000: error = 1.8463203, gradient norm = 0.0000624 (50 iterations in 5.692s)\n",
      "[t-SNE] KL divergence after 1000 iterations: 1.846320\n"
     ]
    }
   ],
   "source": [
    "from sklearn.manifold import TSNE\n",
    "\n",
    "tsne2d = TSNE(\n",
    "    n_components=2,\n",
    "    init='random', # pca\n",
    "    random_state=101,\n",
    "    method='barnes_hut',\n",
    "    n_iter=1000,\n",
    "    verbose=2,\n",
    "    angle=0.5\n",
    ").fit_transform(X)"
   ]
  },
  {
   "cell_type": "code",
   "execution_count": null,
   "metadata": {
    "id": "_6HDR8eRpZBP"
   },
   "outputs": [],
   "source": []
  },
  {
   "cell_type": "code",
   "execution_count": 80,
   "metadata": {
    "colab": {
     "base_uri": "https://localhost:8080/"
    },
    "id": "BsZuxtompfHi",
    "outputId": "36b9a8b1-d060-4df1-a7f5-3528ad70e2fe"
   },
   "outputs": [
    {
     "name": "stdout",
     "output_type": "stream",
     "text": [
      "[t-SNE] Computing 91 nearest neighbors...\n",
      "[t-SNE] Indexed 30000 samples in 0.051s...\n",
      "[t-SNE] Computed neighbors for 30000 samples in 3.821s...\n",
      "[t-SNE] Computed conditional probabilities for sample 1000 / 30000\n",
      "[t-SNE] Computed conditional probabilities for sample 2000 / 30000\n",
      "[t-SNE] Computed conditional probabilities for sample 3000 / 30000\n",
      "[t-SNE] Computed conditional probabilities for sample 4000 / 30000\n",
      "[t-SNE] Computed conditional probabilities for sample 5000 / 30000\n",
      "[t-SNE] Computed conditional probabilities for sample 6000 / 30000\n",
      "[t-SNE] Computed conditional probabilities for sample 7000 / 30000\n",
      "[t-SNE] Computed conditional probabilities for sample 8000 / 30000\n",
      "[t-SNE] Computed conditional probabilities for sample 9000 / 30000\n",
      "[t-SNE] Computed conditional probabilities for sample 10000 / 30000\n",
      "[t-SNE] Computed conditional probabilities for sample 11000 / 30000\n",
      "[t-SNE] Computed conditional probabilities for sample 12000 / 30000\n",
      "[t-SNE] Computed conditional probabilities for sample 13000 / 30000\n",
      "[t-SNE] Computed conditional probabilities for sample 14000 / 30000\n",
      "[t-SNE] Computed conditional probabilities for sample 15000 / 30000\n",
      "[t-SNE] Computed conditional probabilities for sample 16000 / 30000\n",
      "[t-SNE] Computed conditional probabilities for sample 17000 / 30000\n",
      "[t-SNE] Computed conditional probabilities for sample 18000 / 30000\n",
      "[t-SNE] Computed conditional probabilities for sample 19000 / 30000\n",
      "[t-SNE] Computed conditional probabilities for sample 20000 / 30000\n",
      "[t-SNE] Computed conditional probabilities for sample 21000 / 30000\n",
      "[t-SNE] Computed conditional probabilities for sample 22000 / 30000\n",
      "[t-SNE] Computed conditional probabilities for sample 23000 / 30000\n",
      "[t-SNE] Computed conditional probabilities for sample 24000 / 30000\n",
      "[t-SNE] Computed conditional probabilities for sample 25000 / 30000\n",
      "[t-SNE] Computed conditional probabilities for sample 26000 / 30000\n",
      "[t-SNE] Computed conditional probabilities for sample 27000 / 30000\n",
      "[t-SNE] Computed conditional probabilities for sample 28000 / 30000\n",
      "[t-SNE] Computed conditional probabilities for sample 29000 / 30000\n",
      "[t-SNE] Computed conditional probabilities for sample 30000 / 30000\n",
      "[t-SNE] Mean sigma: 0.088362\n",
      "[t-SNE] Computed conditional probabilities in 0.747s\n",
      "[t-SNE] Iteration 50: error = 111.1132584, gradient norm = 0.0000112 (50 iterations in 6.375s)\n",
      "[t-SNE] Iteration 100: error = 92.3690872, gradient norm = 0.0019577 (50 iterations in 6.429s)\n",
      "[t-SNE] Iteration 150: error = 85.2247086, gradient norm = 0.0007519 (50 iterations in 6.069s)\n",
      "[t-SNE] Iteration 200: error = 83.2995453, gradient norm = 0.0004304 (50 iterations in 6.098s)\n",
      "[t-SNE] Iteration 250: error = 82.3502121, gradient norm = 0.0003138 (50 iterations in 6.074s)\n",
      "[t-SNE] KL divergence after 250 iterations with early exaggeration: 82.350212\n",
      "[t-SNE] Iteration 300: error = 3.5173662, gradient norm = 0.0008389 (50 iterations in 6.143s)\n",
      "[t-SNE] Iteration 350: error = 2.9039705, gradient norm = 0.0003777 (50 iterations in 6.102s)\n",
      "[t-SNE] Iteration 400: error = 2.5320752, gradient norm = 0.0002116 (50 iterations in 6.052s)\n",
      "[t-SNE] Iteration 450: error = 2.2902112, gradient norm = 0.0001364 (50 iterations in 6.096s)\n",
      "[t-SNE] Iteration 500: error = 2.1217599, gradient norm = 0.0000952 (50 iterations in 6.172s)\n",
      "[t-SNE] Iteration 550: error = 1.9980294, gradient norm = 0.0000705 (50 iterations in 6.218s)\n",
      "[t-SNE] Iteration 600: error = 1.9031020, gradient norm = 0.0000545 (50 iterations in 6.285s)\n",
      "[t-SNE] Iteration 650: error = 1.8276483, gradient norm = 0.0000437 (50 iterations in 6.279s)\n",
      "[t-SNE] Iteration 700: error = 1.7661904, gradient norm = 0.0000364 (50 iterations in 6.244s)\n",
      "[t-SNE] Iteration 750: error = 1.7152603, gradient norm = 0.0000309 (50 iterations in 6.344s)\n",
      "[t-SNE] Iteration 800: error = 1.6726072, gradient norm = 0.0000266 (50 iterations in 6.228s)\n",
      "[t-SNE] Iteration 850: error = 1.6365912, gradient norm = 0.0000229 (50 iterations in 6.190s)\n",
      "[t-SNE] Iteration 900: error = 1.6060065, gradient norm = 0.0000207 (50 iterations in 6.230s)\n",
      "[t-SNE] Iteration 950: error = 1.5799054, gradient norm = 0.0000189 (50 iterations in 6.206s)\n",
      "[t-SNE] Iteration 1000: error = 1.5577331, gradient norm = 0.0000177 (50 iterations in 6.250s)\n",
      "[t-SNE] KL divergence after 1000 iterations: 1.557733\n"
     ]
    }
   ],
   "source": [
    "tsne3d = TSNE(\n",
    "    n_components=3,\n",
    "    init='random', # pca\n",
    "    random_state=101,\n",
    "    method='barnes_hut',\n",
    "    n_iter=1000,\n",
    "    verbose=2,\n",
    "    angle=0.5\n",
    ").fit_transform(X)"
   ]
  },
  {
   "cell_type": "code",
   "execution_count": 81,
   "metadata": {
    "colab": {
     "base_uri": "https://localhost:8080/",
     "height": 206
    },
    "id": "rBIJ859DyqNi",
    "outputId": "66dcf4bb-b0ee-461b-9dba-8b6fad05a661"
   },
   "outputs": [
    {
     "data": {
      "text/html": [
       "<div>\n",
       "<style scoped>\n",
       "    .dataframe tbody tr th:only-of-type {\n",
       "        vertical-align: middle;\n",
       "    }\n",
       "\n",
       "    .dataframe tbody tr th {\n",
       "        vertical-align: top;\n",
       "    }\n",
       "\n",
       "    .dataframe thead th {\n",
       "        text-align: right;\n",
       "    }\n",
       "</style>\n",
       "<table border=\"1\" class=\"dataframe\">\n",
       "  <thead>\n",
       "    <tr style=\"text-align: right;\">\n",
       "      <th></th>\n",
       "      <th>question1</th>\n",
       "      <th>question2</th>\n",
       "    </tr>\n",
       "  </thead>\n",
       "  <tbody>\n",
       "    <tr>\n",
       "      <th>233924</th>\n",
       "      <td>what are the uses of iphone</td>\n",
       "      <td>what do you use your iphone for</td>\n",
       "    </tr>\n",
       "    <tr>\n",
       "      <th>240940</th>\n",
       "      <td>for the linkedin connection network graph how ...</td>\n",
       "      <td>what are good ways to find all the possible pa...</td>\n",
       "    </tr>\n",
       "    <tr>\n",
       "      <th>371221</th>\n",
       "      <td>who are the richest people in the world</td>\n",
       "      <td>who are the richest people in the world and wh...</td>\n",
       "    </tr>\n",
       "    <tr>\n",
       "      <th>146536</th>\n",
       "      <td>what are the 11 dimensions in string theory</td>\n",
       "      <td>different theories state there are either 10 o...</td>\n",
       "    </tr>\n",
       "    <tr>\n",
       "      <th>350406</th>\n",
       "      <td>how can you differentiate between a democracy ...</td>\n",
       "      <td>what is difference between democracy and repulic</td>\n",
       "    </tr>\n",
       "  </tbody>\n",
       "</table>\n",
       "</div>"
      ],
      "text/plain": [
       "                                                question1  \\\n",
       "233924                        what are the uses of iphone   \n",
       "240940  for the linkedin connection network graph how ...   \n",
       "371221            who are the richest people in the world   \n",
       "146536        what are the 11 dimensions in string theory   \n",
       "350406  how can you differentiate between a democracy ...   \n",
       "\n",
       "                                                question2  \n",
       "233924                    what do you use your iphone for  \n",
       "240940  what are good ways to find all the possible pa...  \n",
       "371221  who are the richest people in the world and wh...  \n",
       "146536  different theories state there are either 10 o...  \n",
       "350406   what is difference between democracy and repulic  "
      ]
     },
     "execution_count": 81,
     "metadata": {},
     "output_type": "execute_result"
    }
   ],
   "source": [
    "ques_df = new_df[['question1','question2']]\n",
    "ques_df.head()"
   ]
  },
  {
   "cell_type": "code",
   "execution_count": 82,
   "metadata": {
    "colab": {
     "base_uri": "https://localhost:8080/",
     "height": 273
    },
    "id": "BzXu_KlLyqX-",
    "outputId": "0fb116a1-471e-4d20-ae7c-12090e29d432"
   },
   "outputs": [
    {
     "name": "stdout",
     "output_type": "stream",
     "text": [
      "(30000, 23)\n"
     ]
    },
    {
     "data": {
      "text/html": [
       "<div>\n",
       "<style scoped>\n",
       "    .dataframe tbody tr th:only-of-type {\n",
       "        vertical-align: middle;\n",
       "    }\n",
       "\n",
       "    .dataframe tbody tr th {\n",
       "        vertical-align: top;\n",
       "    }\n",
       "\n",
       "    .dataframe thead th {\n",
       "        text-align: right;\n",
       "    }\n",
       "</style>\n",
       "<table border=\"1\" class=\"dataframe\">\n",
       "  <thead>\n",
       "    <tr style=\"text-align: right;\">\n",
       "      <th></th>\n",
       "      <th>is_duplicate</th>\n",
       "      <th>q1_len</th>\n",
       "      <th>q2_len</th>\n",
       "      <th>q1_num_words</th>\n",
       "      <th>q2_num_words</th>\n",
       "      <th>word_common</th>\n",
       "      <th>word_total</th>\n",
       "      <th>word_share</th>\n",
       "      <th>cwc_min</th>\n",
       "      <th>cwc_max</th>\n",
       "      <th>...</th>\n",
       "      <th>ctc_max</th>\n",
       "      <th>last_word_eq</th>\n",
       "      <th>first_word_eq</th>\n",
       "      <th>abs_len_diff</th>\n",
       "      <th>mean_len</th>\n",
       "      <th>longest_substr_ratio</th>\n",
       "      <th>fuzz_ratio</th>\n",
       "      <th>fuzz_partial_ratio</th>\n",
       "      <th>token_sort_ratio</th>\n",
       "      <th>token_set_ratio</th>\n",
       "    </tr>\n",
       "  </thead>\n",
       "  <tbody>\n",
       "    <tr>\n",
       "      <th>233924</th>\n",
       "      <td>0</td>\n",
       "      <td>28</td>\n",
       "      <td>32</td>\n",
       "      <td>6</td>\n",
       "      <td>7</td>\n",
       "      <td>1</td>\n",
       "      <td>13</td>\n",
       "      <td>0.08</td>\n",
       "      <td>0.499975</td>\n",
       "      <td>0.499975</td>\n",
       "      <td>...</td>\n",
       "      <td>0.285710</td>\n",
       "      <td>0</td>\n",
       "      <td>1</td>\n",
       "      <td>1</td>\n",
       "      <td>6.5</td>\n",
       "      <td>0.250000</td>\n",
       "      <td>66</td>\n",
       "      <td>70</td>\n",
       "      <td>59</td>\n",
       "      <td>59</td>\n",
       "    </tr>\n",
       "    <tr>\n",
       "      <th>240940</th>\n",
       "      <td>0</td>\n",
       "      <td>106</td>\n",
       "      <td>88</td>\n",
       "      <td>19</td>\n",
       "      <td>17</td>\n",
       "      <td>3</td>\n",
       "      <td>33</td>\n",
       "      <td>0.09</td>\n",
       "      <td>0.222220</td>\n",
       "      <td>0.222220</td>\n",
       "      <td>...</td>\n",
       "      <td>0.210525</td>\n",
       "      <td>0</td>\n",
       "      <td>0</td>\n",
       "      <td>2</td>\n",
       "      <td>18.0</td>\n",
       "      <td>0.079545</td>\n",
       "      <td>31</td>\n",
       "      <td>27</td>\n",
       "      <td>42</td>\n",
       "      <td>45</td>\n",
       "    </tr>\n",
       "    <tr>\n",
       "      <th>371221</th>\n",
       "      <td>1</td>\n",
       "      <td>40</td>\n",
       "      <td>60</td>\n",
       "      <td>8</td>\n",
       "      <td>13</td>\n",
       "      <td>6</td>\n",
       "      <td>19</td>\n",
       "      <td>0.32</td>\n",
       "      <td>0.999967</td>\n",
       "      <td>0.999967</td>\n",
       "      <td>...</td>\n",
       "      <td>0.538457</td>\n",
       "      <td>0</td>\n",
       "      <td>1</td>\n",
       "      <td>5</td>\n",
       "      <td>10.5</td>\n",
       "      <td>0.975000</td>\n",
       "      <td>80</td>\n",
       "      <td>100</td>\n",
       "      <td>80</td>\n",
       "      <td>100</td>\n",
       "    </tr>\n",
       "    <tr>\n",
       "      <th>146536</th>\n",
       "      <td>0</td>\n",
       "      <td>44</td>\n",
       "      <td>149</td>\n",
       "      <td>8</td>\n",
       "      <td>25</td>\n",
       "      <td>4</td>\n",
       "      <td>31</td>\n",
       "      <td>0.13</td>\n",
       "      <td>0.499988</td>\n",
       "      <td>0.153845</td>\n",
       "      <td>...</td>\n",
       "      <td>0.199999</td>\n",
       "      <td>0</td>\n",
       "      <td>0</td>\n",
       "      <td>17</td>\n",
       "      <td>16.5</td>\n",
       "      <td>0.295455</td>\n",
       "      <td>25</td>\n",
       "      <td>67</td>\n",
       "      <td>40</td>\n",
       "      <td>75</td>\n",
       "    </tr>\n",
       "    <tr>\n",
       "      <th>350406</th>\n",
       "      <td>1</td>\n",
       "      <td>69</td>\n",
       "      <td>49</td>\n",
       "      <td>11</td>\n",
       "      <td>7</td>\n",
       "      <td>3</td>\n",
       "      <td>17</td>\n",
       "      <td>0.18</td>\n",
       "      <td>0.333322</td>\n",
       "      <td>0.249994</td>\n",
       "      <td>...</td>\n",
       "      <td>0.272725</td>\n",
       "      <td>0</td>\n",
       "      <td>0</td>\n",
       "      <td>4</td>\n",
       "      <td>9.0</td>\n",
       "      <td>0.306122</td>\n",
       "      <td>72</td>\n",
       "      <td>81</td>\n",
       "      <td>71</td>\n",
       "      <td>72</td>\n",
       "    </tr>\n",
       "  </tbody>\n",
       "</table>\n",
       "<p>5 rows × 23 columns</p>\n",
       "</div>"
      ],
      "text/plain": [
       "        is_duplicate  q1_len  q2_len  q1_num_words  q2_num_words  word_common  \\\n",
       "233924             0      28      32             6             7            1   \n",
       "240940             0     106      88            19            17            3   \n",
       "371221             1      40      60             8            13            6   \n",
       "146536             0      44     149             8            25            4   \n",
       "350406             1      69      49            11             7            3   \n",
       "\n",
       "        word_total  word_share   cwc_min   cwc_max  ...   ctc_max  \\\n",
       "233924          13        0.08  0.499975  0.499975  ...  0.285710   \n",
       "240940          33        0.09  0.222220  0.222220  ...  0.210525   \n",
       "371221          19        0.32  0.999967  0.999967  ...  0.538457   \n",
       "146536          31        0.13  0.499988  0.153845  ...  0.199999   \n",
       "350406          17        0.18  0.333322  0.249994  ...  0.272725   \n",
       "\n",
       "        last_word_eq  first_word_eq  abs_len_diff  mean_len  \\\n",
       "233924             0              1             1       6.5   \n",
       "240940             0              0             2      18.0   \n",
       "371221             0              1             5      10.5   \n",
       "146536             0              0            17      16.5   \n",
       "350406             0              0             4       9.0   \n",
       "\n",
       "        longest_substr_ratio  fuzz_ratio  fuzz_partial_ratio  \\\n",
       "233924              0.250000          66                  70   \n",
       "240940              0.079545          31                  27   \n",
       "371221              0.975000          80                 100   \n",
       "146536              0.295455          25                  67   \n",
       "350406              0.306122          72                  81   \n",
       "\n",
       "        token_sort_ratio  token_set_ratio  \n",
       "233924                59               59  \n",
       "240940                42               45  \n",
       "371221                80              100  \n",
       "146536                40               75  \n",
       "350406                71               72  \n",
       "\n",
       "[5 rows x 23 columns]"
      ]
     },
     "execution_count": 82,
     "metadata": {},
     "output_type": "execute_result"
    }
   ],
   "source": [
    "final_df = new_df.drop(columns=['id','qid1','qid2','question1','question2'])\n",
    "print(final_df.shape)\n",
    "final_df.head()"
   ]
  },
  {
   "cell_type": "code",
   "execution_count": 83,
   "metadata": {
    "id": "mai01cUOyyAX"
   },
   "outputs": [],
   "source": [
    "from sklearn.feature_extraction.text import CountVectorizer\n",
    "# merge texts\n",
    "questions = list(ques_df['question1']) + list(ques_df['question2'])\n",
    "\n",
    "cv = CountVectorizer(max_features=3000)\n",
    "q1_arr, q2_arr = np.vsplit(cv.fit_transform(questions).toarray(),2)"
   ]
  },
  {
   "cell_type": "code",
   "execution_count": 84,
   "metadata": {
    "colab": {
     "base_uri": "https://localhost:8080/"
    },
    "id": "fYI7fCvmyyD2",
    "outputId": "350acf90-f3ed-4718-8257-d00e16a46276"
   },
   "outputs": [
    {
     "data": {
      "text/plain": [
       "(30000, 6000)"
      ]
     },
     "execution_count": 84,
     "metadata": {},
     "output_type": "execute_result"
    }
   ],
   "source": [
    "temp_df1 = pd.DataFrame(q1_arr, index= ques_df.index)\n",
    "temp_df2 = pd.DataFrame(q2_arr, index= ques_df.index)\n",
    "temp_df = pd.concat([temp_df1, temp_df2], axis=1)\n",
    "temp_df.shape"
   ]
  },
  {
   "cell_type": "code",
   "execution_count": 85,
   "metadata": {
    "colab": {
     "base_uri": "https://localhost:8080/",
     "height": 273
    },
    "id": "IGG5EBUSy3cP",
    "outputId": "b347553a-7ed6-465a-e8d6-57e60398cc70"
   },
   "outputs": [
    {
     "name": "stdout",
     "output_type": "stream",
     "text": [
      "(30000, 6023)\n"
     ]
    },
    {
     "data": {
      "text/html": [
       "<div>\n",
       "<style scoped>\n",
       "    .dataframe tbody tr th:only-of-type {\n",
       "        vertical-align: middle;\n",
       "    }\n",
       "\n",
       "    .dataframe tbody tr th {\n",
       "        vertical-align: top;\n",
       "    }\n",
       "\n",
       "    .dataframe thead th {\n",
       "        text-align: right;\n",
       "    }\n",
       "</style>\n",
       "<table border=\"1\" class=\"dataframe\">\n",
       "  <thead>\n",
       "    <tr style=\"text-align: right;\">\n",
       "      <th></th>\n",
       "      <th>is_duplicate</th>\n",
       "      <th>q1_len</th>\n",
       "      <th>q2_len</th>\n",
       "      <th>q1_num_words</th>\n",
       "      <th>q2_num_words</th>\n",
       "      <th>word_common</th>\n",
       "      <th>word_total</th>\n",
       "      <th>word_share</th>\n",
       "      <th>cwc_min</th>\n",
       "      <th>cwc_max</th>\n",
       "      <th>...</th>\n",
       "      <th>2990</th>\n",
       "      <th>2991</th>\n",
       "      <th>2992</th>\n",
       "      <th>2993</th>\n",
       "      <th>2994</th>\n",
       "      <th>2995</th>\n",
       "      <th>2996</th>\n",
       "      <th>2997</th>\n",
       "      <th>2998</th>\n",
       "      <th>2999</th>\n",
       "    </tr>\n",
       "  </thead>\n",
       "  <tbody>\n",
       "    <tr>\n",
       "      <th>233924</th>\n",
       "      <td>0</td>\n",
       "      <td>28</td>\n",
       "      <td>32</td>\n",
       "      <td>6</td>\n",
       "      <td>7</td>\n",
       "      <td>1</td>\n",
       "      <td>13</td>\n",
       "      <td>0.08</td>\n",
       "      <td>0.499975</td>\n",
       "      <td>0.499975</td>\n",
       "      <td>...</td>\n",
       "      <td>0</td>\n",
       "      <td>1</td>\n",
       "      <td>0</td>\n",
       "      <td>0</td>\n",
       "      <td>1</td>\n",
       "      <td>0</td>\n",
       "      <td>0</td>\n",
       "      <td>0</td>\n",
       "      <td>0</td>\n",
       "      <td>0</td>\n",
       "    </tr>\n",
       "    <tr>\n",
       "      <th>240940</th>\n",
       "      <td>0</td>\n",
       "      <td>106</td>\n",
       "      <td>88</td>\n",
       "      <td>19</td>\n",
       "      <td>17</td>\n",
       "      <td>3</td>\n",
       "      <td>33</td>\n",
       "      <td>0.09</td>\n",
       "      <td>0.222220</td>\n",
       "      <td>0.222220</td>\n",
       "      <td>...</td>\n",
       "      <td>0</td>\n",
       "      <td>0</td>\n",
       "      <td>0</td>\n",
       "      <td>0</td>\n",
       "      <td>0</td>\n",
       "      <td>0</td>\n",
       "      <td>0</td>\n",
       "      <td>0</td>\n",
       "      <td>0</td>\n",
       "      <td>0</td>\n",
       "    </tr>\n",
       "    <tr>\n",
       "      <th>371221</th>\n",
       "      <td>1</td>\n",
       "      <td>40</td>\n",
       "      <td>60</td>\n",
       "      <td>8</td>\n",
       "      <td>13</td>\n",
       "      <td>6</td>\n",
       "      <td>19</td>\n",
       "      <td>0.32</td>\n",
       "      <td>0.999967</td>\n",
       "      <td>0.999967</td>\n",
       "      <td>...</td>\n",
       "      <td>0</td>\n",
       "      <td>0</td>\n",
       "      <td>0</td>\n",
       "      <td>0</td>\n",
       "      <td>0</td>\n",
       "      <td>0</td>\n",
       "      <td>0</td>\n",
       "      <td>0</td>\n",
       "      <td>0</td>\n",
       "      <td>0</td>\n",
       "    </tr>\n",
       "    <tr>\n",
       "      <th>146536</th>\n",
       "      <td>0</td>\n",
       "      <td>44</td>\n",
       "      <td>149</td>\n",
       "      <td>8</td>\n",
       "      <td>25</td>\n",
       "      <td>4</td>\n",
       "      <td>31</td>\n",
       "      <td>0.13</td>\n",
       "      <td>0.499988</td>\n",
       "      <td>0.153845</td>\n",
       "      <td>...</td>\n",
       "      <td>0</td>\n",
       "      <td>0</td>\n",
       "      <td>0</td>\n",
       "      <td>0</td>\n",
       "      <td>0</td>\n",
       "      <td>0</td>\n",
       "      <td>0</td>\n",
       "      <td>0</td>\n",
       "      <td>0</td>\n",
       "      <td>0</td>\n",
       "    </tr>\n",
       "    <tr>\n",
       "      <th>350406</th>\n",
       "      <td>1</td>\n",
       "      <td>69</td>\n",
       "      <td>49</td>\n",
       "      <td>11</td>\n",
       "      <td>7</td>\n",
       "      <td>3</td>\n",
       "      <td>17</td>\n",
       "      <td>0.18</td>\n",
       "      <td>0.333322</td>\n",
       "      <td>0.249994</td>\n",
       "      <td>...</td>\n",
       "      <td>0</td>\n",
       "      <td>0</td>\n",
       "      <td>0</td>\n",
       "      <td>0</td>\n",
       "      <td>0</td>\n",
       "      <td>0</td>\n",
       "      <td>0</td>\n",
       "      <td>0</td>\n",
       "      <td>0</td>\n",
       "      <td>0</td>\n",
       "    </tr>\n",
       "  </tbody>\n",
       "</table>\n",
       "<p>5 rows × 6023 columns</p>\n",
       "</div>"
      ],
      "text/plain": [
       "        is_duplicate  q1_len  q2_len  q1_num_words  q2_num_words  word_common  \\\n",
       "233924             0      28      32             6             7            1   \n",
       "240940             0     106      88            19            17            3   \n",
       "371221             1      40      60             8            13            6   \n",
       "146536             0      44     149             8            25            4   \n",
       "350406             1      69      49            11             7            3   \n",
       "\n",
       "        word_total  word_share   cwc_min   cwc_max  ...  2990  2991  2992  \\\n",
       "233924          13        0.08  0.499975  0.499975  ...     0     1     0   \n",
       "240940          33        0.09  0.222220  0.222220  ...     0     0     0   \n",
       "371221          19        0.32  0.999967  0.999967  ...     0     0     0   \n",
       "146536          31        0.13  0.499988  0.153845  ...     0     0     0   \n",
       "350406          17        0.18  0.333322  0.249994  ...     0     0     0   \n",
       "\n",
       "        2993  2994  2995  2996  2997  2998  2999  \n",
       "233924     0     1     0     0     0     0     0  \n",
       "240940     0     0     0     0     0     0     0  \n",
       "371221     0     0     0     0     0     0     0  \n",
       "146536     0     0     0     0     0     0     0  \n",
       "350406     0     0     0     0     0     0     0  \n",
       "\n",
       "[5 rows x 6023 columns]"
      ]
     },
     "execution_count": 85,
     "metadata": {},
     "output_type": "execute_result"
    }
   ],
   "source": [
    "final_df = pd.concat([final_df, temp_df], axis=1)\n",
    "print(final_df.shape)\n",
    "final_df.head()"
   ]
  },
  {
   "cell_type": "code",
   "execution_count": 86,
   "metadata": {
    "id": "wy3Qf6cbwoyg"
   },
   "outputs": [],
   "source": [
    "def test_common_words(q1,q2):\n",
    "    w1 = set(map(lambda word: word.lower().strip(), q1.split(\" \")))\n",
    "    w2 = set(map(lambda word: word.lower().strip(), q2.split(\" \")))\n",
    "    return len(w1 & w2)"
   ]
  },
  {
   "cell_type": "code",
   "execution_count": 87,
   "metadata": {
    "id": "lDJB0u2fwo9k"
   },
   "outputs": [],
   "source": [
    "def test_total_words(q1,q2):\n",
    "    w1 = set(map(lambda word: word.lower().strip(), q1.split(\" \")))\n",
    "    w2 = set(map(lambda word: word.lower().strip(), q2.split(\" \")))\n",
    "    return (len(w1) + len(w2))"
   ]
  },
  {
   "cell_type": "code",
   "execution_count": 88,
   "metadata": {
    "id": "2NSrfyVWwpAx"
   },
   "outputs": [],
   "source": [
    "def test_fetch_token_features(q1,q2):\n",
    "\n",
    "    SAFE_DIV = 0.0001\n",
    "\n",
    "    STOP_WORDS = stopwords.words(\"english\")\n",
    "\n",
    "    token_features = [0.0]*8\n",
    "\n",
    "    # Converting the Sentence into Tokens:\n",
    "    q1_tokens = q1.split()\n",
    "    q2_tokens = q2.split()\n",
    "\n",
    "    if len(q1_tokens) == 0 or len(q2_tokens) == 0:\n",
    "        return token_features\n",
    "\n",
    "    # Get the non-stopwords in Questions\n",
    "    q1_words = set([word for word in q1_tokens if word not in STOP_WORDS])\n",
    "    q2_words = set([word for word in q2_tokens if word not in STOP_WORDS])\n",
    "\n",
    "    #Get the stopwords in Questions\n",
    "    q1_stops = set([word for word in q1_tokens if word in STOP_WORDS])\n",
    "    q2_stops = set([word for word in q2_tokens if word in STOP_WORDS])\n",
    "\n",
    "    # Get the common non-stopwords from Question pair\n",
    "    common_word_count = len(q1_words.intersection(q2_words))\n",
    "\n",
    "    # Get the common stopwords from Question pair\n",
    "    common_stop_count = len(q1_stops.intersection(q2_stops))\n",
    "\n",
    "    # Get the common Tokens from Question pair\n",
    "    common_token_count = len(set(q1_tokens).intersection(set(q2_tokens)))\n",
    "\n",
    "\n",
    "    token_features[0] = common_word_count / (min(len(q1_words), len(q2_words)) + SAFE_DIV)\n",
    "    token_features[1] = common_word_count / (max(len(q1_words), len(q2_words)) + SAFE_DIV)\n",
    "    token_features[2] = common_stop_count / (min(len(q1_stops), len(q2_stops)) + SAFE_DIV)\n",
    "    token_features[3] = common_stop_count / (max(len(q1_stops), len(q2_stops)) + SAFE_DIV)\n",
    "    token_features[4] = common_token_count / (min(len(q1_tokens), len(q2_tokens)) + SAFE_DIV)\n",
    "    token_features[5] = common_token_count / (max(len(q1_tokens), len(q2_tokens)) + SAFE_DIV)\n",
    "\n",
    "    # Last word of both question is same or not\n",
    "    token_features[6] = int(q1_tokens[-1] == q2_tokens[-1])\n",
    "\n",
    "    # First word of both question is same or not\n",
    "    token_features[7] = int(q1_tokens[0] == q2_tokens[0])\n",
    "\n",
    "    return token_features"
   ]
  },
  {
   "cell_type": "code",
   "execution_count": 89,
   "metadata": {
    "id": "PyLJU6DHwpHv"
   },
   "outputs": [],
   "source": [
    "def test_fetch_length_features(q1,q2):\n",
    "\n",
    "    length_features = [0.0]*3\n",
    "\n",
    "    # Converting the Sentence into Tokens:\n",
    "    q1_tokens = q1.split()\n",
    "    q2_tokens = q2.split()\n",
    "\n",
    "    if len(q1_tokens) == 0 or len(q2_tokens) == 0:\n",
    "        return length_features\n",
    "\n",
    "    # Absolute length features\n",
    "    length_features[0] = abs(len(q1_tokens) - len(q2_tokens))\n",
    "\n",
    "    #Average Token Length of both Questions\n",
    "    length_features[1] = (len(q1_tokens) + len(q2_tokens))/2\n",
    "\n",
    "    strs = list(distance.lcsubstrings(q1, q2))\n",
    "    length_features[2] = len(strs[0]) / (min(len(q1), len(q2)) + 1)\n",
    "\n",
    "    return length_features"
   ]
  },
  {
   "cell_type": "code",
   "execution_count": 90,
   "metadata": {
    "id": "LJXVE0gyw2NM"
   },
   "outputs": [],
   "source": [
    "def test_fetch_fuzzy_features(q1,q2):\n",
    "\n",
    "    fuzzy_features = [0.0]*4\n",
    "\n",
    "    # fuzz_ratio\n",
    "    fuzzy_features[0] = fuzz.QRatio(q1, q2)\n",
    "\n",
    "    # fuzz_partial_ratio\n",
    "    fuzzy_features[1] = fuzz.partial_ratio(q1, q2)\n",
    "\n",
    "    # token_sort_ratio\n",
    "    fuzzy_features[2] = fuzz.token_sort_ratio(q1, q2)\n",
    "\n",
    "    # token_set_ratio\n",
    "    fuzzy_features[3] = fuzz.token_set_ratio(q1, q2)\n",
    "\n",
    "    return fuzzy_features"
   ]
  },
  {
   "cell_type": "code",
   "execution_count": null,
   "metadata": {
    "id": "eIGlqFahw2St"
   },
   "outputs": [],
   "source": []
  },
  {
   "cell_type": "code",
   "execution_count": 91,
   "metadata": {
    "id": "D4JnyjILpfNB"
   },
   "outputs": [],
   "source": [
    "def query_point_creator(q1,q2):\n",
    "\n",
    "    input_query = []\n",
    "\n",
    "    # preprocess\n",
    "    q1 = preprocess(q1)\n",
    "    q2 = preprocess(q2)\n",
    "\n",
    "    # fetch basic features\n",
    "    input_query.append(len(q1))\n",
    "    input_query.append(len(q2))\n",
    "\n",
    "    input_query.append(len(q1.split(\" \")))\n",
    "    input_query.append(len(q2.split(\" \")))\n",
    "\n",
    "    input_query.append(test_common_words(q1,q2))\n",
    "    input_query.append(test_total_words(q1,q2))\n",
    "    input_query.append(round(test_common_words(q1,q2)/test_total_words(q1,q2),2))\n",
    "\n",
    "    # fetch token features\n",
    "    token_features = test_fetch_token_features(q1,q2)\n",
    "    input_query.extend(token_features)\n",
    "\n",
    "    # fetch length based features\n",
    "    length_features = test_fetch_length_features(q1,q2)\n",
    "    input_query.extend(length_features)\n",
    "\n",
    "    # fetch fuzzy features\n",
    "    fuzzy_features = test_fetch_fuzzy_features(q1,q2)\n",
    "    input_query.extend(fuzzy_features)\n",
    "\n",
    "    # bow feature for q1\n",
    "    q1_bow = cv.transform([q1]).toarray()\n",
    "\n",
    "    # bow feature for q2\n",
    "    q2_bow = cv.transform([q2]).toarray()\n",
    "\n",
    "\n",
    "\n",
    "    return np.hstack((np.array(input_query).reshape(1,22),q1_bow,q2_bow))"
   ]
  },
  {
   "cell_type": "code",
   "execution_count": 103,
   "metadata": {
    "id": "2EhvS-O7wJVb"
   },
   "outputs": [],
   "source": [
    "q1 = 'Where is the capital of India?'\n",
    "q2 = 'What is the current capital of Pakistan?'\n",
    "q3 = 'Which city serves as the capital of India?'\n",
    "q4 = 'What is the only capital of India?'"
   ]
  },
  {
   "cell_type": "code",
   "execution_count": null,
   "metadata": {
    "id": "5G3IkmP6yQIl"
   },
   "outputs": [],
   "source": []
  },
  {
   "cell_type": "code",
   "execution_count": 93,
   "metadata": {
    "colab": {
     "base_uri": "https://localhost:8080/",
     "height": 158
    },
    "id": "tglhVCHmxOyB",
    "outputId": "d476daba-6514-43b2-ac71-08d15948010b"
   },
   "outputs": [],
   "source": [
    "from sklearn.model_selection import train_test_split\n",
    "X_train,X_test,y_train,y_test = train_test_split(final_df.iloc[:,1:].values,final_df.iloc[:,0].values,test_size=0.2,random_state=1)"
   ]
  },
  {
   "cell_type": "code",
   "execution_count": 94,
   "metadata": {
    "colab": {
     "base_uri": "https://localhost:8080/"
    },
    "id": "L-acjb-wxWnn",
    "outputId": "38889147-033d-44ce-e96f-e60a6b02ccd4"
   },
   "outputs": [
    {
     "data": {
      "text/plain": [
       "0.7878333333333334"
      ]
     },
     "execution_count": 94,
     "metadata": {},
     "output_type": "execute_result"
    }
   ],
   "source": [
    "from sklearn.ensemble import RandomForestClassifier\n",
    "from sklearn.metrics import accuracy_score\n",
    "rf = RandomForestClassifier()\n",
    "rf.fit(X_train,y_train)\n",
    "y_pred = rf.predict(X_test)\n",
    "accuracy_score(y_test,y_pred)"
   ]
  },
  {
   "cell_type": "code",
   "execution_count": 104,
   "metadata": {
    "colab": {
     "base_uri": "https://localhost:8080/",
     "height": 287
    },
    "id": "g4xrXzzDwWYn",
    "outputId": "9b675f21-4d6f-4ee5-c5c3-3f3afd0aa94e"
   },
   "outputs": [
    {
     "data": {
      "text/plain": [
       "array([1])"
      ]
     },
     "execution_count": 104,
     "metadata": {},
     "output_type": "execute_result"
    }
   ],
   "source": [
    "rf.predict(query_point_creator(q1,q4))"
   ]
  },
  {
   "cell_type": "code",
   "execution_count": 105,
   "metadata": {
    "id": "BFjs-TThwZbC"
   },
   "outputs": [
    {
     "data": {
      "text/plain": [
       "array([0])"
      ]
     },
     "execution_count": 105,
     "metadata": {},
     "output_type": "execute_result"
    }
   ],
   "source": [
    "rf.predict(query_point_creator(q2,q3))"
   ]
  },
  {
   "cell_type": "code",
   "execution_count": null,
   "metadata": {},
   "outputs": [],
   "source": []
  },
  {
   "cell_type": "code",
   "execution_count": null,
   "metadata": {},
   "outputs": [],
   "source": []
  }
 ],
 "metadata": {
  "colab": {
   "provenance": []
  },
  "kernelspec": {
   "display_name": "Python 3 (ipykernel)",
   "language": "python",
   "name": "python3"
  },
  "language_info": {
   "codemirror_mode": {
    "name": "ipython",
    "version": 3
   },
   "file_extension": ".py",
   "mimetype": "text/x-python",
   "name": "python",
   "nbconvert_exporter": "python",
   "pygments_lexer": "ipython3",
   "version": "3.8.10"
  }
 },
 "nbformat": 4,
 "nbformat_minor": 1
}
